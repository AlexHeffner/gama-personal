{
 "cells": [
  {
   "cell_type": "markdown",
   "id": "ecb71dd3-499e-4481-95df-efecc8893339",
   "metadata": {},
   "source": [
    "![EE1024 logo](images/ee1024-logo.png)"
   ]
  },
  {
   "cell_type": "markdown",
   "id": "44b03d00-6f5a-411c-b037-efbd1461e6de",
   "metadata": {},
   "source": [
    "## **Course Description**"
   ]
  },
  {
   "cell_type": "markdown",
   "id": "5ac6bf03-0e92-43a6-a59a-9c7d429bb9bf",
   "metadata": {},
   "source": [
    "EE 1024 will be every student in computer science's first introduction into the basics of computer enginneering. This course will build your knowledge on exactly how computers operate at their lowest level possible. You will learn how computers process data and how they convert numbers to various bases including (decimal, binary, and hexadecimal). Another important topic you will cover in this class is logic and how computers make decisions. As a students in this course you will learn all about Boolean Algebra, Binary Arithmetic, and the charactersistics of Logic Gates which are the building blocks of Computers and Computer Engineering. All students are also required to participate in lab for this course where you can real hands-on experience working with the topics that are taught in lecture."
   ]
  },
  {
   "cell_type": "markdown",
   "id": "06eabeff-181d-4d00-a04a-5a19426a7793",
   "metadata": {},
   "source": [
    "## **What You'll Learn**\n",
    "### **Topic 1**\n",
    "...\n",
    "### **Topic 2**\n",
    "...\n",
    "### **Topic 3**\n",
    "..."
   ]
  },
  {
   "cell_type": "markdown",
   "id": "a331fbf4-4176-428a-8f01-663f9c001d13",
   "metadata": {},
   "source": [
    "## **Conclusion**\n",
    "..."
   ]
  }
 ],
 "metadata": {
  "kernelspec": {
   "display_name": "Python 3 (ipykernel)",
   "language": "python",
   "name": "python3"
  },
  "language_info": {
   "codemirror_mode": {
    "name": "ipython",
    "version": 3
   },
   "file_extension": ".py",
   "mimetype": "text/x-python",
   "name": "python",
   "nbconvert_exporter": "python",
   "pygments_lexer": "ipython3",
   "version": "3.9.9"
  }
 },
 "nbformat": 4,
 "nbformat_minor": 5
}
