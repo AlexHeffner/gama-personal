{
 "cells": [
  {
   "cell_type": "markdown",
   "id": "dca81bd3-bb4c-492b-8157-eeffc6f04966",
   "metadata": {},
   "source": [
    "![Russ College Logo](images/logo.png)"
   ]
  },
  {
   "cell_type": "markdown",
   "id": "38059f74-ba3a-4765-b766-1f83302f51be",
   "metadata": {},
   "source": [
    "<b>\n",
    "    <p style=\"text-align:center;color:#00694E;font-family:copperplate;font-size:40px\">\n",
    "        MATH 2301 - Calculus I\n",
    "    </p>\n",
    "</b>"
   ]
  },
  {
   "cell_type": "markdown",
   "id": "73701f14-1ee1-4d90-a42d-fac5d8d35e21",
   "metadata": {},
   "source": [
    "## **Course Description**\n",
    "..."
   ]
  },
  {
   "cell_type": "markdown",
   "id": "ef9a1e3a-5307-4673-ad78-1b77ef6db25d",
   "metadata": {},
   "source": [
    "## **What You'll Learn**\n",
    "..."
   ]
  },
  {
   "cell_type": "markdown",
   "id": "4fd9c131-4801-4f2b-81e9-2bf509c7743c",
   "metadata": {},
   "source": [
    "### **Example 1**\n",
    "..."
   ]
  },
  {
   "cell_type": "markdown",
   "id": "297cba45-864b-48d9-a716-233a28ac8abc",
   "metadata": {},
   "source": [
    "### **Example 2**\n",
    "..."
   ]
  },
  {
   "cell_type": "markdown",
   "id": "0e197011-0963-4ea3-a8e9-be9414f4f496",
   "metadata": {},
   "source": [
    "### **Example 3**\n",
    "..."
   ]
  },
  {
   "cell_type": "markdown",
   "id": "19700088-e130-406f-8ef9-fc5b9e2d0b09",
   "metadata": {},
   "source": [
    "## **Conclusion**\n",
    "..."
   ]
  },
  {
   "cell_type": "markdown",
   "id": "e261aa9d-c389-4145-99a7-65c5f5ba3f2e",
   "metadata": {},
   "source": [
    "<b>\n",
    "    <p style=\"text-align:center;color:#00694E;font-family:copperplate;font-size:13px\">\n",
    "        Made in 2022 by Gavin Dassatti, Alex Heffner, Matthew Lang, and Aaron Begy\n",
    "    </p>\n",
    "</b>"
   ]
  }
 ],
 "metadata": {
  "kernelspec": {
   "display_name": "Python 3 (ipykernel)",
   "language": "python",
   "name": "python3"
  },
  "language_info": {
   "codemirror_mode": {
    "name": "ipython",
    "version": 3
   },
   "file_extension": ".py",
   "mimetype": "text/x-python",
   "name": "python",
   "nbconvert_exporter": "python",
   "pygments_lexer": "ipython3",
   "version": "3.9.10"
  }
 },
 "nbformat": 4,
 "nbformat_minor": 5
}
