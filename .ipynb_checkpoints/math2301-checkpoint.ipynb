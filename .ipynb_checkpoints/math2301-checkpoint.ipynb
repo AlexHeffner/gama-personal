{
 "cells": [
  {
   "cell_type": "markdown",
   "id": "dca81bd3-bb4c-492b-8157-eeffc6f04966",
   "metadata": {
    "deletable": false,
    "editable": false,
    "tags": []
   },
   "source": [
    "![Russ College Logo](images/logo.png)"
   ]
  },
  {
   "cell_type": "markdown",
   "id": "38059f74-ba3a-4765-b766-1f83302f51be",
   "metadata": {
    "deletable": false,
    "editable": false,
    "tags": []
   },
   "source": [
    "<b>\n",
    "    <p style=\"text-align:center;color:#00694E;font-family:copperplate;font-size:40px\">\n",
    "        MATH 2301 - Calculus I\n",
    "    </p>\n",
    "</b>"
   ]
  },
  {
   "cell_type": "markdown",
   "id": "73701f14-1ee1-4d90-a42d-fac5d8d35e21",
   "metadata": {
    "deletable": false,
    "editable": false,
    "tags": []
   },
   "source": [
    "## **Course Description**\n",
    "MATH 2301 (Calc I) is the first course in calculus and analytic geometry with applications in the sciences and engineering. This class includes basic techniques of differentiation and integration with applications including rates of change, optimization problems, and curve sketching - including exponential, logarithmic and trigonometric functions. Using hand-held calculators is optional and not necessary to do the writing assignments, but you may use them to do calculations and to check your work. Calculators are not required and may not be used on examinations. Each lesson contains one or more reading assignments and a writing assignment, which you are to submit for evaluation."
   ]
  },
  {
   "cell_type": "markdown",
   "id": "ef9a1e3a-5307-4673-ad78-1b77ef6db25d",
   "metadata": {
    "deletable": false,
    "editable": false,
    "tags": []
   },
   "source": [
    "## **What You'll Learn**\n",
    "- Students will learn Limits, Continuity, and Limits Involving Infinity \n",
    "- Students will learn Derivatives: Definition, Rates of Exchange, Tangent Lines, and Derivatives of Basic Function \n",
    "- Students will learn The Product, Quotient, and Chain Rules \n",
    "- Students will learn Implicit Differentiations and Related Rates; Linear Approximations and Differentials \n",
    "- Students will learn Inverse Functions, Exponential and Logarithmic Functions, and Their Derivatives \n",
    "- Students will learn Inverse Trigonometric Functions and Their Differentiations: L’Hôspital’s Rule  "
   ]
  },
  {
   "cell_type": "markdown",
   "id": "4fd9c131-4801-4f2b-81e9-2bf509c7743c",
   "metadata": {
    "deletable": false,
    "editable": false,
    "tags": []
   },
   "source": [
    "### **Introduction To Limits**\n",
    "In mathematics, a limit is defined as a value approaching the output of the given input values by a function. In calculus and mathematical analysis, the limit is important and it is used to describe integrals, derivatives, and continuity. It is used in the research process and is often concerned with the function’s behavior. Assume we have an f(x) function. The value, a function, arrives with the variable x reaching a given value, meaning that the variable a is referred to as its limit. Here, a is an initial value. It’s labeled as lim x ⇢ a f(x) = 1 "
   ]
  },
  {
   "cell_type": "markdown",
   "id": "297cba45-864b-48d9-a716-233a28ac8abc",
   "metadata": {
    "deletable": false,
    "editable": false,
    "tags": []
   },
   "source": [
    "### **Properties Of Limits**\n",
    "- lim x ⇢ a  k = k, where k is a constant quantity\n",
    "- The value of lim x ⇢  a x = a\n",
    "- Value of lim x ⇢ a bx + c = ba + c\n",
    "- lim x ⇢ a xn = an if n is a positive integer.\n",
    "- Value of lim x  ⇢ +0 1/xr  = +∞  \n",
    "- lim x ⇢ −0 1/xr  = −∞, if r is odd\n",
    "- lim x ⇢ −0 1/xr  = +∞, if r is even"
   ]
  },
  {
   "cell_type": "markdown",
   "id": "0e197011-0963-4ea3-a8e9-be9414f4f496",
   "metadata": {
    "deletable": false,
    "editable": false,
    "tags": []
   },
   "source": [
    "### **L’Hôspital’s Rule**\n",
    "L’Hôspital’s Rule tells us that if we have an indeterminate form 0/0 or ∞/∞ , \n",
    " all we need to do is differentiate the numerator and differentiate the denominator and then take the limit.\n",
    " "
   ]
  },
  {
   "cell_type": "markdown",
   "id": "b4a166ae-79b2-4536-a5f8-b087b744d256",
   "metadata": {
    "deletable": false,
    "editable": false,
    "tags": []
   },
   "source": [
    "Checkout this website for a deeper dive into the rule and the location of the graphic below! https://tutorial.math.lamar.edu/classes/calci/lhospitalsrule.aspx"
   ]
  },
  {
   "cell_type": "markdown",
   "id": "2b279e69-a020-4a97-8031-ab804c65ae10",
   "metadata": {
    "deletable": false,
    "editable": false,
    "tags": []
   },
   "source": [
    "![L’Hôspital’s](images/math2301-hospitals.png)"
   ]
  },
  {
   "cell_type": "markdown",
   "id": "c3a76ddb-bd25-45ea-bb75-23c9e8c5ce03",
   "metadata": {
    "deletable": false,
    "editable": false,
    "tags": []
   },
   "source": [
    "### **The Substitution Method**\n",
    "Substitution is a method of determining limits where the value that x is approaching is substituted into the function and the result is evaluated. An asymptote is a line on the graph of a function representing a value toward which the function may approach, but does not reach (with certain exceptions)."
   ]
  },
  {
   "cell_type": "markdown",
   "id": "0cca15a8-1ef4-42fe-b907-c189e49e081d",
   "metadata": {
    "deletable": false,
    "editable": false,
    "tags": []
   },
   "source": [
    "### **Solved Examples**\n",
    "#### **Question 1:** lim x ⇢ 6 x/3 \n",
    "\n",
    "#### **Solution:**\n",
    "\n",
    "This can be easily done using the substitution method  lim x ⇢ 6 x/3 = 6/3 = 2\n",
    "\n",
    "#### **Question 2:** lim x ⇢ 2 x2 – 4/x2 – 2\n",
    "\n",
    "#### **Solution:**\n",
    "\n",
    "x2 – 4 can factorized in (x2 – 22) = ( x – 2 )( x – 2 ) \n",
    "\n",
    "= lim x ⇢ 2 x2 – 4/x2 – 2 \n",
    "\n",
    "= lim x ⇢ 2 (x- 2)(x – 2)/x – 2 = lim x ⇢ 2 x + 2/1\n",
    "\n",
    "= 4/1\n",
    "\n",
    "= 4\n",
    " \n",
    "#### **Question 3:** lim x ⇢ 1/2 2x – 1/4x2 – 1\n",
    "\n",
    "#### **Solution:**\n",
    "\n",
    "4x2 – 1 can be factorized in a (2x2) – (12) = (2x + 1) (2x – 1) \n",
    "\n",
    "Then,\n",
    "\n",
    "= lim x ⇢ 1/2  2x – 1/4x2 – 1\n",
    "\n",
    "= lim x ⇢ 1/2  2x- 1/(2x – 1) (2x + 1)\n",
    "\n",
    "= lim x ⇢ 1/ 2 1/(2x + 1)\n",
    "\n",
    "= 1/2 × (1/2) + 1\n",
    "\n",
    "= 1/2"
   ]
  },
  {
   "cell_type": "markdown",
   "id": "19700088-e130-406f-8ef9-fc5b9e2d0b09",
   "metadata": {
    "deletable": false,
    "editable": false,
    "tags": []
   },
   "source": [
    "## **Conclusion**\n",
    "Calculus is one of the greatest intellectual achievements of humankind. It allows us to solve\n",
    "mathematical problems that cannot be solved by other means, and that in turn allows us to\n",
    "make predictions about the behavior of real-world systems that we could not otherwise make.\n",
    "But beyond its usefulness, calculus has an ability that leads mathematicians to view it\n",
    "as a work of art. A full presentation of calculus requires three one-semester courses. Because many of the most important mathematical methods in the life sciences are calculus-based, it is important to know some calculus in order to proceed and succeed here at Ohio University. In this module we just began to scratch the surface by studying various techniques of solving limits in Calc I. "
   ]
  },
  {
   "cell_type": "markdown",
   "id": "e261aa9d-c389-4145-99a7-65c5f5ba3f2e",
   "metadata": {
    "deletable": false,
    "editable": false,
    "tags": []
   },
   "source": [
    "<b>\n",
    "    <p style=\"text-align:center;color:#00694E;font-family:copperplate;font-size:13px\">\n",
    "        © 2022 GAMA: Gavin Dassatti, Alex Heffner, Matthew Lang, and Aaron Begy. All rights reserved.\n",
    "    </p>\n",
    "</b>"
   ]
  }
 ],
 "metadata": {
  "kernelspec": {
   "display_name": "Python 3 (ipykernel)",
   "language": "python",
   "name": "python3"
  },
  "language_info": {
   "codemirror_mode": {
    "name": "ipython",
    "version": 3
   },
   "file_extension": ".py",
   "mimetype": "text/x-python",
   "name": "python",
   "nbconvert_exporter": "python",
   "pygments_lexer": "ipython3",
   "version": "3.7.12"
  }
 },
 "nbformat": 4,
 "nbformat_minor": 5
}
