{
 "cells": [
  {
   "cell_type": "code",
   "execution_count": null,
   "id": "c3c5872d-7dc5-48b0-b988-80d09649a5df",
   "metadata": {},
   "outputs": [],
   "source": []
  },
  {
   "cell_type": "markdown",
   "id": "bbdcbeef-b432-486c-b0b7-ca92e3fe87b0",
   "metadata": {},
   "source": [
    "## **Course Description**\n",
    "CS 4170 - Data Mining with Applications in the Life Sciences is a computer science elective offered here at Ohio University that is often taken by undergraduate students in their third or fourth year. If you have ever had any interest in mining data or working with data to solve complex problems, CS 4170 would be the perfect course to take to learn more about it. Students in this course will learn all about the Perl programming language and use Perl to design and develop their own custom software to solve real-world life science problems. Some of the topics students will cover in this course include: processing DNA sequences and protein sequences, restriction maps, data pipelines, and the Entrez programming utilities. CS 4170 is an extremely interesting course where students will learn various data mining techniques to help solve modern problems in the life sciences."
   ]
  },
  {
   "cell_type": "markdown",
   "id": "359a0e1b-b08f-40af-9391-265e2537c8ba",
   "metadata": {},
   "source": [
    "## **Learning Outcomes**\n",
    "- Students will gain the ability to develop Perl programs that combine third party tools to form customized data analysis pipelines\n",
    "- Students will gain the ability to use the Perl programming language to architect and construct software packages that solve computational biology problems\n",
    "- Students will gain the ability to develop Perl programs that perform processing of biological sequence data\n",
    "- Students will learn basic concepts of database management\n",
    "- Students will learn about features of the Bioperl libraries"
   ]
  },
  {
   "cell_type": "markdown",
   "id": "de6ac90f-209b-47ec-b59a-1ca92b6e2630",
   "metadata": {},
   "source": [
    "## **What You'll Learn**"
   ]
  },
  {
   "cell_type": "markdown",
   "id": "c9851c43-3f0e-4d06-a4b2-0ca1b7be27d6",
   "metadata": {},
   "source": [
    "- ### **Example 1**"
   ]
  },
  {
   "cell_type": "code",
   "execution_count": 6,
   "id": "9b8e444b-f2c6-4c1d-b03f-d1c153ef6882",
   "metadata": {},
   "outputs": [
    {
     "ename": "IndentationError",
     "evalue": "unindent does not match any outer indentation level (<tokenize>, line 15)",
     "output_type": "error",
     "traceback": [
      "\u001b[0;36m  File \u001b[0;32m\"<tokenize>\"\u001b[0;36m, line \u001b[0;32m15\u001b[0m\n\u001b[0;31m    return count\u001b[0m\n\u001b[0m    ^\u001b[0m\n\u001b[0;31mIndentationError\u001b[0m\u001b[0;31m:\u001b[0m unindent does not match any outer indentation level\n"
     ]
    }
   ],
   "source": [
    "#Import needed libraries\n",
    "import sys\n",
    "from operator import itemgetter\n",
    "#Define mapper\n",
    "def mapper(file):\n",
    "  for line in file.readlines():\n",
    "      line = line.strip()\n",
    "      #Get words\n",
    "      words = line.split()\n",
    "      #Count\n",
    "      count = []\n",
    "      for w in words:\n",
    "          print('%s\\t%s' % (w, 1))\n",
    "          count.append('%s\\t%s' % (w, 1))\n",
    "   return count\n",
    "          \n",
    "#Define reducer\n",
    "def reducer(counts):\n",
    "  current_word = None\n",
    "  current_count = 0\n",
    "  word = None\n",
    "  for line in counts:\n",
    "      line = line.strip()\n",
    "      #The input we got from mapper\n",
    "      word, count = line.split('\\t', 1)\n",
    "      try:\n",
    "          count = int(count)\n",
    "      except ValueError:\n",
    "          continue\n",
    "      # If the word is not None\n",
    "      if current_word == word:\n",
    "          current_count += count\n",
    "      else:\n",
    "          if current_word:\n",
    "              print ('%s\\t%s' % (current_word, current_count))\n",
    "          current_count = count\n",
    "          current_word = word\n",
    "\n",
    "#Use the functions on any txt file\n",
    "file1 = open(\"myfile.txt\",\"r+\") \n",
    "mapped_results = mapper(file1)\n",
    "#Pass to the resucer\n",
    "reducer(mapped_results)"
   ]
  },
  {
   "cell_type": "markdown",
   "id": "38606699-1960-4e27-b718-7a5c52410af7",
   "metadata": {},
   "source": [
    "- ### **Example 2**"
   ]
  },
  {
   "cell_type": "markdown",
   "id": "2bb0e32c-9fd8-409a-8df3-0c73e4692e7b",
   "metadata": {},
   "source": [
    "## **Conclusion**\n",
    "CS 4170 is one of the most interesting computer science electives offered here at Ohio University. If you have ever had any interest working with large data sets, using the Perl programming language, or the solving problems in the life sciences, you should seriously consider taking this course. Being a skilled Perl programmer is a rarity in the job market these days so being able to boast your Perl programming skills and software projects developed in this course could intrigue future employers. Also, one of the best parts about this course in particular is that stduents get to learn how to contribute to the world of life sciences by using software to solve modern day problems."
   ]
  }
 ],
 "metadata": {
  "kernelspec": {
   "display_name": "Python 3 (ipykernel)",
   "language": "python",
   "name": "python3"
  },
  "language_info": {
   "codemirror_mode": {
    "name": "ipython",
    "version": 3
   },
   "file_extension": ".py",
   "mimetype": "text/x-python",
   "name": "python",
   "nbconvert_exporter": "python",
   "pygments_lexer": "ipython3",
   "version": "3.9.7"
  }
 },
 "nbformat": 4,
 "nbformat_minor": 5
}
