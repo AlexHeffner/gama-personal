{
 "cells": [
  {
   "cell_type": "markdown",
   "id": "ae2d3c75-5eb2-466d-9d42-e65cc7ee3ed6",
   "metadata": {},
   "source": [
    "![Russ College Logo](images/logo.png)"
   ]
  },
  {
   "cell_type": "markdown",
   "id": "c5894e0a-61d0-4654-a55e-ba085f5b32e5",
   "metadata": {},
   "source": [
    "<b>\n",
    "    <p style=\"text-align:center;color:#00694E;font-family:copperplate;font-size:40px\">\n",
    "        MATH 3200 - Linear Algebra\n",
    "    </p>\n",
    "</b>"
   ]
  },
  {
   "cell_type": "markdown",
   "id": "13fb431d-c24f-4f46-9f79-7997778f6c3f",
   "metadata": {},
   "source": [
    "## **Course Description**\n",
    "This course focuses on a variety of different topics such as solutions to linear systems, matrices and matrix algebra, determinants, n-dimensional real vector spaces and subspaces, bases and dimension, eigenvalues and eigenvectors, diagonalization, norms, inner product spaces, orthogonality, and least squares problems. This class will help you solve all different kinds of problems. Problems you learn to solve in this class can show up in many of the course taught here, some of which being data structures, Algorithms, Graphics and more. The kind of things that you learn in this class can apply to graphics, image processing, cryptography, machine learning, computer vision, optimization, graph algorithms, quantum computation, computational biology, information retrieval and much more."
   ]
  },
  {
   "cell_type": "markdown",
   "id": "026912e6-33a9-48ee-9bc7-8f2c7a21ceb4",
   "metadata": {},
   "source": [
    "## **What You'll Learn**\n",
    "In mathematics, a matrix (plural matrices) is a rectangular array or table of numbers, symbols, or expressions, arranged in rows and columns, which is used to represent a mathematical object or a property of such an object. This kind of mathematical representation will be used many times throughout the computer science curriculum here at Ohio University and is used in a variety of different ways.\n",
    "In this first example you are going to learn about basic matrix operations like addition, subtraction, and multiplication. This is fundamental to this class because you will be working with matrices throughout the entire class. Secondly you are going to learn about Gaussian elimination which is a technique that is used to solve linear equations. Solving linear equations can apply to a number of different problems and will prove to be useful to you in a number of situations.\n",
    "\n",
    "### **Matrix Operations**\n",
    "\n",
    "#### **Matrix addition**\n",
    "To start off to see if we can add two matrices together, we will first need to check to see if the two matrices have the same dimensions otherwise, we are not able to add them together. To add the matrices we will add the correspond elements in each matrices together to get the summed matrices.\n",
    "<div>\n",
    "<img src=\"images/math3200madd.png\" width=\"500\"/>\n",
    "</div>\n"
   ]
  },
  {
   "cell_type": "markdown",
   "id": "90254408-a38e-4154-af96-0509204b0c54",
   "metadata": {},
   "source": [
    "#### **Matrix Subtraction**\n",
    "For subtraction we will follow the same way as addition. First we want to check that the matrices are the same dimmesnions and then perform subtraction on each of the correspoing elements in the matrices.\n",
    "<div>\n",
    "<img src=\"images/math3200msub.gif\" width=\"250\"/>\n",
    "</div>\n",
    "Here is a bit of code showing how a you can add and subtract two matrices together. See if you can guess the output of the resulting matrix for both adding and subtracting. Uncomment the second result line to see the anser for subtraction."
   ]
  },
  {
   "cell_type": "code",
   "execution_count": 6,
   "id": "e649b2f0-f508-4e82-9f31-005c03a7e708",
   "metadata": {},
   "outputs": [
    {
     "name": "stdout",
     "output_type": "stream",
     "text": [
      "[7, -2]\n",
      "[-1, -1]\n"
     ]
    }
   ],
   "source": [
    "A = [[12,4],\n",
    "    [8,2]]\n",
    "\n",
    "B = [[5,6],\n",
    "    [9,3]]\n",
    "\n",
    "result = [[0,0],\n",
    "         [0,0]]\n",
    "\n",
    "for i in range(len(A)):  # iterates through rows\n",
    "   for j in range(len(B[0])):    # iterates through columns\n",
    "        result[i][j] = A[i][j] + B[i][j]\n",
    "        #result[i][j] = A[i][j] - B[i][j] # uncomment this line to see the results of the subtraction\n",
    "\n",
    "for r in result:\n",
    "   print(r)"
   ]
  },
  {
   "cell_type": "markdown",
   "id": "dc00eb99-e836-494e-a93f-0a4be770dbd7",
   "metadata": {},
   "source": [
    "#### **Matrix Mulitiplication**\n",
    "For matrix multiplication we do something a bit differnt. Fisrt we must check the correct dimmeniosn. Let's say that matrix A has a dimmension n x m, n being number of rows and m being number of colmuns. To muliplt a second matrix B to this one we will have to choose a matrix that had m rows and any number of columns. Lets say our second matrix B will have the dimmenisons i x j, i being number of rows and j being number of columns. For matrix A to be multipled to matrix B, i will have to be the same number as m.\n",
    "\n",
    "Our resulting matrix will end up being a size of n x j, This will make more sense after we step through the muliplicaton process.\n",
    "\n",
    "How do we calculate the resulted matrix? For a single element in the resulting matrix we will want to find the sum of the products of every element in matrix A row multipled by the correspoding elements in the column of matrix B. So if we wanted to find element for row one column one of our resulting matrix we would take each element in row 1 of A and mulitply it by the correspoing element in column 1 of matrix B, then sum up all of the products to get our final answer for element the first element of the first row. if we were looking at row 1 and column 2 of the resulting matrix then we would use row 1 of A and column 2 in B. This process will be done until each element of the resulting matrix is full. Down below is an example of this.\n",
    "<div>\n",
    "<img src=\"images/math3200mm.gif\" width=\"800\"/>\n",
    "</div>\n",
    "Below is a code example of how to mulitply two matrices, see if you can find out what the output is before you run it."
   ]
  },
  {
   "cell_type": "code",
   "execution_count": 11,
   "id": "e9801e89-c22a-4430-8cb3-c450b11df6b2",
   "metadata": {},
   "outputs": [
    {
     "name": "stdout",
     "output_type": "stream",
     "text": [
      "[24, 16]\n",
      "[83, 38]\n"
     ]
    }
   ],
   "source": [
    "A = [[2,4],\n",
    "    [8,3]]\n",
    "\n",
    "B = [[10,4],\n",
    "    [1,2]]\n",
    "\n",
    "result = [[0,0],\n",
    "         [0,0]]\n",
    "result = [[0]*len(B[0]) for i in range(len(A))]\n",
    "\n",
    "for i in range(len(A)): # iterates through the rows of A\n",
    "   for j in range(len(B[0])):   # iterates through the columns of B\n",
    "       for k in range(len(B)):       # iterates through the rows of B\n",
    "           result[i][j] += A[i][k] * B[k][j] #sum of the products\n",
    "\n",
    "for r in result:\n",
    "   print(r)"
   ]
  },
  {
   "cell_type": "markdown",
   "id": "071677d3-ae81-4a23-a7ad-10cf13869476",
   "metadata": {},
   "source": [
    "### **Gaussian elimination**\n",
    "In mathematics, Gaussian elimination is an algorithm for solving systems of linear equations. Systems of linear equations can show up in many places anywhere from investing to planning direction routes, to decided on pulling out a loan. Gauessin elminiation takes a system of equations and represents the coiffectis(including the ansewers) in a matrix and solves the system of equations by appling differnt row operations. There are three main row operations we can use.\n",
    "\n",
    "1. Swapping two rows\n",
    "2. Multiplying a row by a nonzero number\n",
    "3. Adding a multiple of one row to another row\n",
    " \n",
    "In gauessian elimination we will use these operations to obtain a matrix in upper triangular matrix as well as row echelon form.\n",
    "Upper triangle matrix will be a matrix that will have the bottem left of the matrices be all zeros and row echelon form meaning that All rows consisting of only zeroes are at the bottom and The leading coefficient of a nonzero row is always strictly to the right of the leading coefficient of the row above it. At the end we will want reduced row echelon form which will follow all of the rules already stated but that the first coefficent in each row must be a 1.\n",
    "\n",
    "At the end of performing theses seteps you will then be able to solve for one of the variables and then solve for the second third etc.\n",
    "\n",
    "The following example is found from the wikipedia page on gaussian elimination and can be found at: https://en.wikipedia.org/wiki/Gaussian_elimination\n",
    "\n",
    "<div>\n",
    "<img src=\"images/math3200ge.png\" width=\"600\"/>\n",
    "</div>\n",
    "\n",
    "Down below is a code example that will take in a number of unknonw variables and then have the user enter in a system of linear equations and it will give out the answes. Enter in your own system of equations and find out the result by entering in the elements."
   ]
  },
  {
   "cell_type": "code",
   "execution_count": null,
   "id": "989a837a-05ec-492c-ad84-7266ff0c7fa3",
   "metadata": {},
   "outputs": [],
   "source": [
    "#### code is taken from https://www.codesansar.com/numerical-methods/gauss-elimination-method-python-program.htm\n",
    "# Importing NumPy Library\n",
    "import numpy as np\n",
    "import sys\n",
    "\n",
    "# Reading number of unknowns\n",
    "n = int(input('Enter number of unknowns: '))\n",
    "\n",
    "# Making numpy array of n x n+1 size and initializing \n",
    "# to zero for storing augmented matrix\n",
    "a = np.zeros((n,n+1))\n",
    "\n",
    "# Making numpy array of n size and initializing \n",
    "# to zero for storing solution vector\n",
    "x = np.zeros(n)\n",
    "\n",
    "# Reading augmented matrix coefficients\n",
    "print('Enter Augmented Matrix Coefficients:')\n",
    "for i in range(n):\n",
    "    for j in range(n+1):\n",
    "        a[i][j] = float(input( 'a['+str(i)+']['+ str(j)+']='))\n",
    "\n",
    "# Applying Gauss Elimination\n",
    "for i in range(n):\n",
    "    if a[i][i] == 0.0:\n",
    "        sys.exit('Divide by zero detected!')\n",
    "        \n",
    "    for j in range(i+1, n):\n",
    "        ratio = a[j][i]/a[i][i]\n",
    "        \n",
    "        for k in range(n+1):\n",
    "            a[j][k] = a[j][k] - ratio * a[i][k]\n",
    "\n",
    "# Back Substitution\n",
    "x[n-1] = a[n-1][n]/a[n-1][n-1]\n",
    "\n",
    "for i in range(n-2,-1,-1):\n",
    "    x[i] = a[i][n]\n",
    "    \n",
    "    for j in range(i+1,n):\n",
    "        x[i] = x[i] - a[i][j]*x[j]\n",
    "    \n",
    "    x[i] = x[i]/a[i][i]\n",
    "\n",
    "# Displaying solution\n",
    "print('\\nRequired solution is: ')\n",
    "for i in range(n):\n",
    "    print('X%d = %0.2f' %(i,x[i]), end = '\\t')"
   ]
  },
  {
   "cell_type": "markdown",
   "id": "d375039c-1229-40eb-a419-2865a2903573",
   "metadata": {},
   "source": [
    "## **Conclusion**\n",
    "In this notebook, you have learned about basic matrix arithmatic like addition, subtraction, and mulitiplication which is fundemental and helps solve problems in many areas. You have also learned how to perform guassian elimination. This is specific way of solving linear equations. These are some of the fundemental topics that you will learn in the class. Knowing how to manipulate matrices and use them to represent real world applications can help you solve so many problems in computer science. After taking this class you will not be reqired to take any more math classes and you can feel confindednt that you have this math knowlage needed for Ohio universitys computer science ciriculum."
   ]
  },
  {
   "cell_type": "markdown",
   "id": "e32f5076-8469-44ba-aa97-b929ba6abcbc",
   "metadata": {},
   "source": [
    "<b>\n",
    "    <p style=\"text-align:center;color:#00694E;font-family:copperplate;font-size:13px\">\n",
    "        Made in 2022 by Gavin Dassatti, Alex Heffner, Matthew Lang, and Aaron Begy\n",
    "    </p>\n",
    "</b>"
   ]
  }
 ],
 "metadata": {
  "kernelspec": {
   "display_name": "Python 3 (ipykernel)",
   "language": "python",
   "name": "python3"
  },
  "language_info": {
   "codemirror_mode": {
    "name": "ipython",
    "version": 3
   },
   "file_extension": ".py",
   "mimetype": "text/x-python",
   "name": "python",
   "nbconvert_exporter": "python",
   "pygments_lexer": "ipython3",
   "version": "3.8.12"
  }
 },
 "nbformat": 4,
 "nbformat_minor": 5
}
