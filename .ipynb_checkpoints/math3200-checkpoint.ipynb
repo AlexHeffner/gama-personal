{
 "cells": [
  {
   "cell_type": "markdown",
   "id": "ae2d3c75-5eb2-466d-9d42-e65cc7ee3ed6",
   "metadata": {},
   "source": [
    "![Russ College Logo](images/logo.png)"
   ]
  },
  {
   "cell_type": "markdown",
   "id": "c5894e0a-61d0-4654-a55e-ba085f5b32e5",
   "metadata": {},
   "source": [
    "<b>\n",
    "    <p style=\"text-align:center;color:#00694E;font-family:copperplate;font-size:40px\">\n",
    "        MATH 3200 - Linear Algebra\n",
    "    </p>\n",
    "</b>"
   ]
  },
  {
   "cell_type": "markdown",
   "id": "13fb431d-c24f-4f46-9f79-7997778f6c3f",
   "metadata": {},
   "source": [
    "## **Course Description**\n",
    "This course focuses on a varity of differnt topics such as solutions to linear systems, matrices and matrix algebra, determinants, n-dimensional real vector spaces and subspaces, bases and dimension, eigenvalues and eigenvectors, diagonalization, norms, inner product spaces, orthogonality and least squares problems. This class will help you solve all differnt kinds of problemls. Problems you learn to solve in this class can show up in many of the course taught here, some of which being data structures, Algorithims, Graphics and more. The kind of things that you learn in this class can apply to graphics, image processing, cryptography, machine learning, computer vision, optimization, graph algorithms, quantum computation, computational biology, information retrieval and much more."
   ]
  },
  {
   "cell_type": "markdown",
   "id": "1bb74abb-684f-4612-883a-bfd5cbf20ac0",
   "metadata": {},
   "source": [
    "## **Learning Outcomes**"
   ]
  },
  {
   "cell_type": "markdown",
   "id": "026912e6-33a9-48ee-9bc7-8f2c7a21ceb4",
   "metadata": {},
   "source": [
    "## **What You'll Learn**\n",
    "In mathematics, a matrix (plural matrices) is a rectangular array or table of numbers, symbols, or expressions, arranged in rows and columns, which is used to represent a mathematical object or a property of such an object. This kind of matmatical representation will be used many times throughout the computer science ciriumlum here at ohio university, and is used in a varitity of diffnernt ways.\n",
    "In this first example you are going to learn about basic matrix operations like addition, subtraction, mulitplication, and finding the inverse of matries. This is fundemantal to this class becuase you will be working with mattrices throughout the entire class. Secondly you are going to learn about Gaussian eliumination wich is a technique that is used to solve linear equations. Solving linear equations can apply to a number of differnt problems and will prove to be usefule to you in a number of situations.\n",
    "\n",
    "### **Matrix Operations**\n",
    "\n",
    "#### **Matrix addition**\n",
    "To start off to see if we can add to matrices to gether we will first need to check to see if two matrices have the same dimmensions otherwise we are not able to add them together. To add the matrices we will add the correspoing elements in each matrice together to get the summed matrice.\n",
    "<div>\n",
    "<img src=\"images/math3200madd.png\" width=\"500\"/>\n",
    "</div>\n",
    "\n",
    "#### **Matrix Subtraction**\n",
    "For subtraction we will follow the same way as addition. First we want to check that the matrices are the same dimmesnions and then perform subtraction on each of the correspoing elements in the matrices.\n",
    "<div>\n",
    "<img src=\"images/math3200msub.gif\" width=\"250\"/>\n",
    "</div>\n",
    "\n",
    "#### **Matrix Mulitiplication**\n",
    "For matrix multiplication we do something a bit differnt. Fisrt we must check the correct dimmeniosn. Let's say that matrix A has a dimmension n x m, n being number of rows and m being number of colmuns. To muliplt a second matrix B to this one we will have to choose a matrix that had m rows and any number of columns. Lets say our second matrix B will have the dimmenisons i x j, i being number of rows and j being number of columns. For matrix A to be multipled to matrix B, i will have to be the same number as m.\n",
    "\n",
    "Our resulting matrix will end up being a size of n x j, This will make more sense after we step through the muliplicaton process.\n",
    "\n",
    "How do we calculate the resulted matrix? For a single element in the resulting matrix we will want to find the sum of the products of every element in matrix A row multipled by the correspoding elements in the column of matrix B. So if we wanted to find element for row one column one of our resulting matrix we would take each element in row 1 of A and mulitply it by the correspoing element in column 1 of matrix B, then sum up all of the products to get our final answer for element the first element of the first row. if we were looking at row 1 and column 2 of the resulting matrix then we would use row 1 of A and column 2 in B. This process will be done until each element of the resulting matrix is full. Down below is an example of this.\n",
    "<div>\n",
    "<img src=\"images/math3200mm.gif\" width=\"800\"/>\n",
    "</div>\n",
    "\n",
    "### **Gaussian elimination**"
   ]
  },
  {
   "cell_type": "markdown",
   "id": "d375039c-1229-40eb-a419-2865a2903573",
   "metadata": {},
   "source": [
    "## **Conclusion**"
   ]
  },
  {
   "cell_type": "markdown",
   "id": "e32f5076-8469-44ba-aa97-b929ba6abcbc",
   "metadata": {},
   "source": [
    "<b>\n",
    "    <p style=\"text-align:center;color:#00694E;font-family:copperplate;font-size:13px\">\n",
    "        Made in 2022 by Gavin Dassatti, Alex Heffner, Matthew Lang, and Aaron Begy\n",
    "    </p>\n",
    "</b>"
   ]
  }
 ],
 "metadata": {
  "kernelspec": {
   "display_name": "Python 3 (ipykernel)",
   "language": "python",
   "name": "python3"
  },
  "language_info": {
   "codemirror_mode": {
    "name": "ipython",
    "version": 3
   },
   "file_extension": ".py",
   "mimetype": "text/x-python",
   "name": "python",
   "nbconvert_exporter": "python",
   "pygments_lexer": "ipython3",
   "version": "3.8.12"
  }
 },
 "nbformat": 4,
 "nbformat_minor": 5
}
