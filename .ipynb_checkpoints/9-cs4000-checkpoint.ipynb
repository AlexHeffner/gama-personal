{
 "cells": [
  {
   "cell_type": "markdown",
   "id": "286ea073-f47c-40f6-83dd-94ff4f52f3a6",
   "metadata": {},
   "source": [
    "![cs4000 logo](images/cs4000.PNG)"
   ]
  },
  {
   "cell_type": "markdown",
   "id": "088f332b-43c6-481e-af62-d292ef3a11e0",
   "metadata": {},
   "source": [
    "## **Course Description**\n",
    "\n",
    "\n",
    "CS 4000 - Intro to Distributed, Parallel, and Web-Centric Computing is one of the most interesting courses in the CS core cirriculum here at Ohio University. In this course you will learn about several interesting topics involving parallel and distributed computing like threading, synchronization, and potential speedup of programs. CS 4000 is a very project-based course so throughout the semester you will get plenty of hands-on learning involving the topics you will eventually learn about in lecture. Because you will be developing parallel and distributed programs on your own in this course, another essential topic you will learn about is how to calculate and optimize the efficency of your programs. Developing and optimizing programs to be as efficient as possible is a key skill you will develop in this course. Altogether, this course will definetly make you think about optimization more than you ever have before, and allow you to utilize the hardware behind the scenes to create lightning fast programs."
   ]
  },
  {
   "cell_type": "markdown",
   "id": "9e5200a5-b7ef-4c15-b3c5-7aaea2421f86",
   "metadata": {},
   "source": [
    "## **What You'll Learn:**\n",
    "### Example 1: \n",
    "\n",
    "### Example 2:"
   ]
  },
  {
   "cell_type": "markdown",
   "id": "f37f1dc3-5d8c-4418-9c63-98a14da3e7a1",
   "metadata": {},
   "source": [
    "## **Conclusion:**\n",
    "Conclusion"
   ]
  }
 ],
 "metadata": {
  "kernelspec": {
   "display_name": "Python 3",
   "language": "python",
   "name": "python3"
  },
  "language_info": {
   "codemirror_mode": {
    "name": "ipython",
    "version": 3
   },
   "file_extension": ".py",
   "mimetype": "text/x-python",
   "name": "python",
   "nbconvert_exporter": "python",
   "pygments_lexer": "ipython3",
   "version": "3.8.2"
  }
 },
 "nbformat": 4,
 "nbformat_minor": 5
}
