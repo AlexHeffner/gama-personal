{
 "cells": [
  {
   "cell_type": "markdown",
   "id": "8743f778-5a80-42d2-a6a8-8261ec1a2860",
   "metadata": {},
   "source": [
    "![cs4900-ai logo](images/cs4900-ai.PNG)"
   ]
  },
  {
   "cell_type": "markdown",
   "id": "e6233867-3aff-4e2f-afe5-5ba55af3b04e",
   "metadata": {},
   "source": [
    "## **Course Description:**\n",
    "Artificial intelligence is a course that looks at current uses of Artificial intelligence systems and how they are implemented today. In this course you will get a better understanding of what Artificial intelligence and how it has evolved over time. You will look at different ways Artificial intelligence been used to solve problems and puzzles. You will get a better understand of how to characterize problems and how you could come up with different heuristics to solve them. You will see a variety of Artificial intelligence systems/approaches in this course such as Backtracking, Graph searches, Algorithm A*,  evaluation of heuristics, Production systems, Search Strategies for Decomposable Production Systems, Game playing, Predicate Calculus, Rules of Inference, Resolution, Rule Based Deduction Systems and much more."
   ]
  },
  {
   "cell_type": "markdown",
   "id": "f5918ccc-335d-46c2-ae74-669915c5bbdf",
   "metadata": {},
   "source": [
    "## **Examples of What You'll Learn:**\n",
    "In this notebook we will be focusing on searching algorithms and see how different algorithms can have different “intelligences “in them. You will also see how these examples can apply to real life. Our first example will show you two of the most common graph search algorithms, Depth First Search and Breadth First Search.\n"
   ]
  },
  {
   "cell_type": "markdown",
   "id": "296ff599-8cad-4f30-a964-1c4cd4bb4684",
   "metadata": {},
   "source": [
    "### **Depth First Search & Breadth First Search Arrays**\n",
    "Depth first search will continue to search down a graph until it finds the node it is looking for or until it hits a dead end, and if it hits a dead end, it will go back and try another path to search, and it will repeat this process until it finds the correct node.\n",
    "\n",
    "Breadth first search will search the nodes closest to the start node then search the nodes on that level before moving to the next level.\n",
    "\n",
    "Down below is an diagram showing the differnce when searching a whole graph."
   ]
  },
  {
   "cell_type": "markdown",
   "id": "6ee7951a-15da-4e65-95c6-17578a2b54f9",
   "metadata": {},
   "source": [
    "![cs4900-ai-dfs](images/cs4900-ai-dfs-bfs.gif)"
   ]
  },
  {
   "cell_type": "markdown",
   "id": "571afb5c-4556-4be9-bc94-59f3f532dc39",
   "metadata": {},
   "source": [
    "There are code snippets below that will iterate over a whole graph, using both techniques. Each will print out how it visits the nodes in order. Run the snippet and see how the order of the nodes print out in each. Then see if you can guess how graph2 will print out with each algorithm. Uncomment the graph calls at the bottom to check your answers\n",
    "below are two diagrams of graph1 and graph2."
   ]
  },
  {
   "cell_type": "code",
   "execution_count": 19,
   "id": "93d4502b-98c7-449f-b76b-cd8f88190691",
   "metadata": {},
   "outputs": [
    {
     "name": "stdout",
     "output_type": "stream",
     "text": [
      "Graph1 BFS: \n",
      "A B C D E F \n",
      "\n",
      "Graph1 DFS: \n",
      "A B D E F C \n"
     ]
    }
   ],
   "source": [
    "## https://www.educative.io/edpresso/how-to-implement-a-breadth-first-search-in-python\n",
    "## https://iq.opengenus.org/dfs-vs-bfs/\n",
    "\n",
    "graph1 = {\n",
    "  'A' : ['B','C'],\n",
    "  'B' : ['D', 'E'],\n",
    "  'C' : ['F'],\n",
    "  'D' : [],\n",
    "  'E' : ['F'],\n",
    "  'F' : []\n",
    "}\n",
    "\n",
    "graph2 = {\n",
    "  'A' : ['B','C'],\n",
    "  'B' : ['D', 'E'],\n",
    "  'C' : ['F'],\n",
    "  'D' : [],\n",
    "  'E' : ['F'],\n",
    "  'F' : []\n",
    "}\n",
    "\n",
    "visited = [] # List to keep track of visited nodes.\n",
    "queue = []     #Initialize a queue\n",
    "\n",
    "def breadth_first_search(visited, graph, node):\n",
    "  visited.append(node)\n",
    "  queue.append(node)\n",
    "\n",
    "  while queue:\n",
    "    s = queue.pop(0) \n",
    "    print (s, end = \" \") \n",
    "\n",
    "    for neighbour in graph[s]:\n",
    "      if neighbour not in visited:\n",
    "        visited.append(neighbour)\n",
    "        queue.append(neighbour)\n",
    "        \n",
    "def depth_first_search(visited, graph, node):\n",
    "    if node not in visited:\n",
    "        print (node, end = \" \")\n",
    "        visited.add(node)\n",
    "        for neighbour in graph[node]:\n",
    "            depth_first_search(visited, graph, neighbour)\n",
    "\n",
    "#Graph 1\n",
    "print(\"Graph1 BFS: \")\n",
    "breadth_first_search(visited, graph1, 'A')\n",
    "print()\n",
    "\n",
    "print(\"\\nGraph1 DFS: \")\n",
    "visited = set() # reset visted nodes\n",
    "depth_first_search(visited, graph1, 'A')\n",
    "print()\n",
    "\n",
    "# # Graph 2\n",
    "# print(\"\\nGraph2 BFS: \")\n",
    "# visited = []\n",
    "# breadth_first_search(visited, graph2, 'A')\n",
    "# print()\n",
    "\n",
    "# print(\"\\nGraph2 DFS: \")\n",
    "# visited = set() # reset visted nodes\n",
    "# depth_first_search(visited, graph2, 'A')\n",
    "# print()"
   ]
  },
  {
   "cell_type": "markdown",
   "id": "0b5fd6b6-a674-45d6-83d7-47d4b5943196",
   "metadata": {},
   "source": [
    "## **Conclusion:**"
   ]
  },
  {
   "cell_type": "code",
   "execution_count": null,
   "id": "248a4256-ffd3-4163-9dd7-4267dea6b8e3",
   "metadata": {},
   "outputs": [],
   "source": []
  }
 ],
 "metadata": {
  "kernelspec": {
   "display_name": "Python 3 (ipykernel)",
   "language": "python",
   "name": "python3"
  },
  "language_info": {
   "codemirror_mode": {
    "name": "ipython",
    "version": 3
   },
   "file_extension": ".py",
   "mimetype": "text/x-python",
   "name": "python",
   "nbconvert_exporter": "python",
   "pygments_lexer": "ipython3",
   "version": "3.9.9"
  }
 },
 "nbformat": 4,
 "nbformat_minor": 5
}
