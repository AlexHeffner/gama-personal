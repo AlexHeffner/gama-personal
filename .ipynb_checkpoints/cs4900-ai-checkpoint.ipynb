{
 "cells": [
  {
   "cell_type": "markdown",
   "id": "8743f778-5a80-42d2-a6a8-8261ec1a2860",
   "metadata": {},
   "source": [
    "![cs4900-ai logo](images/cs4900-ai.PNG)"
   ]
  },
  {
   "cell_type": "markdown",
   "id": "e6233867-3aff-4e2f-afe5-5ba55af3b04e",
   "metadata": {},
   "source": [
    "## **Course Description:**\n",
    "Artificial intelligence is a course that looks at current uses of Artificial intelligence systems and how they are implemented today. In this course you will get a better understanding of what Artificial intelligence and how it has evolved over time. You will look at different ways Artificial intelligence been used to solve problems and puzzles. You will get a better understand of how to characterize problems and how you could come up with different heuristics to solve them. You will see a variety of Artificial intelligence systems/approaches in this course such as Backtracking, Graph searches, Algorithm A*,  evaluation of heuristics, Production systems, Search Strategies for Decomposable Production Systems, Game playing, Predicate Calculus, Rules of Inference, Resolution, Rule Based Deduction Systems and much more."
   ]
  },
  {
   "cell_type": "markdown",
   "id": "f5918ccc-335d-46c2-ae74-669915c5bbdf",
   "metadata": {},
   "source": [
    "## **Examples of What You'll Learn:**\n",
    "In this notebook we will be focusing on searching algorithms and see how different algorithms can have different “intelligences “in them. You will also see how these examples can apply to real life. Our first example will show you two of the most common graph search algorithms, Depth First Search and Breadth First Search.\n"
   ]
  },
  {
   "cell_type": "markdown",
   "id": "296ff599-8cad-4f30-a964-1c4cd4bb4684",
   "metadata": {},
   "source": [
    "### **Depth First Search & Breadth First Search Arrays**\n",
    "Depth first search will continue to search down a graph until it finds the node it is looking for or until it hits a dead end, and if it hits a dead end, it will go back and try another path to search, and it will repeat this process until it finds the correct node.\n",
    "\n",
    "Breadth first search will search the nodes closest to the start node then search the nodes on that level before moving to the next level.\n",
    "\n",
    "Down below is an diagram showing the differnce when searching a whole graph."
   ]
  },
  {
   "cell_type": "markdown",
   "id": "6ee7951a-15da-4e65-95c6-17578a2b54f9",
   "metadata": {},
   "source": [
    "![cs4900-ai-dfs](images/cs4900-ai-dfs-bfs.gif)"
   ]
  },
  {
   "cell_type": "markdown",
   "id": "571afb5c-4556-4be9-bc94-59f3f532dc39",
   "metadata": {},
   "source": [
    "There are code snippets below that will iterate over a whole graph, using both techniques. Each will print out how it visits the nodes in order. Run the snippet and see how the order of the nodes print out in each. Then see if you can guess how graph2 will print out with each algorithm. Uncomment the graph calls at the bottom to check your answers\n",
    "below are two diagrams of graph1 and graph2."
   ]
  },
  {
   "cell_type": "markdown",
   "id": "e367c7e8-6633-4c7d-a593-4c017f85a180",
   "metadata": {},
   "source": [
    "![cs4900-ai-graphs](images/cs4900-ai-graphs.png)"
   ]
  },
  {
   "cell_type": "code",
   "execution_count": 4,
   "id": "93d4502b-98c7-449f-b76b-cd8f88190691",
   "metadata": {},
   "outputs": [
    {
     "name": "stdout",
     "output_type": "stream",
     "text": [
      "\n",
      "Graph1 BFS: \n",
      "A B C D F G E \n",
      "\n",
      "Graph1 DFS: \n",
      "A B D E C F G \n"
     ]
    }
   ],
   "source": [
    "## https://www.educative.io/edpresso/how-to-implement-a-breadth-first-search-in-python\n",
    "## https://iq.opengenus.org/dfs-vs-bfs/\n",
    "## https://favtutor.com/blogs/depth-first-search-python\n",
    "print()\n",
    "graph1 = {\n",
    "  'A' : ['B','C'],\n",
    "  'B' : ['D'],\n",
    "  'C' : ['F', 'G'],\n",
    "  'D' : ['E'],\n",
    "  'E' : [],\n",
    "  'F' : [],\n",
    "  'G' : [],\n",
    "}\n",
    "\n",
    "graph2 = {\n",
    "  'A' : ['B'],\n",
    "  'B' : ['D', 'C', 'E'],\n",
    "  'C' : ['F', 'G'],\n",
    "  'D' : [],\n",
    "  'E' : [],\n",
    "  'F' : [],\n",
    "  'G' : [],\n",
    "}\n",
    "\n",
    "visited = [] # List to keep track of visited nodes.\n",
    "queue = []     #Initialize a queue\n",
    "\n",
    "def breadth_first_search(visited, graph, node):\n",
    "  visited.append(node)\n",
    "  queue.append(node)\n",
    "\n",
    "  while queue:\n",
    "    s = queue.pop(0) \n",
    "    print (s, end = \" \") \n",
    "\n",
    "    for neighbour in graph[s]:\n",
    "      if neighbour not in visited:\n",
    "        visited.append(neighbour)\n",
    "        queue.append(neighbour)\n",
    "\n",
    "# NEEDS WORKS\n",
    "def dfs(visited, graph, node):  #function for dfs \n",
    "    if node not in visited:\n",
    "        print (node)\n",
    "        visited.add(node)\n",
    "        for neighbour in graph[node]:\n",
    "            dfs(visited, graph, neighbour)\n",
    "\n",
    "#Graph 1\n",
    "print(\"Graph1 BFS: \")\n",
    "breadth_first_search(visited, graph1, 'A')\n",
    "print()\n",
    "\n",
    "print(\"\\nGraph1 DFS: \")\n",
    "visited = set() # reset visted nodes\n",
    "depth_first_search(visited, graph1, 'A')\n",
    "print()\n",
    "\n",
    "# Graph 2\n",
    "# print(\"\\nGraph2 BFS: \")\n",
    "# visited = []\n",
    "# breadth_first_search(visited, graph2, 'A')\n",
    "# print()\n",
    "\n",
    "# print(\"\\nGraph2 DFS: \")\n",
    "# visited = set() # reset visted nodes\n",
    "# depth_first_search(visited, graph2, 'A')\n",
    "# print()"
   ]
  },
  {
   "cell_type": "markdown",
   "id": "d82e2050-d70a-4346-80e0-aff279736c46",
   "metadata": {},
   "source": [
    "### **Algorithm A***\n",
    "information here\n"
   ]
  },
  {
   "cell_type": "code",
   "execution_count": 16,
   "id": "875d29a3-af75-40dd-b85d-f0a2e221b1cf",
   "metadata": {},
   "outputs": [
    {
     "name": "stdout",
     "output_type": "stream",
     "text": [
      "Path found: ['A', 'B', 'D']\n"
     ]
    },
    {
     "data": {
      "text/plain": [
       "['A', 'B', 'D']"
      ]
     },
     "execution_count": 16,
     "metadata": {},
     "output_type": "execute_result"
    }
   ],
   "source": [
    "## https://www.pythonpool.com/a-star-algorithm-python/\n",
    "from collections import deque\n",
    " \n",
    "class Graph:\n",
    "    def __init__(self, adjac_lis):\n",
    "        self.adjac_lis = adjac_lis\n",
    " \n",
    "    def get_neighbors(self, v):\n",
    "        return self.adjac_lis[v]\n",
    " \n",
    "    # This is heuristic function which is having equal values for all nodes\n",
    "    def h(self, n):\n",
    "        H = {\n",
    "            'A': 1,\n",
    "            'B': 1,\n",
    "            'C': 1,\n",
    "            'D': 1\n",
    "        }\n",
    " \n",
    "        return H[n]\n",
    " \n",
    "    def a_star_algorithm(self, start, stop):\n",
    "        # In this open_lst is a lisy of nodes which have been visited, but who's \n",
    "        # neighbours haven't all been always inspected, It starts off with the start \n",
    "  #node\n",
    "        # And closed_lst is a list of nodes which have been visited\n",
    "        # and who's neighbors have been always inspected\n",
    "        open_lst = set([start])\n",
    "        closed_lst = set([])\n",
    " \n",
    "        # poo has present distances from start to all other nodes\n",
    "        # the default value is +infinity\n",
    "        poo = {}\n",
    "        poo[start] = 0\n",
    " \n",
    "        # par contains an adjac mapping of all nodes\n",
    "        par = {}\n",
    "        par[start] = start\n",
    " \n",
    "        while len(open_lst) > 0:\n",
    "            n = None\n",
    " \n",
    "            # it will find a node with the lowest value of f() -\n",
    "            for v in open_lst:\n",
    "                if n == None or poo[v] + self.h(v) < poo[n] + self.h(n):\n",
    "                    n = v;\n",
    " \n",
    "            if n == None:\n",
    "                print('Path does not exist!')\n",
    "                return None\n",
    " \n",
    "            # if the current node is the stop\n",
    "            # then we start again from start\n",
    "            if n == stop:\n",
    "                reconst_path = []\n",
    " \n",
    "                while par[n] != n:\n",
    "                    reconst_path.append(n)\n",
    "                    n = par[n]\n",
    " \n",
    "                reconst_path.append(start)\n",
    " \n",
    "                reconst_path.reverse()\n",
    " \n",
    "                print('Path found: {}'.format(reconst_path))\n",
    "                return reconst_path\n",
    " \n",
    "            # for all the neighbors of the current node do\n",
    "            for (m, weight) in self.get_neighbors(n):\n",
    "              # if the current node is not presentin both open_lst and closed_lst\n",
    "                # add it to open_lst and note n as it's par\n",
    "                if m not in open_lst and m not in closed_lst:\n",
    "                    open_lst.add(m)\n",
    "                    par[m] = n\n",
    "                    poo[m] = poo[n] + weight\n",
    " \n",
    "                # otherwise, check if it's quicker to first visit n, then m\n",
    "                # and if it is, update par data and poo data\n",
    "                # and if the node was in the closed_lst, move it to open_lst\n",
    "                else:\n",
    "                    if poo[m] > poo[n] + weight:\n",
    "                        poo[m] = poo[n] + weight\n",
    "                        par[m] = n\n",
    " \n",
    "                        if m in closed_lst:\n",
    "                            closed_lst.remove(m)\n",
    "                            open_lst.add(m)\n",
    " \n",
    "            # remove n from the open_lst, and add it to closed_lst\n",
    "            # because all of his neighbors were inspected\n",
    "            open_lst.remove(n)\n",
    "            closed_lst.add(n)\n",
    " \n",
    "        print('Path does not exist!')\n",
    "        return None\n",
    "    \n",
    "adjac_lis = {\n",
    "    'A': [('B', 1), ('C', 3), ('D', 7)],\n",
    "    'B': [('D', 5)],\n",
    "    'C': [('D', 12)]\n",
    "}\n",
    "\n",
    "graph1 = Graph(adjac_lis)\n",
    "\n",
    "graph1.a_star_algorithm('A', 'D')"
   ]
  },
  {
   "cell_type": "markdown",
   "id": "0b5fd6b6-a674-45d6-83d7-47d4b5943196",
   "metadata": {},
   "source": [
    "## **Conclusion:**"
   ]
  },
  {
   "cell_type": "markdown",
   "id": "218d657b-c86b-427e-a6b4-8a53061f4a76",
   "metadata": {},
   "source": [
    "put craphere"
   ]
  }
 ],
 "metadata": {
  "kernelspec": {
   "display_name": "Python 3 (ipykernel)",
   "language": "python",
   "name": "python3"
  },
  "language_info": {
   "codemirror_mode": {
    "name": "ipython",
    "version": 3
   },
   "file_extension": ".py",
   "mimetype": "text/x-python",
   "name": "python",
   "nbconvert_exporter": "python",
   "pygments_lexer": "ipython3",
   "version": "3.9.9"
  }
 },
 "nbformat": 4,
 "nbformat_minor": 5
}
