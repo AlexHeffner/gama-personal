{
 "cells": [
  {
   "cell_type": "markdown",
   "id": "8743f778-5a80-42d2-a6a8-8261ec1a2860",
   "metadata": {},
   "source": [
    "![cs4900-ai logo](images/cs4900-ai.PNG)"
   ]
  },
  {
   "cell_type": "markdown",
   "id": "e6233867-3aff-4e2f-afe5-5ba55af3b04e",
   "metadata": {},
   "source": [
    "## **Course Description:**\n",
    "Artificial intelligence is a course that looks at current uses of Artificial intelligence systems and how they are implemented today. In this course you will get a better understanding of what Artificial intelligence and how it has evolved over time. You will look at different ways Artificial intelligence been used to solve problems and puzzles. You will get a better understand of how to characterize problems and how you could come up with different heuristics to solve them. You will see a variety of Artificial intelligence systems/approaches in this course such as Backtracking, Graph searches, Algorithm A*,  evaluation of heuristics, Production systems, Search Strategies for Decomposable Production Systems, Game playing, Predicate Calculus, Rules of Inference, Resolution, Rule Based Deduction Systems and much more."
   ]
  },
  {
   "cell_type": "markdown",
   "id": "743a86f5-5d9f-4923-a871-8680ffc548fb",
   "metadata": {},
   "source": [
    "## **Course Topics:**"
   ]
  },
  {
   "cell_type": "markdown",
   "id": "f5918ccc-335d-46c2-ae74-669915c5bbdf",
   "metadata": {},
   "source": [
    "## **Examples of What You'll Learn:**"
   ]
  },
  {
   "cell_type": "markdown",
   "id": "0b5fd6b6-a674-45d6-83d7-47d4b5943196",
   "metadata": {},
   "source": [
    "## **Conclusion:**"
   ]
  },
  {
   "cell_type": "code",
   "execution_count": null,
   "id": "248a4256-ffd3-4163-9dd7-4267dea6b8e3",
   "metadata": {},
   "outputs": [],
   "source": []
  }
 ],
 "metadata": {
  "kernelspec": {
   "display_name": "Python 3 (ipykernel)",
   "language": "python",
   "name": "python3"
  },
  "language_info": {
   "codemirror_mode": {
    "name": "ipython",
    "version": 3
   },
   "file_extension": ".py",
   "mimetype": "text/x-python",
   "name": "python",
   "nbconvert_exporter": "python",
   "pygments_lexer": "ipython3",
   "version": "3.9.9"
  }
 },
 "nbformat": 4,
 "nbformat_minor": 5
}
