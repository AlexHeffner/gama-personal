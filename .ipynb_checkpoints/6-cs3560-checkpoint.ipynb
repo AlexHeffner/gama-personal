{
 "cells": [
  {
   "cell_type": "markdown",
   "id": "2267c815-ffff-4d3c-85f6-d4c4a58c6aba",
   "metadata": {},
   "source": []
  },
  {
   "cell_type": "markdown",
   "id": "d88fc8e8-8d3c-43f4-9763-6247a408d942",
   "metadata": {},
   "source": [
    "# **Course Description** #"
   ]
  },
  {
   "cell_type": "markdown",
   "id": "dc6c1798-8e0b-4670-a138-ac252fc9dfed",
   "metadata": {},
   "source": [
    "CS 3650 is a very interesting and hands-on class that dives into detail on the skills needed to become a great software engineer. In this course you will learn about the application of a variety of different tools related to software engineering and development, and current practices that software engineers follow in the industry today. Some of the topics covered in this course include: software architecture, integrated development environments, build and make systems, debugging, and design and analysis tools. One of the best parts about this course is that you don't just learn about these topics, you learn how to apply these topics to your own software. Which will in turn make your life as a computer science student a lot easier."
   ]
  },
  {
   "cell_type": "markdown",
   "id": "90686547-a30c-4f8a-b52e-bbd39ad83759",
   "metadata": {},
   "source": [
    "## **Learning Outcomes** ##"
   ]
  },
  {
   "cell_type": "markdown",
   "id": "21ca757a-e192-41df-a753-4f29efa950c2",
   "metadata": {},
   "source": [
    "- Employ integrated development environments on practical projects.\n",
    "- Apply build systems on medium-sized programming projects.\n",
    "- Apply collaborative source code control systems to build or maintain medium size software systems.\n",
    "- Apply design tools such as UML to produce practical software designs.\n",
    "- Explain program verification and list the tools used for verification.\n",
    "- Describe and use design patterns.\n",
    "- Describe basic software architecture in both the UNIX and Windows environments.\n",
    "- Apply dynamic analysis tools to identify software defects.\n",
    "- Apply various static analysis tools and describe their strengths."
   ]
  },
  {
   "cell_type": "markdown",
   "id": "1fe00174-ae39-408a-8b8a-1e88afeffc14",
   "metadata": {},
   "source": [
    "## **What you'll learn**"
   ]
  },
  {
   "cell_type": "markdown",
   "id": "0a8bab95-7f19-41e2-8053-bae42fdf315e",
   "metadata": {},
   "source": [
    "### **Version Control**"
   ]
  },
  {
   "cell_type": "markdown",
   "id": "6f3976ad-0ed2-43be-a1a4-dac66c2d2156",
   "metadata": {},
   "source": [
    "Version control is one of the most important aspects of software development because without it, we would not be able to keep track of the changes we make to our code. In software development we always want to keep track of the changes we make to our code because if something goes wrong, we can easily look back to a previous version of our software and see what changes were made. The version control software you will learn more about in this class is Git. Git is a free and open-source distributed version control system that is designed to keep track of projects of all sizes. Git makes it so much easier for teams to collaborate and develop projects because every member can have a local version of the project repository on their machine that they can edit and then essentially push that version to the main or 'master' branch."
   ]
  },
  {
   "cell_type": "markdown",
   "id": "7403efc4-3f98-48cc-993a-b131563ea4e8",
   "metadata": {},
   "source": [
    "#### **Why Git?**\n",
    "- Git is free and open-source which means anyone can use it\n",
    "- There is only a slight learning curve at first, so even beginners can use it to keep track of their projects\n",
    "- Git makes team development much easier because specific changes and associated contributors are tracked\n",
    "- Git development is made even easier with Github, a cloud-based hosting service that lets you manage Git repositories"
   ]
  },
  {
   "cell_type": "code",
   "execution_count": null,
   "id": "65623491-3085-4c98-9540-97a086f4bf02",
   "metadata": {},
   "outputs": [],
   "source": []
  }
 ],
 "metadata": {
  "kernelspec": {
   "display_name": "Python 3",
   "language": "python",
   "name": "python3"
  },
  "language_info": {
   "codemirror_mode": {
    "name": "ipython",
    "version": 3
   },
   "file_extension": ".py",
   "mimetype": "text/x-python",
   "name": "python",
   "nbconvert_exporter": "python",
   "pygments_lexer": "ipython3",
   "version": "3.8.2"
  }
 },
 "nbformat": 4,
 "nbformat_minor": 5
}
