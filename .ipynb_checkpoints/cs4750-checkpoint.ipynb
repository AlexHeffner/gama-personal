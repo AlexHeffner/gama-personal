{
 "cells": [
  {
   "cell_type": "markdown",
   "id": "64e5ffbd-2870-47db-a149-05d21e8f5056",
   "metadata": {},
   "source": [
    "![CS 4750](images/cs4750-title.png)"
   ]
  },
  {
   "cell_type": "markdown",
   "id": "4c32d7e3-b976-4cee-9a83-71dee3ca95eb",
   "metadata": {},
   "source": [
    "## **Course Description**\n",
    "\n",
    "In this class you will learn a varity of differnt topics such as Understanding internet protocols; network cabling, hubs, and switches; configuring network routers; configuring Unix and Windows workstations; measuring and analyzing network performance; and troubleshooting. \n",
    "\n",
    "Learning Outcomes:\n",
    "Students will become comfortable with various hardware and software debugging and analysis tools.\n",
    "Students will become fluent in configuring operating systems (Windows, Linux, OSX), bridges, and routers.\n",
    "Students will become fluent with the limitations and consequences of network firewalls.\n",
    "Students will develop expertise in carefully handling and physicaly connecting delicate networking equipment.\n",
    "Students will develop expertise in tracking down and solving networking problems.\n",
    "Students will develop the ability to quickly, efficiently, and correctly set up a very complicated network of computers, switch gear, and wiring.\n",
    "Students will gain a thorough understanding of the ethics of network monitoring, email filtering, and packet analysis.\n",
    "Students will gain a thorough understanding of the relationship between network speed and congestion, and data throughput."
   ]
  },
  {
   "cell_type": "markdown",
   "id": "525feddf-4f3d-4a93-ad29-3d09428ccce5",
   "metadata": {},
   "source": [
    "## **What You'll Learn**"
   ]
  },
  {
   "cell_type": "markdown",
   "id": "fb117879-c74f-45d1-bf09-3c2a0e6d5947",
   "metadata": {},
   "source": [
    "### **Subtopic 1**"
   ]
  },
  {
   "cell_type": "markdown",
   "id": "54ff7a0f-592e-46b1-8fcd-864fea97fef8",
   "metadata": {},
   "source": [
    "### **Subtopic 2**"
   ]
  },
  {
   "cell_type": "markdown",
   "id": "5203a085-15ac-4af1-9f1f-0ea6982060c7",
   "metadata": {},
   "source": [
    "## **Conclusion**"
   ]
  }
 ],
 "metadata": {
  "kernelspec": {
   "display_name": "Python 3 (ipykernel)",
   "language": "python",
   "name": "python3"
  },
  "language_info": {
   "codemirror_mode": {
    "name": "ipython",
    "version": 3
   },
   "file_extension": ".py",
   "mimetype": "text/x-python",
   "name": "python",
   "nbconvert_exporter": "python",
   "pygments_lexer": "ipython3",
   "version": "3.8.12"
  }
 },
 "nbformat": 4,
 "nbformat_minor": 5
}
