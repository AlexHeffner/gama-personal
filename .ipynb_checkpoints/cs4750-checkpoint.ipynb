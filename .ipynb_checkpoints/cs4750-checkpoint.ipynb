{
 "cells": [
  {
   "cell_type": "markdown",
   "id": "64e5ffbd-2870-47db-a149-05d21e8f5056",
   "metadata": {},
   "source": [
    "![CS 4750](images/cs4750-title.png)"
   ]
  },
  {
   "cell_type": "markdown",
   "id": "4c32d7e3-b976-4cee-9a83-71dee3ca95eb",
   "metadata": {},
   "source": [
    "## **Course Description**\n",
    "\n",
    "In this class you will learn a varity of differnt topics such as Understanding internet protocols; network cabling, hubs, and switches; configuring network routers; configuring Unix and Windows workstations; measuring and analyzing network performance; and troubleshooting. If you would like to gain some experiance in the hands on side of computers, like connecting cables and learning about computer networks and routers this would be the class for you."
   ]
  },
  {
   "cell_type": "markdown",
   "id": "c6f52434-9378-49de-bd75-da4767283330",
   "metadata": {},
   "source": [
    "## **Learning Outcomes**\n",
    "- you will learn to use various hardware and software debugging and analysis tools.\n",
    "- you will gain a thorough understanding of the ethics of network monitoring, email filtering, and packet analysis.\n",
    "- you will become fluent in configuring operating systems (Windows, Linux, OSX), bridges, and routers.\n",
    "- you will become fluent with the limitations and consequences of network firewalls.\n",
    "- you will develop expertise in carefully handling and physicaly connecting delicate networking equipment.\n",
    "- you will develop the ability to quickly, efficiently, and correctly set up a very complicated network of computers, switch gear, and wiring.\n",
    "- you will gain a thorough understanding of the relationship between network speed and congestion, and data throughput.\n",
    "- you will develop expertise in tracking down and solving networking problems."
   ]
  },
  {
   "cell_type": "markdown",
   "id": "525feddf-4f3d-4a93-ad29-3d09428ccce5",
   "metadata": {
    "tags": []
   },
   "source": [
    "## **What You'll Learn**\n",
    "In this notebook you will first learn about analysis of a packet capture. This will help you understand what information you can get from a packet capture and how that can help you understand the network. The second topic we introduce you to is network protocols. These are the rules on which devices communicate with each other over networks. you will learn the difference between them and which ones you might want to use in different situations."
   ]
  },
  {
   "cell_type": "markdown",
   "id": "a367da09-8e70-456e-b05c-723ef693e93e",
   "metadata": {},
   "source": [
    "### **Packet Capture**\n",
    "What is a packet capture? A Packet Capture is a capturing Internet Protocol packets for analysis. Capturing packets is a common troubleshooting technique for network administrators, and is also used to examine network traffic for security threats. If there happened to be a data breach packets can provide very important information in finding out what happened and how it happened.\n",
    "\n",
    "This next example is taken from https://null-byte.wonderhowto.com/how-to/analyze-wi-fi-data-captures-with-jupyter-notebook-0201490/ where they used Wireshark to gather the data. Wireshark is a common packet capture tool used by many network administrators. In the example they used they studied a packet capture where client Wi-Fi devices had their real MAC addresses unmasked by fake networks. Fake networks are networks that are meant to imitate real public networks such as a Starbucks Wi-Fi. They are set up by hackers to steal your personal information. Generally, most devices will not reveal their true MAC address unless they find a trusted network. In the example below they were able to get into this trusted network category by using fake networks to fingerprint client devices to find out which networks they have connected to before. This can be thought of brute-forcing the \"Preferred network list\" stored inside people’s phones when looking for a network to connect to.\n",
    "\n",
    "In this example they were able to use real data that was taken from a Red Line Metro train riding from Wilshire & Vermont to Hollywood & Highland during rush hour. The tools used were ESP8266 with the \"Beacon Spammer\", Arduino sketch and a list of common Wi-Fi network names, and lastly Wireshark.\n",
    "\n",
    "Down below you can see how we can gather all differnt kinds of information from this data."
   ]
  },
  {
   "cell_type": "code",
   "execution_count": null,
   "id": "bba78b14-274c-4069-8c89-5709156b2d07",
   "metadata": {},
   "outputs": [],
   "source": [
    "## Here we imported some of the data from Wireshark converted to a CSV to gain some insight on the data.\n",
    "import pandas as pd\n",
    "from matplotlib import pyplot as plt\n",
    "wd = pd.read_csv('./src/MetroWilshireVermonttoHollywoodHighland.csv', delimiter = ',', encoding='latin-1', header=0) \n",
    "wd.sample(5)"
   ]
  },
  {
   "cell_type": "code",
   "execution_count": null,
   "id": "6456ac5c-3f55-4754-ae8f-7ea1d05ea289",
   "metadata": {},
   "outputs": [],
   "source": [
    "## This will disply the contents of a single probe request from a client to a fake network\n",
    "wd.iloc[61]"
   ]
  },
  {
   "cell_type": "code",
   "execution_count": null,
   "id": "1e18280a-d1a2-42aa-a494-44548a57faf6",
   "metadata": {},
   "outputs": [],
   "source": [
    "## Plotting directed packets (unmasked clients) connecting to fake networks over time\n",
    "## Here, we analyze when a clients is connecting to a fake network over time in the first figure.\n",
    "## In the second, we analyze which fake networks are recieving directed packets from unmasked clients over time.\n",
    "plt.rcParams[\"figure.figsize\"] = (20,10)\n",
    "plt.plot(wd['Time'], wd['Transmitter address'], 'o', color='DarkGreen')\n",
    "plt.title('Clients Connecting to Fake Networks Over Time')\n",
    "plt.xlabel('Time')\n",
    "plt.ylabel('Real Clients Sending Directed Packets To Fake Networks')\n",
    "plt.show()\n",
    "plt.plot(wd['Time'], wd['Destination address'], 'o', color='DarkBlue')\n",
    "plt.title('Fake Networks Broadcasted by the Beacon Spammer Recieving Directed Packets')\n",
    "plt.xlabel('Time')\n",
    "plt.ylabel('Beacon Spammer MAC of Fake Networks Recieving Hit')\n",
    "plt.show()"
   ]
  },
  {
   "cell_type": "code",
   "execution_count": null,
   "id": "b04a610a-150b-4fbe-ab94-321e824c2c51",
   "metadata": {},
   "outputs": [],
   "source": [
    "## Plotting which client MAC addresses responds to which fake network MAC addresses\n",
    "## Here, we see a fingerprint for every client device on the left. \n",
    "## We can scan the row a device is in to determine which unique fake networks it will respond to.\n",
    "## We can scan a column to find which fake networks cause the most client devices to respond. \n",
    "plt.rcParams[\"figure.figsize\"] = (25,10)\n",
    "plt.plot(wd['Destination address'].str[-5:], wd['Transmitter address'].str[-5:], 'o',)\n",
    "plt.title('Clients Connecting to Fake Networks')\n",
    "plt.xlabel('Beacon Spammer Fake Networks')\n",
    "plt.ylabel('Real Clients Connecting')\n",
    "plt.show()"
   ]
  },
  {
   "cell_type": "code",
   "execution_count": 24,
   "id": "da7f8528-2ca3-4ab4-9b88-66aa53ac5ef2",
   "metadata": {},
   "outputs": [
    {
     "data": {
      "image/png": "[encoded data removed]",
      "text/plain": [
       "<Figure size 1800x720 with 1 Axes>"
      ]
     },
     "metadata": {
      "needs_background": "light"
     },
     "output_type": "display_data"
    }
   ],
   "source": [
    "# Frequencey of manufacturer types - Packets matched to manufacturers by Wireshark\n",
    "# The graph shows how many packets were recieved by a device from a particular manufacturer.\n",
    "src_dst = wd[[\"Source\",\"Destination\"]]\n",
    "plt.figure();\n",
    "src_dst['Source'].str[:6].value_counts().plot.bar()\n",
    "plt.axhline(0, color='k');"
   ]
  },
  {
   "cell_type": "markdown",
   "id": "54ff7a0f-592e-46b1-8fcd-864fea97fef8",
   "metadata": {},
   "source": [
    "### **Network Protocols**\n",
    "What is a network protocol? A network protocol is a set of rules telling devices how to transmit data to each other. There are thousands of different protocols for different devices or different reasons. We can generally categorize these protocols into 3 different kinds, Communication protocols, Network Management protocols, and Security protocols.\n",
    "\n",
    "#### **Communication Protocols** \n",
    "Communication Protocols allow different network devices to communicate with each other. This can be transmitting files, messaging and connection to the internet. They also handle error detection, authentication, synchronization and semantics that apply to both analog and digital communications. A few examples of Communication Protocols are listed below.\n",
    "\n",
    "- (IP) Internet Protocol: Delivers packets from the host to the destination host solely based on the IP addresses in the packet headers. Often used with TCP and sometimes referred to as TCP/IP.\n",
    "- (TCP) Transmission Control Protocol: Separates data into packets that can be shared over a network. These packets can then be sent by devices like switches and routers to the designated targets.\n",
    "- (UDP) User Datagram Protocol: works in a similar way to TCP, sending packets of data over the network. The main difference between the two is that TCP ensures a makes sure that packets are received where UDP does not. This can be useful in Videos, Audio, and games, due to the fact that a person may want to give up some of data for a quicker load time.\n",
    "- (HTTP) Hyper Text Transfer Protocol: Is an application layer protocol that allows the web browser to communicate with the server.\n",
    "\n",
    "To get an idea of how these different protocols can work, and how the meta data might be different take a look at some diagrams below  shows TCP and UDP packets differ.\n",
    "\n",
    "TCP Diagram:\n",
    "![CS 4750-tcp](images/cs4750-tcp.svg)\n",
    "\n",
    "UDP Diagram:\n",
    "![CS 4750-udp](images/cs4750-udp.svg)\n",
    "\n",
    "These diagrams were found from Khan Academy, and more information can be found from theses links:\n",
    "- https://www.khanacademy.org/computing/computers-and-internet/xcae6f4a7ff015e7d:the-internet/xcae6f4a7ff015e7d:transporting-packets/a/transmission-control-protocol--tcp\n",
    "\n",
    "- https://www.khanacademy.org/computing/computers-and-internet/xcae6f4a7ff015e7d:the-internet/xcae6f4a7ff015e7d:transporting-packets/a/user-datagram-protocol-udp\n",
    "\n",
    "#### **Network Management Protocols** \n",
    "Network Management Protocols determine the rules used to monitor, manage and maintain your computer network. They also communicate these needs across the network to ensure stable communication and optimal performance across the board.\n",
    "\n",
    "Network managers use network management protocols to test connections between the host and the client. These protocols can provide information such as connection's status, availability, packets, data loss, and much more. The rules of the network management protocols can be applied to all devices on the network, such as computers, switches, routers and servers. There are two main network management protocols SNMP and ICMP.\n",
    "\n",
    "- (SNMP) Simple Network Management Protocol: Is mainly used to monitor and manage network devices. This protocol allows network managers to view and modify endpoint information to alter behavior of devices across the network. \n",
    "- (ICMP) Internet Control Message Protocol: is primarily used for diagnostic/troubleshooting purposes. Managed devices on the network can use this protocol to send error messages, which will provide information about network connectivity issues between different devices connected to the network.\n",
    "\n",
    "#### **Security Protocols** \n",
    "Security Protocols are protocols that are used to keep the data traveling across the network secure. This means that this protocol will dictate the rules in which a computer attempts to review or extract data. This helps ensure that no unauthorized users, services, or devices access your network data, and this works across all data types and network mediums being used. Generally, security protocols use encryption and cryptography to secure data so that only special algorithms, formulas and keys can make this data accessible. This will make sure that when a computer attempts to read certain data, they must have the correct key to view the data. A few examples of Security Protocols are listed below.\n",
    "\n",
    "- (SSL) Secure Sockets Layer: This protocol uses encryption to secure data as it transferers over the internet. SSL uses a process called a handshake to authenticate weather a computer is who it claims to be. SSL also implements data integrity to make sure that the data has not changed during the transfer.\n",
    "- (TLS) Transport Layer Security: Is the current version of SSL, SSL has not been updated since 1996 and TSL is the more updated version. Sometimes SSL and TSL are used interchangeably.\n",
    "- (HTTPS) Hyper Text Transfer Protocol Secure: This protocol uses TLS to encrypt data from the HTTP protocol."
   ]
  },
  {
   "cell_type": "markdown",
   "id": "5203a085-15ac-4af1-9f1f-0ea6982060c7",
   "metadata": {},
   "source": [
    "## **Conclusion**\n",
    "This course is very different from many of the other courses you will take here. This class has will really help you learn about many of the physical components of computers and networks. You learn so much about how to set up computers, configure operating systems, networking analysis and so many more topics that we as computer science students don’t think about when doing our work. This class will help you really understand how the internet works and what all goes into connecting devices to each other and how to make the connections secure. Once you complete this course you will confidently be able to set up computers, analyze network connection, and solve networking problems, and will be a networking expert!"
   ]
  }
 ],
 "metadata": {
  "kernelspec": {
   "display_name": "Python 3 (ipykernel)",
   "language": "python",
   "name": "python3"
  },
  "language_info": {
   "codemirror_mode": {
    "name": "ipython",
    "version": 3
   },
   "file_extension": ".py",
   "mimetype": "text/x-python",
   "name": "python",
   "nbconvert_exporter": "python",
   "pygments_lexer": "ipython3",
   "version": "3.8.12"
  }
 },
 "nbformat": 4,
 "nbformat_minor": 5
}
