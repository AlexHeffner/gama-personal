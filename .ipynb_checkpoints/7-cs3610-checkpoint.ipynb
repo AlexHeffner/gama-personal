{
 "cells": [
  {
   "cell_type": "markdown",
   "id": "349a0cec-80c5-4f06-b119-6310d0c06105",
   "metadata": {
    "tags": []
   },
   "source": [
    "![cs2400 logo](images/CS3000Title.PNG)"
   ]
  },
  {
   "cell_type": "markdown",
   "id": "38302c7b-3b9c-4320-8e2e-6bbdaec460c5",
   "metadata": {},
   "source": [
    "## Course Description\n"
   ]
  },
  {
   "cell_type": "markdown",
   "id": "30597660-eeb3-4693-b193-10fa0635b40f",
   "metadata": {},
   "source": [
    "This course will teach you about Data Structures, the algoritms associated with them, and analysis of the algorithms themselves. Topics discussed within the class include algorithm analysis, dynamic arrays, tree structures, heaps, balanced trees, dictionaries, and complexity sorting. Once students recieve a core understanding of Data Structures, built in algorithms and structures are introduced in modern programming languages. CS 3610 provides a foundation that can be used within every class within the computer science curriculum. Throughout the course there will be plenty of projects and a weekly lab which will allow you to implement the information learned within lecture. Here we will implement a dynamic array and an insertion sort which will give a brief introduction to the topics discussed. "
   ]
  },
  {
   "cell_type": "markdown",
   "id": "f9b63204-18bf-4800-ab29-48bde87b9e2f",
   "metadata": {},
   "source": [
    "## What You Will Learn"
   ]
  },
  {
   "cell_type": "markdown",
   "id": "32587a84-006d-46e0-be39-2fb855479145",
   "metadata": {},
   "source": [
    "## Dynamic Arrays"
   ]
  },
  {
   "cell_type": "markdown",
   "id": "f9b80a80-cbac-4880-a4d8-230060de38cb",
   "metadata": {},
   "source": [
    "A dynamic array is similar to an array, but with the difference that its size can be dynamically modified at runtime. Don’t need to specify how much large an array beforehand. The elements of an array occupy a contiguous block of memory, and once created, its size cannot be changed. A dynamic array can, once the array is filled, allocate a bigger chunk of memory, copy the contents from the original array to this new space, and continue to fill the available slots.\n",
    "\n",
    "Dynamic Array Logic\n",
    "   - Allocate a new array B with larger capacity\n",
    "   - Set B[i]=A[i], for i=0 to n-1 where n denotes the current number of items\n",
    "   - Set A=B that is, we hence forth use B as the array of supporting list\n",
    "   - Insert new element in the new array"
   ]
  },
  {
   "cell_type": "code",
   "execution_count": 4,
   "id": "bd607a5c-d40c-4453-a2af-c3505088e95f",
   "metadata": {},
   "outputs": [],
   "source": [
    "import ctypes\n",
    "class DynamicArray(object):\n",
    "    '''\n",
    "    DYNAMIC ARRAY CLASS (Similar to Python List)\n",
    "    '''\n",
    "    def __init__(self):\n",
    "        self.n = 0 # Count actual elements (Default is 0)\n",
    "        self.capacity = 1 # Default Capacity\n",
    "        self.A = self.make_array(self.capacity)\n",
    "          \n",
    "    def __len__(self):\n",
    "        \"\"\"\n",
    "        Return number of elements sorted in array\n",
    "        \"\"\"\n",
    "        return self.n\n",
    "      \n",
    "    def __getitem__(self, k):\n",
    "        \"\"\"\n",
    "        Return element at index k\n",
    "        \"\"\"\n",
    "        if not 0 <= k <self.n:\n",
    "            # Check it k index is in bounds of array\n",
    "            return IndexError('K is out of bounds !') \n",
    "          \n",
    "        return self.A[k] # Retrieve from the array at index k\n",
    "          \n",
    "    def append(self, ele):\n",
    "        \"\"\"\n",
    "        Add element to end of the array\n",
    "        \"\"\"\n",
    "        if self.n == self.capacity:\n",
    "            # Double capacity if not enough room\n",
    "            self._resize(2 * self.capacity) \n",
    "          \n",
    "        self.A[self.n] = ele # Set self.n index to element\n",
    "        self.n += 1\n",
    "  \n",
    "    def insertAt(self,item,index):\n",
    "        \"\"\"\n",
    "         This function inserts the item at any specified index.\n",
    "        \"\"\"\n",
    "          \n",
    "        if index<0 or index>self.n:\n",
    "            print(\"please enter appropriate index..\")\n",
    "            return\n",
    "          \n",
    "        if self.n==self.capacity:\n",
    "            self._resize(2*self.capacity)\n",
    "              \n",
    "          \n",
    "        for i in range(self.n-1,index-1,-1):\n",
    "            self.A[i+1]=self.A[i]\n",
    "              \n",
    "          \n",
    "        self.A[index]=item\n",
    "        self.n+=1\n",
    "    \n",
    "    def delete(self):\n",
    "        \"\"\"\n",
    "        This function deletes item from the end of array\n",
    "        \"\"\"\n",
    "  \n",
    "        if self.n==0:\n",
    "            print(\"Array is empty deletion not Possible\")\n",
    "            return\n",
    "          \n",
    "        self.A[self.n-1]=0\n",
    "        self.n-=1\n",
    "          \n",
    "    def removeAt(self,index):\n",
    "        \"\"\"\n",
    "        This function deletes item from a specified index..\n",
    "        \"\"\"        \n",
    "  \n",
    "        if self.n==0:\n",
    "            print(\"Array is empty deletion not Possible\")\n",
    "            return\n",
    "                  \n",
    "        if index<0 or index>=self.n:\n",
    "            return IndexError(\"Index out of bound....deletion not possible\")        \n",
    "          \n",
    "        if index==self.n-1:\n",
    "            self.A[index]=0\n",
    "            self.n-=1\n",
    "            return        \n",
    "          \n",
    "        for i in range(index,self.n-1):\n",
    "            self.A[i]=self.A[i+1]            \n",
    "              \n",
    "          \n",
    "        self.A[self.n-1]=0\n",
    "        self.n-=1\n",
    "  \n",
    "          \n",
    "    def _resize(self, new_cap):\n",
    "        \"\"\"\n",
    "        Resize internal array to capacity new_cap\n",
    "        \"\"\"\n",
    "          \n",
    "        B = self.make_array(new_cap) # New bigger array\n",
    "          \n",
    "        for k in range(self.n): # Reference all existing values\n",
    "            B[k] = self.A[k]\n",
    "              \n",
    "        self.A = B # Call A the new bigger array\n",
    "        self.capacity = new_cap # Reset the capacity\n",
    "          \n",
    "    def make_array(self, new_cap):\n",
    "        \"\"\"\n",
    "        Returns a new array with new_cap capacity\n",
    "        \"\"\"\n",
    "        return (new_cap * ctypes.py_object)()\n",
    "    \n",
    "    \n",
    "    "
   ]
  },
  {
   "cell_type": "code",
   "execution_count": 7,
   "id": "3a2ab860-1a07-4a1c-8dfc-2435aca93420",
   "metadata": {},
   "outputs": [
    {
     "data": {
      "text/plain": [
       "1"
      ]
     },
     "execution_count": 7,
     "metadata": {},
     "output_type": "execute_result"
    }
   ],
   "source": [
    "# Instantiate\n",
    "arr = DynamicArray()\n",
    "# Append new element\n",
    "arr.append(1)\n",
    "len(arr)"
   ]
  },
  {
   "cell_type": "code",
   "execution_count": 8,
   "id": "8f2111f7-2d08-443f-ab16-ca30bd4739c0",
   "metadata": {},
   "outputs": [
    {
     "data": {
      "text/plain": [
       "2"
      ]
     },
     "execution_count": 8,
     "metadata": {},
     "output_type": "execute_result"
    }
   ],
   "source": [
    "# Append new element\n",
    "arr.append(2)\n",
    "# Check length\n",
    "len(arr)\n"
   ]
  },
  {
   "cell_type": "code",
   "execution_count": 15,
   "id": "f1f20527-585e-4bf3-b315-4036c49045bf",
   "metadata": {},
   "outputs": [
    {
     "data": {
      "text/plain": [
       "3"
      ]
     },
     "execution_count": 15,
     "metadata": {},
     "output_type": "execute_result"
    }
   ],
   "source": [
    "#index \n",
    "arr[0]"
   ]
  },
  {
   "cell_type": "code",
   "execution_count": 13,
   "id": "b972901f-e220-433d-9ff3-9910364cb970",
   "metadata": {},
   "outputs": [
    {
     "data": {
      "text/plain": [
       "2"
      ]
     },
     "execution_count": 13,
     "metadata": {},
     "output_type": "execute_result"
    }
   ],
   "source": [
    "#index\n",
    "arr[1]"
   ]
  },
  {
   "cell_type": "markdown",
   "id": "f3242af2-6fe4-4d26-a8a8-2d1b9bb874dc",
   "metadata": {},
   "source": [
    "We have successfully implemented a dynamic array, feel free to continue resizing to see how it works.  "
   ]
  },
  {
   "cell_type": "code",
   "execution_count": null,
   "id": "2bed4b21-0dda-4057-b27c-ee9344fd5094",
   "metadata": {},
   "outputs": [],
   "source": []
  }
 ],
 "metadata": {
  "kernelspec": {
   "display_name": "Python 3",
   "language": "python",
   "name": "python3"
  },
  "language_info": {
   "codemirror_mode": {
    "name": "ipython",
    "version": 3
   },
   "file_extension": ".py",
   "mimetype": "text/x-python",
   "name": "python",
   "nbconvert_exporter": "python",
   "pygments_lexer": "ipython3",
   "version": "3.8.8"
  }
 },
 "nbformat": 4,
 "nbformat_minor": 5
}
