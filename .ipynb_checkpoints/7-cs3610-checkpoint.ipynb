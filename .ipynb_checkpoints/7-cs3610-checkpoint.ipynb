{
 "cells": [
  {
   "cell_type": "markdown",
   "id": "349a0cec-80c5-4f06-b119-6310d0c06105",
   "metadata": {
    "tags": []
   },
   "source": [
    "![cs2400 logo](images/CS3000Title.PNG)"
   ]
  },
  {
   "cell_type": "markdown",
   "id": "38302c7b-3b9c-4320-8e2e-6bbdaec460c5",
   "metadata": {},
   "source": [
    "## Course Description\n"
   ]
  },
  {
   "cell_type": "markdown",
   "id": "30597660-eeb3-4693-b193-10fa0635b40f",
   "metadata": {},
   "source": [
    "This course will teach you about Data Structures, the algoritms associated with them, and analysis of the algorithms themselves. Topics discussed within the class include algorithm analysis, dynamic arrays, tree structures, heaps, balanced trees, dictionaries, and complexity sorting. Once students recieve a core understanding of Data Structures, built in algorithms and structures are introduced in modern programming languages. CS 3610 provides a foundation that can be used within every class within the computer science curriculum. Throughout the course there will be plenty of projects and a weekly lab which will allow you to implement the information learned within lecture. Here we will implement a dynamic array and an insertion sort which will give a brief introduction to the topics discussed. "
   ]
  },
  {
   "cell_type": "markdown",
   "id": "f9b63204-18bf-4800-ab29-48bde87b9e2f",
   "metadata": {},
   "source": [
    "## What You Will Learn"
   ]
  },
  {
   "cell_type": "code",
   "execution_count": null,
   "id": "04be46f7-3bc8-4930-8d62-c1f24f4af74a",
   "metadata": {},
   "outputs": [],
   "source": []
  }
 ],
 "metadata": {
  "kernelspec": {
   "display_name": "Python 3",
   "language": "python",
   "name": "python3"
  },
  "language_info": {
   "codemirror_mode": {
    "name": "ipython",
    "version": 3
   },
   "file_extension": ".py",
   "mimetype": "text/x-python",
   "name": "python",
   "nbconvert_exporter": "python",
   "pygments_lexer": "ipython3",
   "version": "3.8.8"
  }
 },
 "nbformat": 4,
 "nbformat_minor": 5
}
