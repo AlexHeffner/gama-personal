{
 "cells": [
  {
   "cell_type": "markdown",
   "id": "f9b114ef-c3ff-49f7-a6d5-effbc874e45a",
   "metadata": {},
   "source": [
    "![CS 2401](images/cs2401-title.png)"
   ]
  },
  {
   "cell_type": "markdown",
   "id": "5b94258b-ac5c-4b71-9a1f-4e1349439997",
   "metadata": {},
   "source": [
    "## **Course Description**\n",
    "CS 2401 will be a continuation of the programming that you will learn about in CS 2400, but with a concentration on the development of larger projects and the design process. In this class, you will be looking at the different ways that classes can hold data in ways that are versatile and useful, including dynamic arrays, linked lists, and inheritance - which is a powerful feature in object-oriented programming. Other topics  include design of software using UML, generic programming (templates), stacks, queues, container classes and iterators, derived classes, virtual functions, and polymorphism. During the final weeks of this class, you will be developing a single big project, which will be some type of board game.  This will be a program where the computer will play an “intelligent” game against a human opponent. It will be while you are working on your game that you will also learn about recursion and binary trees."
   ]
  },
  {
   "cell_type": "markdown",
   "id": "ccee20ea-3eed-47de-99eb-9b3ffb4859dd",
   "metadata": {},
   "source": [
    "## **What You'll Learn**\n",
    "\n",
    "These examples cover 4 important concepts that will covered in CS 2401. The first example is about a commonly used data stucture called a binary treee. The next example intruduces you to recursion - when a function makes a call to itself. The third example shows you how to store data in a structure called a linked list. Finally, the last example is about an important concept called inheritance"
   ]
  },
  {
   "cell_type": "markdown",
   "id": "b610da31-a9aa-469f-8253-841b3a812a75",
   "metadata": {},
   "source": [
    "### **Binary Trees and Traversals**\n",
    "\n",
    "In computer science, a binary tree is a special kind of data structure used to store data in an efficient way. Each 'node' in a binary tree contains a value, and has pointers containing values of two children - a left child, and a right child. In a binary search tree, the left child's value is less than its parent, and the right child's value is greater than its parent. Binary search trees are a type of binary tree used for sorting and searching numbers in a quick way.\n",
    "\n",
    "Below is an example of a binary tree implemented in C++. There are 3 ways to traverse through a binary tree - inorder, preorder, and postorder. View the diagrams and the code to see how each traversal works: "
   ]
  },
  {
   "cell_type": "markdown",
   "id": "e333a5d0-faf8-4b41-9e86-ed02bd20f7cd",
   "metadata": {},
   "source": [
    "#### **Preorder Traversal**"
   ]
  },
  {
   "cell_type": "markdown",
   "id": "4b3d7936-b40e-4206-82a7-1cf8dbced916",
   "metadata": {},
   "source": [
    "![CS 2401](images/cs2401-preorder.gif)"
   ]
  },
  {
   "cell_type": "markdown",
   "id": "c9b162dc-4e5d-43d1-b411-90cff357f089",
   "metadata": {},
   "source": [
    "#### **Postorder Traversal**"
   ]
  },
  {
   "cell_type": "markdown",
   "id": "6f48808d-b2ac-4828-b4d4-5ed2e18d8a1f",
   "metadata": {},
   "source": [
    "![CS 2401](images/cs2401-postorder.gif)"
   ]
  },
  {
   "cell_type": "markdown",
   "id": "9b2e763e-e8c7-4dba-b4b4-0402279a9f21",
   "metadata": {},
   "source": [
    "#### **Inorder Traversal**"
   ]
  },
  {
   "cell_type": "markdown",
   "id": "b1819c1c-f604-45e3-b97b-d4edd28507e5",
   "metadata": {},
   "source": [
    "![CS 2401](images/cs2401-inorder.gif)"
   ]
  },
  {
   "cell_type": "code",
   "execution_count": null,
   "id": "b300425c-1845-49c9-a36a-1a61c794613a",
   "metadata": {},
   "outputs": [],
   "source": [
    "// C++ program for different tree traversals\n",
    "#include <iostream>\n",
    "using namespace std;\n",
    "\n",
    "/* A binary tree node has data, pointer to left child\n",
    "and a pointer to right child */\n",
    "struct Node {\n",
    "\tint data;\n",
    "\tstruct Node *left, *right;\n",
    "};"
   ]
  },
  {
   "cell_type": "code",
   "execution_count": null,
   "id": "8c1650ec-baee-4797-8dc4-10da22a7bf06",
   "metadata": {},
   "outputs": [],
   "source": [
    "//Utility function to create a new tree node\n",
    "Node* newNode(int data)\n",
    "{\n",
    "\tNode* temp = new Node;\n",
    "\ttemp->data = data;\n",
    "\ttemp->left = temp->right = NULL;\n",
    "\treturn temp;\n",
    "}"
   ]
  },
  {
   "cell_type": "code",
   "execution_count": null,
   "id": "51e002a0-545f-4afa-8cb0-1f4f8cc8b7f5",
   "metadata": {},
   "outputs": [],
   "source": [
    "/* Given a binary tree, print its nodes according to the\n",
    "\"bottom-up\" postorder traversal. */\n",
    "void printPostorder(struct Node* node)\n",
    "{\n",
    "\tif (node == NULL)\n",
    "\t\treturn;\n",
    "\n",
    "\t// first recur on left subtree\n",
    "\tprintPostorder(node->left);\n",
    "\n",
    "\t// then recur on right subtree\n",
    "\tprintPostorder(node->right);\n",
    "\n",
    "\t// now deal with the node\n",
    "\tcout << node->data << \" \";\n",
    "}"
   ]
  },
  {
   "cell_type": "code",
   "execution_count": null,
   "id": "b85287a7-8a7d-4daa-b123-6ad0a2be1482",
   "metadata": {},
   "outputs": [],
   "source": [
    "/* Given a binary tree, print its nodes in inorder*/\n",
    "void printInorder(struct Node* node)\n",
    "{\n",
    "\tif (node == NULL)\n",
    "\t\treturn;\n",
    "\n",
    "\t/* first recur on left child */\n",
    "\tprintInorder(node->left);\n",
    "\n",
    "\t/* then print the data of node */\n",
    "\tcout << node->data << \" \";\n",
    "\n",
    "\t/* now recur on right child */\n",
    "\tprintInorder(node->right);\n",
    "}"
   ]
  },
  {
   "cell_type": "code",
   "execution_count": null,
   "id": "2fbdbd18-52e8-42f1-bdb4-b0296ecf4d44",
   "metadata": {},
   "outputs": [],
   "source": [
    "/* Given a binary tree, print its nodes in preorder*/\n",
    "void printPreorder(struct Node* node)\n",
    "{\n",
    "\tif (node == NULL)\n",
    "\t\treturn;\n",
    "\n",
    "\t/* first print data of node */\n",
    "\tcout << node->data << \" \";\n",
    "\n",
    "\t/* then recur on left subtree */\n",
    "\tprintPreorder(node->left);\n",
    "\n",
    "\t/* now recur on right subtree */\n",
    "\tprintPreorder(node->right);\n",
    "}"
   ]
  },
  {
   "cell_type": "code",
   "execution_count": null,
   "id": "0ddfdff9-d502-4100-bee0-dc780279ee60",
   "metadata": {},
   "outputs": [],
   "source": [
    "/* Driver program to test above functions*/\n",
    "struct Node* root = newNode(1);\n",
    "root->left = newNode(2);\n",
    "root->right = newNode(3);\n",
    "root->left->left = newNode(4);\n",
    "root->left->right = newNode(5);\n",
    "\n",
    "cout << \"\\nPreorder traversal of binary tree is \\n\";\n",
    "printPreorder(root);\n",
    "\n",
    "cout << \"\\nInorder traversal of binary tree is \\n\";\n",
    "printInorder(root);\n",
    "\n",
    "cout << \"\\nPostorder traversal of binary tree is \\n\";\n",
    "printPostorder(root);"
   ]
  },
  {
   "cell_type": "markdown",
   "id": "d183403e-3e1e-45dd-ad34-860e606b77e1",
   "metadata": {},
   "source": [
    "### **Recursion**\n",
    "\n",
    "In computer science, recursion is simply when a function has a call to itself. All recursive functions have a base case and a recursive case. The base case is used in order to stop the recursion and return a value. The recursive case returns a call to the same function to continue to produce the desired output. Each time a recursive function is called, that function call is placed on the run time call stack.\n",
    "\n",
    "Listed below is an example of a recursive factorial function. Recall - A factorial of a number is that number multiplied by all the integers (greater than 0) below that number. Change the number to a positive integer value to see its factorial."
   ]
  },
  {
   "cell_type": "code",
   "execution_count": null,
   "id": "59181b7a-eee6-4131-a76a-39a6feeed15e",
   "metadata": {},
   "outputs": [],
   "source": [
    "int factorial(int n) {\n",
    "  if(n > 1)\n",
    "    return n * factorial(n - 1);\n",
    "  else\n",
    "    return 1;\n",
    "}"
   ]
  },
  {
   "cell_type": "code",
   "execution_count": null,
   "id": "61889fd6-1311-4b08-ae82-3e0e24ff4fd6",
   "metadata": {},
   "outputs": [],
   "source": [
    "factorial(-1)"
   ]
  },
  {
   "cell_type": "markdown",
   "id": "98a6bbbc-c6f1-40cb-9a4c-aa42ec547ca4",
   "metadata": {},
   "source": [
    "### **Linked Lists**\n",
    "\n",
    "A linked list is a list of nodes that store data in a specific order. Each node consists of a datafield that stores a desired value, and a pointer that links that node to the next node. The last node in a linked list contains a pointer to NULL - indicating that the list stops. In a double linked list, each node contains another pointer going to the node before it. \n",
    "\n",
    "Below is an example of a simple linked list containing an order of a few MLB teams. Add a few more nodes to the linked list. Be sure to link them together (follow the example)."
   ]
  },
  {
   "cell_type": "code",
   "execution_count": null,
   "id": "daa44a26-6159-4d5d-a0ea-271039fa238c",
   "metadata": {},
   "outputs": [],
   "source": [
    "// A simple C++ program for traversal of a linked list\n",
    "#include <bits/stdc++.h>\n",
    "using namespace std;\n",
    "\n",
    "class Node {\n",
    "public:\n",
    "\tstring data;\n",
    "\tNode* next;\n",
    "};"
   ]
  },
  {
   "cell_type": "code",
   "execution_count": null,
   "id": "90c2ae1a-8d4d-498a-8771-ab6f8ab26051",
   "metadata": {},
   "outputs": [],
   "source": [
    "// This function prints contents of linked list\n",
    "// starting from the given node\n",
    "void printList(Node* n)\n",
    "{\n",
    "    while (n != NULL) {\n",
    "        cout << n->data << \" \";\n",
    "        n = n->next;\n",
    "    }\n",
    "}"
   ]
  },
  {
   "cell_type": "code",
   "execution_count": null,
   "id": "6a6567c4-7080-4527-9227-0c1b9312fbaa",
   "metadata": {},
   "outputs": [],
   "source": [
    "// Driver code\n",
    "Node* head = NULL;\n",
    "Node* second = NULL;\n",
    "Node* third = NULL;\n",
    "\n",
    "// allocate 3 nodes in the heap\n",
    "head = new Node();\n",
    "second = new Node();\n",
    "third = new Node();\n",
    "\n",
    "head->data = \"Pirates\"; // assign data in first node\n",
    "head->next = second; // Link first node with second\n",
    "\n",
    "second->data = \"Reds\"; // assign data to second node\n",
    "second->next = third;\n",
    "\n",
    "third->data = \"Indians\"; // assign data to third node\n",
    "third->next = NULL;\n",
    "\n",
    "printList(head);\n",
    "\n",
    "// This is code is contributed by rathbhupendra"
   ]
  },
  {
   "cell_type": "markdown",
   "id": "9cb0af9b-549f-4de6-a44b-be617e6fea45",
   "metadata": {},
   "source": [
    "### **Polymorphism**\n",
    "In computer science, polymorphism is the idea that something can express more than one form of itself. Polymorphism is an important concept in this class. Consider the following example in C++. All 3 functions below have the same name - \"func\". However, each have different arguments, making them do different things. This is an example of function overloading. \n",
    "\n",
    "**CODING CHALLENGE!! CREATE a fourth function, called \"func\", that takes in three integers. Print out the product of the three integers.**"
   ]
  },
  {
   "cell_type": "code",
   "execution_count": null,
   "id": "0b6c0496-6468-46fc-8a91-c2e5c2399b44",
   "metadata": {},
   "outputs": [],
   "source": [
    "// C++ program for function overloading\n",
    "#include <bits/stdc++.h>\n",
    "  \n",
    "using namespace std;\n",
    "class Geeks\n",
    "{\n",
    "    public:\n",
    "      \n",
    "    // function with 1 int parameter\n",
    "    void func(int x)\n",
    "    {\n",
    "        cout << \"value of x is \" << x << endl;\n",
    "    }\n",
    "      \n",
    "    // function with same name but 1 double parameter\n",
    "    void func(double x)\n",
    "    {\n",
    "        cout << \"value of x is \" << x << endl;\n",
    "    }\n",
    "      \n",
    "    // function with same name and 2 int parameters\n",
    "    void func(int x, int y)\n",
    "    {\n",
    "        cout << \"value of x and y is \" << x << \", \" << y << endl;\n",
    "    }\n",
    "};"
   ]
  },
  {
   "cell_type": "code",
   "execution_count": null,
   "id": "b5533a93-ae0b-4f46-9d46-7c3879b5bc9e",
   "metadata": {},
   "outputs": [],
   "source": [
    "Geeks obj1;\n",
    "\n",
    "// Which function is called will depend on the parameters passed\n",
    "// The first 'func' is called \n",
    "obj1.func(7);\n",
    "\n",
    "// The second 'func' is called\n",
    "obj1.func(9.132);\n",
    "\n",
    "// The third 'func' is called\n",
    "obj1.func(85,64);\n",
    "return 0;"
   ]
  },
  {
   "cell_type": "markdown",
   "id": "5c5bb1ac-d1ee-4736-b57d-314cb40c6b3d",
   "metadata": {},
   "source": [
    "## **Conclusion**"
   ]
  },
  {
   "cell_type": "markdown",
   "id": "e3c894fd-2bab-4ac1-8e2c-c142334ef930",
   "metadata": {},
   "source": [
    "CS 2401 is a very important course within the Ohio University Computer Science program. In this class, you will learn about many programming methods and techniques that are used every day in the real world. Also, you will gain key experience in implementing your first OU CS final project. This final project involves a board game (Othello, Checkers, etc) in which a user will play against the CPU using artificial intelligance."
   ]
  }
 ],
 "metadata": {
  "kernelspec": {
   "display_name": "Python 3 (ipykernel)",
   "language": "python",
   "name": "python3"
  },
  "language_info": {
   "codemirror_mode": {
    "name": "ipython",
    "version": 3
   },
   "file_extension": ".py",
   "mimetype": "text/x-python",
   "name": "python",
   "nbconvert_exporter": "python",
   "pygments_lexer": "ipython3",
   "version": "3.9.10"
  }
 },
 "nbformat": 4,
 "nbformat_minor": 5
}
