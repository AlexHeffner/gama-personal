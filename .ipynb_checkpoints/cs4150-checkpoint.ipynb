{
 "cells": [
  {
   "cell_type": "markdown",
   "id": "1b982298-1cf7-4138-99ad-2981ba8dc56e",
   "metadata": {},
   "source": [
    "![CS 4150](images/cs4150-title.png)"
   ]
  },
  {
   "cell_type": "markdown",
   "id": "d5226e2a-da3d-4a86-94c4-a7448278d90c",
   "metadata": {},
   "source": [
    "## **Course Description**\n",
    "CS 4900 - Data Science - is an elective course in Ohio University's computer science program. Students who complete this course will gain a thorough understanding of algorithmic techniques and processes for data science by implementing them and by applying them to solve real world problems. Students will gain not only an understanding of data science models and methods, but they also will learn how to perform analyses to answer domain research questions and to effectively communicate insights that result from their analyses. Students will be able to clean, preprocess, and explore real world data sets. Students will be able to implement algorithms that provide computational models for graph analytics and for clustering. Students will be able to characterize the statistical significance of their computational models. Finally, students will be able to visualize and interpret the significance of the computational models in authentic domains. "
   ]
  },
  {
   "cell_type": "markdown",
   "id": "84e1e29f-1cd9-4ea7-a999-537f65f1ecf8",
   "metadata": {},
   "source": [
    "## **What You'll Learn**\n",
    "Data science is the process of analyzing, visualizing, and working with a large dataset. In this class, the large dataset that you will be using involves data from mouse embryonic stem cells. It is important to review and understand the following biological concepts to throughly grasp what the information in the dataset is about. Click on each video to learn more about the following concepts: \n",
    "- Tracking the human genome in 4D: https://www.youtube.com/watch?v=Q_KdrtsmYoE\n",
    "- Chromatin: https://www.youtube.com/watch?v=p-khsHRDqeA\n",
    "- DNA Structure: https://www.youtube.com/watch?v=8Ayp7ReOUG8 \n",
    "- A 3D Map of the Human Genome: https://www.youtube.com/watch?v=dES-ozV65u4\n",
    "- The nucleus: https://www.khanacademy.org/test-prep/mcat/cells/eukaryotic-cells/v/the-nucleus\n",
    "\n",
    "To understand the process of how researchers gathered the data in the dataset, please read the following article. https://www.nature.com/articles/nature21411"
   ]
  },
  {
   "cell_type": "markdown",
   "id": "deabfbb4-cddd-4836-b957-8626a74fd08d",
   "metadata": {},
   "source": [
    "### **A Large Dataset**\n",
    "\n",
    "A dataset text file has been posted in the src folder, and is called, \"cs4150dataset.txt\".\n",
    "\n",
    "Each column of the data is a nuclear profile (NP), which was obtained by taking a random slice from the nucleus of single embryonic stem cell from a mouse. Each column represents a slice from a different cell. \n",
    "\n",
    "The first row in the file contains the names of NPs. Each NP name begin with the letter ‘F.’  An example NP name is: F10A2. Each remaining row of the data represents a genomic window of 30,000 contiguous nucleotides  (a.k.a. base pairs). The format of a row is as follows.\n",
    "\n",
    "The first three columns of the spreadsheet denote the coordinates of a genomic window.\n",
    "The following example denotes a genomic window that begins at position ‘0’ on chromosome 1 and stops at position 30000 on chromosome 1:\n",
    "1.\tChromosome = chr1\n",
    "2.\tStart position on the chromosome = 0\n",
    "3.\tStop position on the chromosome = 30000\n",
    "\n",
    "Each cell (i, j) of the matrix contains either a ‘1’ or a ‘0’: <br>\n",
    "- ‘1’: A genomic window i was present in NP j\n",
    "- '0’: A genomic window i was not present in NP j"
   ]
  },
  {
   "cell_type": "code",
   "execution_count": null,
   "id": "f5f35d85-96df-4129-96d0-c8235853d18b",
   "metadata": {
    "tags": []
   },
   "outputs": [],
   "source": [
    "# EXERCISE: \n",
    "\n",
    "# Write a program to read the file and compute the following:\n",
    "#  - Number of genomic windows (ANSWER YOU SHOULD GET: 90877)\n",
    "#  - Number of NPs (ANSWER YOU SHOULD GET: 408)\n",
    "#  - On average, how many windows are present in an NP? (ANSWER YOU SHOULD GET: 5482.81)\n",
    "\n",
    "# COLUMNS in data correspond to Nuclear Profiles (NP)\n",
    "# ROWS in data correspond to Windows\n",
    "\n",
    "data_file = \"./src/cs4150dataset.txt\"\n",
    "all_data_list = []\n",
    "\n",
    "window_count = 0\n",
    "profile_count = 0\n",
    "windows_in_np_average = 0\n",
    "\n",
    "# Reading in input file ... \n",
    "with open(data_file) as f:\n",
    "    for line in f:\n",
    "        list = line.split()\n",
    "        all_data_list.append(list)\n",
    "\n",
    "# NEEDS FINISHED ... \n",
    "\n",
    "\n",
    "print(\"Window count: \", window_count)\n",
    "print(\"Number of NP's: \", profile_count)\n",
    "print(\"Average number of windows in an NP: \", windows_in_np_average)"
   ]
  },
  {
   "cell_type": "markdown",
   "id": "45344010-8ecb-4a0f-a2e4-ec91921da0ad",
   "metadata": {},
   "source": [
    "### **Visualizing Data**\n",
    "The Python library, matplotlab, contains many useful methods for displaying and visualizing data. Learn more about matplotlib's scatterplot, line graph, and heatmap functionalities in the following examples:"
   ]
  },
  {
   "cell_type": "markdown",
   "id": "bfec9d88-64dc-4f02-99aa-5761135a9753",
   "metadata": {},
   "source": [
    "#### **Scatterplots**\n",
    "A scatterplot uses dots to plot data on a 2D graph, and should be used when comparing two variables. In the example below, the \"x\" variable contains a list of all x value coordinates, and the \"y\" variable contains a list of all y value coordinates. To plot the coordinates in a scatterplot, simply pass each list to the plt function, scatter(). Run the code to see the scatterplot."
   ]
  },
  {
   "cell_type": "code",
   "execution_count": 1,
   "id": "60a3b44c-4028-4efe-b849-f15ddf4b7dec",
   "metadata": {},
   "outputs": [
    {
     "data": {
      "image/png": "[encoded data removed]",
      "text/plain": [
       "<Figure size 432x288 with 1 Axes>"
      ]
     },
     "metadata": {
      "needs_background": "light"
     },
     "output_type": "display_data"
    }
   ],
   "source": [
    "# Example of a Scatterplot: \n",
    "%matplotlib inline\n",
    "import matplotlib.pyplot as plt\n",
    "\n",
    "x = [5,7,8,7,2,17,2,9,4,11,12,9,6]\n",
    "y = [99,86,87,88,111,86,103,87,94,78,77,85,86]\n",
    "\n",
    "plt.title(\"Plot of y list vs the x list\")\n",
    "plt.xlabel(\"X axis\")\n",
    "plt.ylabel(\"Y axis\")\n",
    "plt.scatter(x, y)\n",
    "plt.show()"
   ]
  },
  {
   "cell_type": "markdown",
   "id": "664c73fa-9900-497e-87b3-dac74f8ecdc3",
   "metadata": {},
   "source": [
    "#### **Line Graphs**\n",
    "A line graph is used when plotting a variable v.s. a certain amount of time. In the following example, the unemployment rate is plotted over a 100 year time period. The list of years is stored in \"Year\", and the rate is stored in \"Unemployment_Rate\". To plot a line graph, plt's plot() function is called, passing the x variable, y variable, color, and marker. Titles and axis labels can then be added. Run the code to see the result."
   ]
  },
  {
   "cell_type": "code",
   "execution_count": null,
   "id": "1d4c1983-402c-4813-9360-a291c9b9c48d",
   "metadata": {},
   "outputs": [],
   "source": [
    "# Example of a Line graph: \n",
    "%matplotlib inline\n",
    "import matplotlib.pyplot as plt\n",
    "   \n",
    "Year = [1920,1930,1940,1950,1960,1970,1980,1990,2000,2010,2020]\n",
    "Unemployment_Rate = [9.8,12,8,7.2,6.9,7,6.5,6.2,5.5,6.3,9.5]\n",
    "  \n",
    "plt.plot(Year, Unemployment_Rate, color='red', marker='o')\n",
    "plt.title('Unemployment Rate Vs Year', fontsize=14)\n",
    "plt.xlabel('Year', fontsize=14)\n",
    "plt.ylabel('Unemployment Rate', fontsize=14)\n",
    "plt.grid(True)\n",
    "plt.show()"
   ]
  },
  {
   "cell_type": "markdown",
   "id": "ccb57cde-6512-4148-acb6-b49bf4ec137b",
   "metadata": {},
   "source": [
    "#### **Heatmaps**\n",
    "A heatmap is a graphical representation of data that uses a system of color coding to represent a dataset's values. In the example below, random numbers between 0 and 1 are plotted in a 16 by 16 matrix. A heatmap is generated using plt's imshow() function, passing the matrix, color scheme, and interpolation. In this case, the red-blue color scheme is used. Also, plt's colorbar() function displays a color coded bar to the left that explains what the colors represent. Run the example below to view the heatmap."
   ]
  },
  {
   "cell_type": "code",
   "execution_count": null,
   "id": "2d123777-1471-4d22-9fbf-376ad6e62cfa",
   "metadata": {},
   "outputs": [],
   "source": [
    "# Example of a heatmap:\n",
    "%matplotlib inline\n",
    "import matplotlib.pyplot as plt\n",
    "import numpy as np\n",
    "\n",
    "a = np.random.random((16, 16))\n",
    "plt.imshow(a, cmap='RdBu_r', interpolation='nearest')\n",
    "plt.clim(0,1)\n",
    "plt.colorbar()\n",
    "plt.show()"
   ]
  },
  {
   "cell_type": "markdown",
   "id": "4818f87b-2a34-4abc-a942-3f9ca277758b",
   "metadata": {},
   "source": [
    "### **K-Means Clustering**\n",
    "Many datasets contain patterns, where some data values are similar to others. K-means clustering is a machine-learning algorithm to properly put data into clusters that are similar to each other. In this class, you will learn and implement the K-means clustering algorithm to place data into different clusters. To learn more about clustering and how it is used, please watch the following videos.\n",
    "- Examples of clustering: https://www.coursera.org/lecture/ml-foundations/other-examples-of-clustering-cmh30\n",
    "- K-means clustering:\n",
    "    - https://www.youtube.com/watch?v=4b5d3muPQmA\n",
    "    - https://www.youtube.com/watch?v=5I3Ei69I40s\n",
    "    \n",
    "**STEPS IN K-MEANS CLUSTERING** <br>\n",
    "1.) Select the number of clusters you want. This is “k” <br>\n",
    "2.) Randomly select k distinct points <br> \n",
    "3.) Measure the (Euclidean) distance between each point and each cluster <br>\n",
    "4.) Assign each point to the nearest cluster <br>\n",
    "5.) Calculate the mean of each cluster and relocate clusters! <br>\n",
    "6.) Remeasure and re-cluster using the mean cluster values <br>\n",
    "7.) Do it over with different starting points!!! <br>"
   ]
  },
  {
   "cell_type": "markdown",
   "id": "eb18207c-effb-4819-b27c-79a0c5a7d769",
   "metadata": {},
   "source": [
    "![SegmentLocal](images/cs4150-giphy.gif)"
   ]
  },
  {
   "cell_type": "markdown",
   "id": "7e6a2b3a-06b8-43c2-8666-772f8d57bc02",
   "metadata": {},
   "source": [
    "## **Conclusion**\n",
    "In CS 4150, you will be introduced to many important data science concepts and techniques. You will gain experience working with a large dataset containing information about stem embroytic cells in mice. Using this dataset, you will write code to explore the various attributes of it, including detecting patterns, similarity and distance metrics, clustering, identifying subgroups, and co-segregation. Another key aspect of data science is displaying data in effective manner. In this class, students will learn how to create and display scatterplots, various graphs, heatmaps, boxplots, and more!"
   ]
  }
 ],
 "metadata": {
  "kernelspec": {
   "display_name": "Python 3 (ipykernel)",
   "language": "python",
   "name": "python3"
  },
  "language_info": {
   "codemirror_mode": {
    "name": "ipython",
    "version": 3
   },
   "file_extension": ".py",
   "mimetype": "text/x-python",
   "name": "python",
   "nbconvert_exporter": "python",
   "pygments_lexer": "ipython3",
   "version": "3.9.9"
  }
 },
 "nbformat": 4,
 "nbformat_minor": 5
}
