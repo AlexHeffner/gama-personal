{
 "cells": [
  {
   "cell_type": "markdown",
   "id": "4d5cc06d-10c9-4176-8dcb-15b3c3383937",
   "metadata": {},
   "source": [
    "![cs2400 logo](images/cs2400.png)"
   ]
  },
  {
   "cell_type": "markdown",
   "id": "432326a6-553d-4d49-b55d-2db425137065",
   "metadata": {},
   "source": [
    "# **Course Description**\n",
    "\n",
    "CS 2400 is one of the first and most exciting courses new computer science students will take here at Ohio University! In this course you will dive into a bunch of different topics that are programming related, and really get a grasp of what programming is and what it takes to be a programmer. Early in the course you will learn about the basic concepts of the C++ programming language. Some of these concepts include: data types, variables, loops, flow of control, and even creating functions. Even though to some, these topics may seem elementary, understanding these concepts like the back of your hand is crucial for becoming a successful CS student in the future. The difficulty begins to increase in the second half of the course when topics are covered like: objects, classes, dynamic memory, polymorphism, and abstract data types. Learning and applying these concepts may be challenging, but this class is one of the most favored by CS students because of the challenge, and how much you will learn when you apply yourself. CS 2400 is a project-based course so, you will do a decent amount of programming on your own. Also, there are weekly labs to apply the skills you learned in class in an open environment where questions are encouraged.\n"
   ]
  },
  {
   "cell_type": "code",
   "execution_count": null,
   "id": "76b8b1d4-4657-4663-b1f0-86354145b9bd",
   "metadata": {},
   "outputs": [],
   "source": []
  }
 ],
 "metadata": {
  "kernelspec": {
   "display_name": "Python 3",
   "language": "python",
   "name": "python3"
  },
  "language_info": {
   "codemirror_mode": {
    "name": "ipython",
    "version": 3
   },
   "file_extension": ".py",
   "mimetype": "text/x-python",
   "name": "python",
   "nbconvert_exporter": "python",
   "pygments_lexer": "ipython3",
   "version": "3.8.2"
  }
 },
 "nbformat": 4,
 "nbformat_minor": 5
}
