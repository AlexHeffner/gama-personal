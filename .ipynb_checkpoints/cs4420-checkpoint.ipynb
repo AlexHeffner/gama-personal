{
 "cells": [
  {
   "cell_type": "markdown",
   "id": "d9506328-9989-439b-a837-f58f5a935798",
   "metadata": {},
   "source": [
    "![cs4420 logo](images/cs4420Intro.png)"
   ]
  },
  {
   "cell_type": "markdown",
   "id": "6ae8a04b-b075-426f-81aa-8d11cff62aa2",
   "metadata": {},
   "source": [
    "## **Course Description**\n",
    "In this class we cover in-depth coverage of computer operating systems and related computer architecture issues. Coverage of physical devices, interrupts, and communication between the computer and external hardware. Interfaces between user programs and the operating system, system calls, software interrupts, and protection issues. Context switching, process address spaces, and process scheduling. Process synchronization, interprocess communications, critical sections, and deadlock detection and recovery. Memory mapping, swapping, paging, and virtual memory."
   ]
  },
  {
   "cell_type": "markdown",
   "id": "184bc898-2a98-4a72-821e-93e1c09e9f28",
   "metadata": {},
   "source": [
    "## **Learning Outcomes of the class:**\n",
    "- Students will develop the ability to design and implement a simplified UNIX command interpreter.\n",
    "- Students will develop the ability to represent Boolean expressions in SOP and POS formats.\n",
    "- Students will gain a detailed understanding of demand paging.\n",
    "- Students will gain a detailed understanding of how processes are created, managed, and destroyed under UNIX.\n",
    "- Students will gain a detailed understanding of how to interact with generic memory, disk drives, and serial devices.\n",
    "- Students will gain a detailed understanding of the Unix command interpreter.\n",
    "- Students will gain a detailed understanding of the components of a process: CPU registers, memory, etc.\n",
    "- Students will gain a detailed understanding of the mechanisms for switching between modes on various kinds of hardware.\n",
    "- Students will gain a detailed understanding of the relationship between virtual memory and memory management."
   ]
  },
  {
   "cell_type": "markdown",
   "id": "5df1fdc6-f146-49ce-a146-4cb321053922",
   "metadata": {},
   "source": [
    "## **What You'll Learn:**"
   ]
  },
  {
   "cell_type": "markdown",
   "id": "14863f62-4d85-4584-99af-38911de0c2fe",
   "metadata": {},
   "source": [
    "In these next few examples we have some C system calls which are calls to the operating system and will perform the following function. The following two examples will first create a folder named foo, then delete the folder and everything inside it. Take a look on the left of your screen to see the folder appear and then disapear."
   ]
  },
  {
   "cell_type": "code",
   "execution_count": 1,
   "id": "b5ad8f2f-47b0-4df4-b296-c072fa539426",
   "metadata": {},
   "outputs": [],
   "source": [
    "#include <sys/types.h>\n",
    "#include <unistd.h>\n",
    "#include <iostream>\n",
    "system(\"mkdir foo\");\n"
   ]
  },
  {
   "cell_type": "code",
   "execution_count": 2,
   "id": "4ae6cc32-d83f-4777-a7ca-fc1efbf3f0f3",
   "metadata": {
    "tags": []
   },
   "outputs": [],
   "source": [
    "#include <sys/types.h>\n",
    "#include <unistd.h>\n",
    "system(\"rm -rf foo\");"
   ]
  },
  {
   "cell_type": "markdown",
   "id": "e246cd63-f741-4092-b824-b0d3af865164",
   "metadata": {},
   "source": [
    "Here we have a few system calls to get information about your computers memory and cpu information. They will output both of this information to two text files, memory.txt and cpu.txt. Run the code and take a look at the files to see the information."
   ]
  },
  {
   "cell_type": "code",
   "execution_count": 3,
   "id": "39dd3e75-2d10-446d-837b-06a80c98a830",
   "metadata": {},
   "outputs": [],
   "source": [
    "#include <sys/types.h>\n",
    "#include <unistd.h>\n",
    "#include <iostream>\n",
    "system(\"free -m > memory.txt\");\n",
    "system(\"cat /proc/cpuinfo > cpu.txt\");"
   ]
  },
  {
   "cell_type": "markdown",
   "id": "8c01b22a-9894-4cfa-ac53-a2bbc2449dba",
   "metadata": {},
   "source": [
    "Next we have some systemcall that will show what CPU the current program is running on as well as show the NUMA node which are the CPU memory couples"
   ]
  },
  {
   "cell_type": "code",
   "execution_count": 2,
   "id": "61924095-0346-48bd-b721-6eb8daee124d",
   "metadata": {},
   "outputs": [
    {
     "name": "stdout",
     "output_type": "stream",
     "text": [
      "0\n",
      "This program is running on CPU core 0 and NUMA node 0.\n",
      "\n"
     ]
    }
   ],
   "source": [
    "// #define _GNU_SOURCE\n",
    "#include <assert.h>\n",
    "#include <errno.h>\n",
    "#include <pthread.h>\n",
    "#include <stdio.h>\n",
    "#include <stdlib.h>\n",
    "#include <unistd.h>\n",
    "#include <sys/syscall.h>\n",
    "\n",
    "int err, ret;\n",
    "unsigned cpu, node;\n",
    "\n",
    "/* Correct operation. */\n",
    "assert(syscall(SYS_getcpu, &cpu, &node, NULL) == 0);\n",
    "printf(\"%u\\n\", cpu);\n",
    "printf(\"This program is running on CPU core %u and NUMA node %u.\\n\\n\", cpu, node);\n",
    "\n",
    "return EXIT_SUCCESS;"
   ]
  },
  {
   "cell_type": "code",
   "execution_count": 7,
   "id": "5b8c5133-c11a-4b6c-891e-7d653ded8832",
   "metadata": {},
   "outputs": [
    {
     "name": "stdout",
     "output_type": "stream",
     "text": [
      "Launched by thread 0\n",
      "Launched by thread 4\n",
      "Launched by thread 5\n",
      "Launched by thread 3\n",
      "Launched by thread 9\n",
      "Launched by thread 6\n",
      "Launched by thread 1\n",
      "Launched from the main\n",
      "Launched by thread 2\n",
      "Launched by thread 8\n",
      "Launched by thread 7\n"
     ]
    }
   ],
   "source": [
    "#include <iostream>\n",
    "#include <thread>\n",
    "\n",
    "\n",
    "void call_from_thread(int tid) {\n",
    "    std::cout << \"Launched by thread \" << tid << std::endl;\n",
    "}\n",
    "static const int num_threads = 10;\n",
    "std::thread t[num_threads];\n",
    "\n",
    "//Launch a group of threads\n",
    "for (int i = 0; i < num_threads; ++i) {\n",
    "    t[i] = std::thread(call_from_thread, i);\n",
    "}\n",
    "\n",
    "//Join the threads with the main thread\n",
    "for (int i = 0; i < num_threads; ++i) {\n",
    "    t[i].join();\n",
    "}\n",
    "   "
   ]
  },
  {
   "cell_type": "markdown",
   "id": "a75e8713-776f-44af-80d8-f3e2405224d6",
   "metadata": {},
   "source": [
    "## **Conclusion**"
   ]
  },
  {
   "cell_type": "code",
   "execution_count": null,
   "id": "f60d80dc-c2ec-47d5-bf1d-1637a2e04ce3",
   "metadata": {},
   "outputs": [],
   "source": []
  }
 ],
 "metadata": {
  "kernelspec": {
   "display_name": "C++14",
   "language": "C++14",
   "name": "xcpp14"
  },
  "language_info": {
   "codemirror_mode": "text/x-c++src",
   "file_extension": ".cpp",
   "mimetype": "text/x-c++src",
   "name": "c++",
   "version": "14"
  }
 },
 "nbformat": 4,
 "nbformat_minor": 5
}
