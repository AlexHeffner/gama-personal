{
 "cells": [
  {
   "cell_type": "markdown",
   "id": "d9506328-9989-439b-a837-f58f5a935798",
   "metadata": {},
   "source": [
    "![cs4420 logo](images/cs4420Intro.png)"
   ]
  },
  {
   "cell_type": "markdown",
   "id": "6ae8a04b-b075-426f-81aa-8d11cff62aa2",
   "metadata": {},
   "source": [
    "## **Course Description**\n",
    "In-depth coverage of computer operating systems and related computer architecture issues. Coverage of physical devices, interrupts, and communication between the computer and external hardware. Interfaces between user programs and the operating system, system calls, software interrupts, and protection issues. Context switching, process address spaces, and process scheduling. Process synchronization, interprocess communications, critical sections, and deadlock detection and recovery. Memory mapping, swapping, paging, and virtual memory."
   ]
  },
  {
   "cell_type": "markdown",
   "id": "184bc898-2a98-4a72-821e-93e1c09e9f28",
   "metadata": {},
   "source": [
    "## **Learning Outcomes of the class:**\n",
    "- Students will develop the ability to design and implement a simplified UNIX command interpreter.\n",
    "- Students will develop the ability to represent Boolean expressions in SOP and POS formats.\n",
    "- Students will gain a detailed understanding of demand paging.\n",
    "- Students will gain a detailed understanding of how processes are created, managed, and destroyed under UNIX.\n",
    "- Students will gain a detailed understanding of how to interact with generic memory, disk drives, and serial devices.\n",
    "- Students will gain a detailed understanding of the Unix command interpreter.\n",
    "- Students will gain a detailed understanding of the components of a process: CPU registers, memory, etc.\n",
    "- Students will gain a detailed understanding of the mechanisms for switching between modes on various kinds of hardware.\n",
    "- Students will gain a detailed understanding of the relationship between virtual memory and memory management."
   ]
  },
  {
   "cell_type": "markdown",
   "id": "5df1fdc6-f146-49ce-a146-4cb321053922",
   "metadata": {},
   "source": [
    "## **What You'll Learn:**"
   ]
  },
  {
   "cell_type": "markdown",
   "id": "a75e8713-776f-44af-80d8-f3e2405224d6",
   "metadata": {},
   "source": [
    "## **Conclusion**"
   ]
  },
  {
   "cell_type": "code",
   "execution_count": null,
   "id": "f60d80dc-c2ec-47d5-bf1d-1637a2e04ce3",
   "metadata": {},
   "outputs": [],
   "source": []
  }
 ],
 "metadata": {
  "kernelspec": {
   "display_name": "C++11",
   "language": "C++11",
   "name": "xcpp11"
  },
  "language_info": {
   "codemirror_mode": "text/x-c++src",
   "file_extension": ".cpp",
   "mimetype": "text/x-c++src",
   "name": "c++",
   "version": "11"
  }
 },
 "nbformat": 4,
 "nbformat_minor": 5
}
