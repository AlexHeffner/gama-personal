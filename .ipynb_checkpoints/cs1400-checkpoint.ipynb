{
 "cells": [
  {
   "cell_type": "code",
   "execution_count": null,
   "id": "22b0c6d0-7c6a-4ab4-92f3-4cab7b3f9aef",
   "metadata": {},
   "outputs": [],
   "source": []
  },
  {
   "cell_type": "markdown",
   "id": "b3b72ffa-2b08-4979-9d29-742b7f9954bd",
   "metadata": {},
   "source": [
    "## **Course Description**\n",
    "CS 1400 - Fundamentals of Computing is the most basic computer science course offered here at Ohio University. Many first or second year students want to learn about computer science, but may not have any prior programming or computing experience ... which is totally fine! This course is here to help students who want to dive in to CS at the beginner level and really figure out what the field of computer science is all about. As a student in this course you will cover all of the fundamentals of computing that are essential to becoming a successful student in the computer science cirriculum here at OU. Some of the most important topics students will learn about in this course include computational thinking & problem solving, introduction to algorithms, data analysis, and computer programming. Upon completion of CS 1400, students should be more than prepared to move onto CS 2400 - Intro to CS, which is the next step in the CS cirriculum."
   ]
  },
  {
   "cell_type": "markdown",
   "id": "525014d4-9fa0-478d-82fa-f555a5a96199",
   "metadata": {},
   "source": [
    "## **Learning Outcomes**\n",
    "- Students will be able to develop code modules in a high level programming language.\n",
    "- Students will be able to interpret algorithms that enable essential computing infrastructure.\n",
    "- Students will be able to apply computational thinking and problem solving skills.\n",
    "- Students will be able to recognize contemporary issues in computer science."
   ]
  },
  {
   "cell_type": "markdown",
   "id": "5df0eb1a-d53b-4e77-9094-11a1358070f1",
   "metadata": {},
   "source": []
  }
 ],
 "metadata": {
  "kernelspec": {
   "display_name": "Python 3 (ipykernel)",
   "language": "python",
   "name": "python3"
  },
  "language_info": {
   "codemirror_mode": {
    "name": "ipython",
    "version": 3
   },
   "file_extension": ".py",
   "mimetype": "text/x-python",
   "name": "python",
   "nbconvert_exporter": "python",
   "pygments_lexer": "ipython3",
   "version": "3.9.7"
  }
 },
 "nbformat": 4,
 "nbformat_minor": 5
}
