{
 "cells": [
  {
   "cell_type": "markdown",
   "id": "349a0cec-80c5-4f06-b119-6310d0c06105",
   "metadata": {
    "tags": []
   },
   "source": [
    "![CS 3610](images/cs3610-title.png)"
   ]
  },
  {
   "cell_type": "markdown",
   "id": "38302c7b-3b9c-4320-8e2e-6bbdaec460c5",
   "metadata": {},
   "source": [
    "## **Course Description**\n"
   ]
  },
  {
   "cell_type": "markdown",
   "id": "30597660-eeb3-4693-b193-10fa0635b40f",
   "metadata": {},
   "source": [
    "This course will teach you about Data Structures, the algoritms associated with them, and analysis of the algorithms themselves. Topics discussed within the class include algorithm analysis, dynamic arrays, tree structures, heaps, balanced trees, dictionaries, and complexity sorting. Once students recieve a core understanding of Data Structures, built in algorithms and structures are introduced in modern programming languages. CS 3610 provides a foundation that can be used within every class within the computer science curriculum. Throughout the course there will be plenty of projects and a weekly lab which will allow you to implement the information learned within lecture. Here we will implement a dynamic array and an insertion sort which will give a brief introduction to the topics discussed. "
   ]
  },
  {
   "cell_type": "markdown",
   "id": "f9b63204-18bf-4800-ab29-48bde87b9e2f",
   "metadata": {},
   "source": [
    "## **What You'll Learn**\n",
    "\n",
    "CS 3610 expands upon your C++ knowledge. Sometimes, when using an array to store data, you will need to be able to add or remove elements in it. Our first example discusses how to do this with something called a dynamic array. Afterwards, we discuss insertion sort, a specific type of sorting algorithm. Finally, you will be introduced to time complexity - are certain algorithms better (faster) than others?"
   ]
  },
  {
   "cell_type": "markdown",
   "id": "32587a84-006d-46e0-be39-2fb855479145",
   "metadata": {},
   "source": [
    "### **Dynamic Arrays**"
   ]
  },
  {
   "cell_type": "markdown",
   "id": "f9b80a80-cbac-4880-a4d8-230060de38cb",
   "metadata": {},
   "source": [
    "A dynamic array is similar to an array, but with the difference that its size can be dynamically modified at runtime. Don’t need to specify how much large an array beforehand. The elements of an array occupy a contiguous block of memory, and once created, its size cannot be changed. A dynamic array can, once the array is filled, allocate a bigger chunk of memory, copy the contents from the original array to this new space, and continue to fill the available slots.\n",
    "\n",
    "Dynamic Array Logic\n",
    "   - Allocate a new array B with larger capacity\n",
    "   - Set B[i]=A[i], for i=0 to n-1 where n denotes the current number of items\n",
    "   - Set A=B that is, we hence forth use B as the array of supporting list\n",
    "   - Insert new element in the new array"
   ]
  },
  {
   "cell_type": "code",
   "execution_count": null,
   "id": "bd607a5c-d40c-4453-a2af-c3505088e95f",
   "metadata": {},
   "outputs": [],
   "source": [
    "int size;\n",
    "std::cin >> size;\n",
    "int *array = new int[size];\n",
    "//Fill array\n",
    "for(int i = 0; i < size; i++){\n",
    "    array[i] = i + 1;\n",
    "}\n",
    "//Print array\n",
    "std::cout << \"Array values:\" << std::endl;\n",
    "for(int i = 0; i < size; i++){\n",
    "    std::cout << array[i] << std::endl;\n",
    "}\n",
    "delete [] array;"
   ]
  },
  {
   "cell_type": "code",
   "execution_count": null,
   "id": "9adcbbe3-b387-458e-ba71-dcf4772b2e15",
   "metadata": {},
   "outputs": [],
   "source": [
    "// C++ program to demonstrate insertion\n",
    "// in a BST recursively.\n",
    "#include <iostream>\n",
    "using namespace std;\n",
    "\n",
    "class BST {\n",
    "\tint data;\n",
    "\tBST *left, *right;\n",
    "\n",
    "public:\n",
    "\t// Default constructor.\n",
    "\tBST();\n",
    "\n",
    "\t// Parameterized constructor.\n",
    "\tBST(int);\n",
    "\n",
    "\t// Insert function.\n",
    "\tBST* Insert(BST*, int);\n",
    "\n",
    "\t// Inorder traversal.\n",
    "\tvoid Inorder(BST*);\n",
    "};\n",
    "\n",
    "// Default Constructor definition.\n",
    "BST ::BST(): data(0), left(NULL), right(NULL){}\n",
    "\n",
    "// Parameterized Constructor definition.\n",
    "BST ::BST(int value){\n",
    "\tdata = value;\n",
    "\tleft = right = NULL;\n",
    "}\n",
    "\n",
    "// Insert function definition.\n",
    "BST* BST ::Insert(BST* root, int value){\n",
    "\t// Insert the first node, if root is NULL.\n",
    "    if (!root) {\n",
    "\t\treturn new BST(value);\n",
    "\t}\n",
    "\t// Insert data.\n",
    "\tif (value > root->data) {\n",
    "\t\t// Insert right node data, if the 'value'\n",
    "\t\t// to be inserted is greater than 'root' node data.\n",
    "\t\t// Process right nodes.\n",
    "\t\troot->right = Insert(root->right, value);\n",
    "\t}\n",
    "\telse {\n",
    "\t\t// Insert left node data, if the 'value'\n",
    "\t\t// to be inserted is greater than 'root' node data.\n",
    "\t\t// Process left nodes.\n",
    "\t\troot->left = Insert(root->left, value);\n",
    "\t}\n",
    "\t// Return 'root' node, after insertion.\n",
    "\treturn root;\n",
    "}\n",
    "\n",
    "// Inorder traversal function.\n",
    "// This gives data in sorted order.\n",
    "void BST ::Inorder(BST* root){\n",
    "\tif (!root) {\n",
    "\t\treturn;\n",
    "\t}\n",
    "\tInorder(root->left);\n",
    "\tcout << root->data << endl;\n",
    "\tInorder(root->right);\n",
    "}\n",
    "\n",
    "// Driver code\n",
    "int main(){\n",
    "\tBST b, *root = NULL;\n",
    "\troot = b.Insert(root, 50);\n",
    "\tb.Insert(root, 30);\n",
    "\tb.Insert(root, 20);\n",
    "\tb.Insert(root, 40);\n",
    "\tb.Insert(root, 70);\n",
    "\tb.Insert(root, 50);\n",
    "\tb.Insert(root, 10);\n",
    "\n",
    "\tb.Inorder(root);\n",
    "\treturn 0;\n",
    "}"
   ]
  },
  {
   "cell_type": "markdown",
   "id": "f3242af2-6fe4-4d26-a8a8-2d1b9bb874dc",
   "metadata": {},
   "source": [
    "We have successfully implemented a dynamic array, feel free to continue resizing to see how it works.  "
   ]
  },
  {
   "cell_type": "markdown",
   "id": "4112625b-538b-451f-bf0c-08e0009a8e41",
   "metadata": {},
   "source": [
    "### **Insertion Sort**"
   ]
  },
  {
   "cell_type": "markdown",
   "id": "1448a4c8-388f-42ed-8a53-90ba71b31e62",
   "metadata": {},
   "source": [
    "Insertion sort is a simple sorting algorithm that works similar to the way you sort playing cards in your hands. The array is virtually split into a sorted and an unsorted part. Values from the unsorted part are picked and placed at the correct position in the sorted part.\n",
    "\n",
    "Insertion Sort Logic\n",
    "   - Iterate from arr[1] to arr[n] over the array. \n",
    "   - Compare the current element (key) to its predecessor. \n",
    "   - If the key element is smaller than its predecessor, compare it to the elements before. Move the greater elements one position up to make space for the swapped element."
   ]
  },
  {
   "cell_type": "code",
   "execution_count": null,
   "id": "ae094d8a-bda4-4504-bf54-054b183c9c5b",
   "metadata": {},
   "outputs": [],
   "source": [
    "  # Function to do insertion sort\n",
    "void display(int *array, int size) {\n",
    "   for(int i = 0; i<size; i++)\n",
    "      std::cout << array[i] << \" \";\n",
    "   std::cout << std::endl;\n",
    "}\n",
    "void insertionSort(int *array, int size) {\n",
    "   int key, j;\n",
    "   for(int i = 1; i<size; i++) {\n",
    "      key = array[i];//take value\n",
    "      j = i;\n",
    "      while(j > 0 && array[j-1]>key) {\n",
    "         array[j] = array[j-1];\n",
    "         j--;\n",
    "      }\n",
    "      array[j] = key;   //insert in right place\n",
    "   }\n",
    "}\n",
    "\n",
    "int n;\n",
    "std::cout << \"Enter the number of elements: \";\n",
    "std::cin >> n;\n",
    "int arr[n];    //create an array with given number of elements\n",
    "std::cout << \"Enter elements:\" << std::endl;\n",
    "for(int i = 0; i<n; i++) {\n",
    "    std::cin >> arr[i];\n",
    "}\n",
    "std::cout << \"Array before Sorting: \";\n",
    "display(arr, n);\n",
    "insertionSort(arr, n);\n",
    "std::cout << \"Array after Sorting: \";\n",
    "display(arr, n);"
   ]
  },
  {
   "cell_type": "code",
   "execution_count": null,
   "id": "09f387a7-3696-4092-abd3-0a65d7890d09",
   "metadata": {},
   "outputs": [],
   "source": []
  },
  {
   "cell_type": "markdown",
   "id": "b6eeb637-b911-4134-9cd6-7a0d8133418b",
   "metadata": {},
   "source": [
    "### **Time Complexity**"
   ]
  },
  {
   "cell_type": "markdown",
   "id": "43f43639-d150-467a-b93a-fd557f8ff901",
   "metadata": {},
   "source": [
    "An important topic of discussion within Data Structures is time complexity which is defined as the number of times a particular instruction set is executed rather than the total time is taken. It is because the total time taken also depends on some external factors like the compiler used, processor’s speed, and other varying dependancies. \n",
    "\n",
    "Time complexity is most often described by using Big Oh notation which describes the limiting bounds of functions as they go towards a particular value or infinity. In our example of Linear Search we can say it operates at O(n^2) time. Which means with every insert there is n*n operations, a high amount of inserts results in a high operation time. This is why linear sort works best when dealing with small sample sizes. "
   ]
  },
  {
   "cell_type": "markdown",
   "id": "e5b0b50a-7817-4202-812c-a1242b5901dc",
   "metadata": {},
   "source": [
    "## **Conclusion**"
   ]
  },
  {
   "cell_type": "markdown",
   "id": "aa830892-9214-4639-8fb9-f318f238b921",
   "metadata": {},
   "source": [
    "Data Structures is a very comprehensive course, with the topics discussed above we can begin to scratch the surface of algorithms analysis and basic structures we can use within computer science. It is expected by the end of the course that students will gain an understanding of the average and worst case analysis of the standard sorting techniques and develop the ability to analyze simple iterative and recursive functions. Which are essential skills for success within our field. \n"
   ]
  }
 ],
 "metadata": {
  "interpreter": {
   "hash": "fe44fef87f92f48a3a32707d0df204585f471652bc0ce87358a3ce712bc24db0"
  },
  "kernelspec": {
   "display_name": "Python 3 (ipykernel)",
   "language": "python",
   "name": "python3"
  },
  "language_info": {
   "codemirror_mode": {
    "name": "ipython",
    "version": 3
   },
   "file_extension": ".py",
   "mimetype": "text/x-python",
   "name": "python",
   "nbconvert_exporter": "python",
   "pygments_lexer": "ipython3",
   "version": "3.8.12"
  }
 },
 "nbformat": 4,
 "nbformat_minor": 5
}
