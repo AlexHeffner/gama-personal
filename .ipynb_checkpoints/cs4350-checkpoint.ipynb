{
 "cells": [
  {
   "cell_type": "markdown",
   "id": "5a0aa981-5b9c-4c9d-99f0-a3de305e37fe",
   "metadata": {},
   "source": [
    "![CS 4350](images/cs4350-title.png)"
   ]
  },
  {
   "cell_type": "markdown",
   "id": "b7aee7d1-3b40-49be-8327-acb95ac37f13",
   "metadata": {},
   "source": [
    "## **Course Description**\n",
    "This course provides an introduction to various aspects of game engine design. Topics include: audio, physics, networking, importing multimedia, terrain formats, GUIs, voice communications, virtual reality, and optimization techniques, with an emphasis on build systems and integration of third party libraries. Students will be able to describe the necessary sub-systems for a game engine and will be able to explain how to integrate multiple software libraries into a single project. Also, after completing this class, you will learn how to identify various common formats for multimedia in software projects and will learn how to design an interface usable by a third party to drive an application. You will be able to collect digital elevation models and orthoimagery from various public sources to incorporate into software projects. Finally, you will articulate how to implement a software project containing features such as audio, physics, or multiplayer collaboration."
   ]
  },
  {
   "cell_type": "markdown",
   "id": "e82a9970-3212-49c1-9cd7-41d33e286e33",
   "metadata": {},
   "source": [
    "## **What You'll Learn**\n",
    "...\n",
    "### **Topic 1**\n",
    "..."
   ]
  },
  {
   "cell_type": "code",
   "execution_count": null,
   "id": "d484aed3-605c-4cde-b787-b8f224657db3",
   "metadata": {},
   "outputs": [],
   "source": []
  },
  {
   "cell_type": "markdown",
   "id": "4072d1e4-8a72-4e75-8e87-9ad7dce4852c",
   "metadata": {},
   "source": [
    "### **Topic 2**\n",
    "..."
   ]
  },
  {
   "cell_type": "code",
   "execution_count": null,
   "id": "c12f858e-0c62-4bab-9e88-a850636b3bb3",
   "metadata": {},
   "outputs": [],
   "source": []
  },
  {
   "cell_type": "markdown",
   "id": "06ce2d6a-8237-4bbd-8638-d311b3bc228d",
   "metadata": {},
   "source": [
    "### **Topic 3**\n",
    "..."
   ]
  },
  {
   "cell_type": "code",
   "execution_count": null,
   "id": "c7098f82-d19b-4428-be6f-2cadf6f93041",
   "metadata": {},
   "outputs": [],
   "source": []
  },
  {
   "cell_type": "markdown",
   "id": "f7930cc5-43ec-4c18-b56e-15a3712cc3c4",
   "metadata": {},
   "source": [
    "## **Conclusion**\n",
    "..."
   ]
  }
 ],
 "metadata": {
  "kernelspec": {
   "display_name": "Python 3 (ipykernel)",
   "language": "python",
   "name": "python3"
  },
  "language_info": {
   "codemirror_mode": {
    "name": "ipython",
    "version": 3
   },
   "file_extension": ".py",
   "mimetype": "text/x-python",
   "name": "python",
   "nbconvert_exporter": "python",
   "pygments_lexer": "ipython3",
   "version": "3.9.10"
  }
 },
 "nbformat": 4,
 "nbformat_minor": 5
}
