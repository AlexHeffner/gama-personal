{
 "cells": [
  {
   "cell_type": "code",
   "execution_count": 3,
   "id": "d8591c75-34e2-48bc-9b97-9fc521c89c02",
   "metadata": {},
   "outputs": [
    {
     "name": "stdout",
     "output_type": "stream",
     "text": [
      "Hello World!"
     ]
    }
   ],
   "source": [
    "// Your First C++ Program\n",
    "\n",
    "#include <iostream>\n",
    "\n",
    "std::cout << \"Hello World!\";"
   ]
  },
  {
   "cell_type": "code",
   "execution_count": null,
   "id": "94aa59ed-45d9-4e1e-a767-ae3e2632abec",
   "metadata": {},
   "outputs": [],
   "source": []
  }
 ],
 "metadata": {
  "kernelspec": {
   "display_name": "C++11",
   "language": "C++11",
   "name": "xcpp11"
  },
  "language_info": {
   "codemirror_mode": "text/x-c++src",
   "file_extension": ".cpp",
   "mimetype": "text/x-c++src",
   "name": "c++",
   "version": "11"
  }
 },
 "nbformat": 4,
 "nbformat_minor": 5
}
