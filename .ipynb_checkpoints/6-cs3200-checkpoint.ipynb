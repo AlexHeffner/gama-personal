{
 "cells": [
  {
   "cell_type": "markdown",
   "id": "55c72f0e-5801-4bd0-b69a-f7fee77cac62",
   "metadata": {},
   "source": [
    "![cs3200 logo](images/cs3200IntroPage.PNG)"
   ]
  },
  {
   "cell_type": "markdown",
   "id": "4ab6cedd-ba9f-448a-bc51-5f525f0b6b2b",
   "metadata": {},
   "source": [
    "## **Course Description**\n",
    "\n",
    "This is a hands-on introduction to the science of programming and programming languages. This class includes many topics such as: structured data and pattern-matching, recursive and polymorphic data, recursion and higher-order functions, lazy evaluation and streams, automated and equational reasoning about programs, concrete and abstract syntax, grammars, interpreters, desugaring, types and type-checking, type safety, mutable state, references, and objects. Over the course of the semester, you will build interpreters and type checkers for a series of increasingly complex languages. We will cover just a few of these topics in this notebook."
   ]
  },
  {
   "cell_type": "markdown",
   "id": "0c407f3d-6dfd-4c36-a41d-ad25c1fa4027",
   "metadata": {},
   "source": [
    "## **What You'll Learn:**\n",
    "- Students will be able to design, implement, and analyze structured data types to solve computational problems.\n",
    "- Students will be able to analyze and reason equationally about the correctness of small functional programs.\n",
    "- Students will be able to apply understanding of grammars and syntax trees to implement a parser for an extended arithmetic expression language.\n",
    "- Students will be able to apply understanding of structured data types, pattern-matching, recursion, and programming language semantics to implement an interpreter for an extended arithmetic expression language.\n",
    "- Students will be able to apply understanding of type systems, type judgments, and inductively defined typing rules to implement a type checker for an extended arithmetic expression language."
   ]
  },
  {
   "cell_type": "markdown",
   "id": "8ab5c940-4b35-4de9-9464-d9b44f5c261a",
   "metadata": {},
   "source": [
    "## **Learning Outcomes**"
   ]
  },
  {
   "cell_type": "markdown",
   "id": "382ab446-9f89-42bb-9bba-b48535f68583",
   "metadata": {},
   "source": [
    "### **Structured Data Types**\n",
    "Throughout all programming languages there are differnt datatypes. You may have seen some such as integers, booleans, strings characters etc. Here we will go over a few that occure in python, and you will learn how to create your own data type."
   ]
  },
  {
   "cell_type": "markdown",
   "id": "39046957-19c8-4976-8b95-72b553478800",
   "metadata": {},
   "source": [
    "#### **Tuples & List**\n",
    "Tuples are an ordered sequence of items, which are immutable, meaning that the values of them cannot change after they are set. They can be made of muliple diffrent kinds of data types, such as integers, boolean, character, strings, arrays etc. List are almost the same as tuples but with one differnce. And that is that list are mutable.\n",
    "below is an example of a tuple. See if you can change the second value of the list."
   ]
  },
  {
   "cell_type": "code",
   "execution_count": 10,
   "id": "9a0a9073-0924-4277-b9b9-5fb46bc3d8ac",
   "metadata": {},
   "outputs": [
    {
     "name": "stdout",
     "output_type": "stream",
     "text": [
      "(1, 2, 3)\n",
      "('test', 2, [1, 4])\n"
     ]
    }
   ],
   "source": [
    "#In Python tuples are defined useing parenthises\n",
    "t = (1, 2, 3)\n",
    "print(t)\n",
    "\n",
    "tt = (\"test\", 2, [1,4])\n",
    "print(tt)"
   ]
  },
  {
   "cell_type": "code",
   "execution_count": 12,
   "id": "db956585-e649-438a-8768-d782881e9c09",
   "metadata": {},
   "outputs": [
    {
     "name": "stdout",
     "output_type": "stream",
     "text": [
      "[1, 2, 3]\n",
      "[0, 2, 3]\n"
     ]
    }
   ],
   "source": [
    "#In Python we define List using square brackets\n",
    "my_list = [1, 2, 3]\n",
    "print(my_list)\n",
    "\n",
    "#Here is where we are able to change the list\n",
    "my_list[0] = 0\n",
    "print(my_list)"
   ]
  },
  {
   "cell_type": "markdown",
   "id": "142ca295-e48d-45a9-985d-7701e1d3c25b",
   "metadata": {},
   "source": [
    "#### **Making your own data types**\n",
    "In almost all langueages you can create your own kinds of data types with rules you want your data to follow. Here is an example below.\n"
   ]
  },
  {
   "cell_type": "code",
   "execution_count": 16,
   "id": "b4a825df-3129-4262-9d84-4a4ecc60fcaa",
   "metadata": {},
   "outputs": [
    {
     "name": "stdout",
     "output_type": "stream",
     "text": [
      "Alex\n",
      "21\n",
      "['Coding', 'Basketball', 'Gaming']\n"
     ]
    }
   ],
   "source": [
    "# Here we define a class student and create a Init function that will take in the paramters when the data type is\n",
    "# created and give that datatype the values that was passed to it\n",
    "class Student:\n",
    "  def __init__(self, name, age, intrests):\n",
    "    self.name = name\n",
    "    self.age = age\n",
    "    self.intrests = intrests\n",
    "\n",
    "# Here we are able to pass in some data which will call back to our init function in our Student class\n",
    "s1 = Student(\"Alex\", 21, [\"Coding\",\"Basketball\", \"Gaming\"])\n",
    "\n",
    "print(s1.name)\n",
    "print(s1.age)\n",
    "print(s1.intrests)"
   ]
  },
  {
   "cell_type": "markdown",
   "id": "71246d92-e558-4b8d-83d0-2d62120a492b",
   "metadata": {},
   "source": [
    " \n",
    "Below is class called Dog, you can include other information such as breed, tricks, weight, age and more. See if you can add a type called \"age\" to the class and compare two dogs to see who which dog is older."
   ]
  },
  {
   "cell_type": "code",
   "execution_count": 25,
   "id": "4f68c236-1322-4e36-b0b3-6c2fbf122202",
   "metadata": {},
   "outputs": [
    {
     "name": "stdout",
     "output_type": "stream",
     "text": [
      "Billy\n"
     ]
    }
   ],
   "source": [
    "class Dog:\n",
    "  def __init__(self, name, breed, weight):\n",
    "    self.name = name\n",
    "    self.breed = breed\n",
    "    self.weight = weight\n",
    "\n",
    "# Here we are able to pass in some data which will call back to our init function in our Student class\n",
    "d1 = Dog(\"Billy\", \"Golden Retriver\", 65)\n",
    "d2 = Dog(\"lacy\", \"Great Dane\", 85)\n",
    "\n",
    "# Comparing the dogs weight\n",
    "if d1.weight < d2.weight:\n",
    "    print(d1.name)\n",
    "else:\n",
    "    print(d2.name)\n",
    "    "
   ]
  },
  {
   "cell_type": "markdown",
   "id": "bc2ececc-3442-462e-960c-aee9c3b1d4b9",
   "metadata": {},
   "source": [
    "Throught all of programing it is very important to understand the different data types and what they may be used for. When the standard data types don't fit the problem you are trying to solve, you can always create a datatype to help solve a problems for you. Although there might be differnt kinds of data types in differnt programming languages, they are very similar in the way they are implemented and when creating new datatypes.\n"
   ]
  },
  {
   "cell_type": "markdown",
   "id": "175223df-24aa-41e7-83db-392195bd5fc3",
   "metadata": {},
   "source": [
    "### **Recursion**\n"
   ]
  },
  {
   "cell_type": "code",
   "execution_count": 24,
   "id": "f8485122-7e44-4b6f-9e35-62e217ff8fe0",
   "metadata": {},
   "outputs": [
    {
     "name": "stdout",
     "output_type": "stream",
     "text": [
      "5\n",
      "4\n",
      "3\n",
      "2\n",
      "1\n",
      "0\n",
      "Blast off\n"
     ]
    }
   ],
   "source": [
    "def countdown(n):\n",
    "    print(n)\n",
    "    if n == 0:\n",
    "        print(\"Blast off\")\n",
    "        return             # Terminate recursion\n",
    "    else:\n",
    "        countdown(n - 1)   # Recursive call\n",
    "countdown(5)"
   ]
  },
  {
   "cell_type": "markdown",
   "id": "5194c28c-4c02-4460-9a9c-5a6ce35c9014",
   "metadata": {},
   "source": [
    "## **Conclusion**"
   ]
  },
  {
   "cell_type": "code",
   "execution_count": null,
   "id": "22478e33-1666-4677-a43a-964013a2e595",
   "metadata": {},
   "outputs": [],
   "source": []
  }
 ],
 "metadata": {
  "kernelspec": {
   "display_name": "Python 3 (ipykernel)",
   "language": "python",
   "name": "python3"
  },
  "language_info": {
   "codemirror_mode": {
    "name": "ipython",
    "version": 3
   },
   "file_extension": ".py",
   "mimetype": "text/x-python",
   "name": "python",
   "nbconvert_exporter": "python",
   "pygments_lexer": "ipython3",
   "version": "3.8.10"
  }
 },
 "nbformat": 4,
 "nbformat_minor": 5
}
