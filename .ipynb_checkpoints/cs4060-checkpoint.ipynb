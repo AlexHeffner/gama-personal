{
 "cells": [
  {
   "cell_type": "markdown",
   "id": "656c305c-6a76-4320-a8c7-269e86bfcc19",
   "metadata": {
    "deletable": false,
    "editable": false,
    "tags": []
   },
   "source": [
    "![Russ College Logo](images/logo.png)"
   ]
  },
  {
   "cell_type": "markdown",
   "id": "db104f34-8cbb-4d71-9a58-0e2bb7fe56cf",
   "metadata": {
    "deletable": false,
    "editable": false,
    "tags": []
   },
   "source": [
    "<b>\n",
    "    <p style=\"text-align:center;color:#00694E;font-family:copperplate;font-size:40px\">\n",
    "        CS 4060 - Computation Theory\n",
    "    </p>\n",
    "</b>"
   ]
  },
  {
   "cell_type": "markdown",
   "id": "828ac097-9735-463b-b711-b4552e452fb1",
   "metadata": {},
   "source": [
    "## **Course Description**\n",
    "\n",
    "In Computation Theory you will learn the fundamentals of formal language theory and the theory of computation. In formal language theory you will learn to understand different ways to recognize words and well-formed sentence according to a specific set of rules/syntax. You will also learn how to build this internal structure of the syntax. In the theory of computation, you will learn about Automata theory, Computability theory, and Computational complexity theory. In addition to this you will learn about various topics such as basic models of computation, the Church-Turing thesis, Turing machines, decidability and undecidability, computational complexity, NP-completeness, and diagonalization. In this class you can feel confident in learning the fundamentals of how computers function, how to understand the interworks of computer language syntax."
   ]
  },
  {
   "cell_type": "markdown",
   "id": "2e83c210-ff40-40c5-bb36-8e6f70d947b6",
   "metadata": {},
   "source": [
    "## **What You'll Learn**\n",
    "Throughout this page you will learn about how to convert a DFA into a regular expression. This example can really help you see how you can see the theory of formal language theory and turn it into something applicable, regualr expression. In the second example ..."
   ]
  },
  {
   "cell_type": "markdown",
   "id": "6ea8dd4b-c6e6-43c5-a85b-dfe63072baa1",
   "metadata": {},
   "source": [
    "### **Converting a DFA to a regular expression**\n",
    "DFA stands for Deterministic finite automaton. A DFA is a finite-state machine that accepts or rejects a given string of symbols, by running through a state sequence uniquely determined by the string. This state is often shown as diagrams which we will refer to as the DFA. In a DFA the arrows will tell how a DFA can get from one state to another, and it will have to \"eat\" the character above the arrow to get to the next state. A state with 2 circles around it can mean that it is allowed to be an end state. If a string is presented to the DFA and is not able to perfectly match and get to an end state, then it does not match the language set up by the DFA and is rejected.\n",
    "\n",
    "A Regular Expression is a common way of searching for a pattern in text and are used widely in computer science today. If you wanted to have a text pattern for an email, password, or username, you can specify what exactly kind of string you would like to accept, for instance, would you want to accept and email without an @ symbol?\n",
    "\n",
    "In this next example we will walk through how to convert a given DFA into a regular expression. Here is our initial DFA.\n",
    "<div>\n",
    "<img src=\"images/cs4060-dfa1.png\" width=\"400\"/>\n",
    "</div>\n",
    "First, we will want to add a new starting / initial state for our regex (qi). The epsilon can represent \"eating\" a null character or taking in nothing at all. This will leave us looking at our DFA as...\n",
    "<div>\n",
    "<img src=\"images/cs4060-dfa2.png\" width=\"400\"/>\n",
    "</div>\n",
    "Next, we will want an explicit end state like our initial fist so we will call it (qf), and it will come out of B, and it will take an epsilon because we do not want to change what the actual DFA recognizes as a string. Our next DFA will look like...\n",
    "<div>\n",
    "<img src=\"images/cs4060-dfa3.png\" width=\"400\"/>\n",
    "</div>\n",
    "Next, we can eliminate state A.  There is a path going from state qi to state B via state A.\n",
    "So, we can eliminate state A, and put a direct path from state qi to state B having cost ∈ plus the 0 that was used to get to B. Then we can implement the loop that was from state A and make B loop on itself making the character to be ate \"10\". This will result in our DFA looking like...\n",
    "<div>\n",
    "<img src=\"images/cs4060-dfa4.png\" width=\"400\"/>\n",
    "</div>\n",
    "Finally we can get rid of state be and get to our final DFA going from qi to qf\n",
    "We can eliminate state B by putting a direct path from state qi to state qf having cost 0 for the initial to b, and (10)* for having zero or however many times \"10\" show up in a row.\n",
    "<div>\n",
    "<img src=\"images/cs4060-dfa5.png\" width=\"400\"/>\n",
    "</div>\n",
    "This results in a final regex of 0(10)*\n",
    "\n",
    "Down below is a code example of the regex we made. Try out some of the examples that are made and see if you can guess which ones will match, and where in the string, and which ones wont match at all"
   ]
  },
  {
   "cell_type": "code",
   "execution_count": 5,
   "id": "a3ca4928-8140-4e71-aa72-e628b685f667",
   "metadata": {},
   "outputs": [
    {
     "name": "stdout",
     "output_type": "stream",
     "text": [
      "0101010\n"
     ]
    }
   ],
   "source": [
    "import re\n",
    "\n",
    "txt = \"0101010\"\n",
    "x = re.search(\"0(10)*\", txt)\n",
    "print(x.group())"
   ]
  },
  {
   "cell_type": "markdown",
   "id": "a17cbebe-49e0-412d-bf3f-a2a404095af8",
   "metadata": {},
   "source": [
    "### **Example 2**\n",
    "..."
   ]
  },
  {
   "cell_type": "markdown",
   "id": "07b8e7c2-1bcc-471d-a935-8241a56d8ca4",
   "metadata": {},
   "source": [
    "### **Example 3**\n",
    "..."
   ]
  },
  {
   "cell_type": "markdown",
   "id": "8ec4b81d-7d89-4ba1-b5b0-0ff0fde71f73",
   "metadata": {},
   "source": [
    "## **Conclusion**\n",
    "..."
   ]
  },
  {
   "cell_type": "markdown",
   "id": "1d0f9ae2-25f4-494d-af79-d2dbc867f575",
   "metadata": {
    "deletable": false,
    "editable": false,
    "tags": []
   },
   "source": [
    "<b>\n",
    "    <p style=\"text-align:center;color:#00694E;font-family:copperplate;font-size:13px\">\n",
    "        Made in 2022 by Gavin Dassatti, Alex Heffner, Matthew Lang, and Aaron Begy\n",
    "    </p>\n",
    "</b>"
   ]
  }
 ],
 "metadata": {
  "kernelspec": {
   "display_name": "Python 3 (ipykernel)",
   "language": "python",
   "name": "python3"
  },
  "language_info": {
   "codemirror_mode": {
    "name": "ipython",
    "version": 3
   },
   "file_extension": ".py",
   "mimetype": "text/x-python",
   "name": "python",
   "nbconvert_exporter": "python",
   "pygments_lexer": "ipython3",
   "version": "3.8.12"
  }
 },
 "nbformat": 4,
 "nbformat_minor": 5
}
