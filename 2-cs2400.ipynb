{
 "cells": [
  {
   "cell_type": "markdown",
   "id": "4d5cc06d-10c9-4176-8dcb-15b3c3383937",
   "metadata": {},
   "source": [
    "![cs2400 logo](images/cs2400.png)"
   ]
  },
  {
   "cell_type": "code",
   "execution_count": null,
   "id": "4233553a-ef79-4379-8438-390bc48e8499",
   "metadata": {},
   "outputs": [],
   "source": []
  }
 ],
 "metadata": {
  "kernelspec": {
   "display_name": "",
   "name": ""
  },
  "language_info": {
   "name": ""
  }
 },
 "nbformat": 4,
 "nbformat_minor": 5
}
