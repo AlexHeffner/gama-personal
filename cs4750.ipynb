{
 "cells": [
  {
   "cell_type": "markdown",
   "id": "64e5ffbd-2870-47db-a149-05d21e8f5056",
   "metadata": {},
   "source": [
    "![CS 4750](images/cs4750-title.png)"
   ]
  },
  {
   "cell_type": "markdown",
   "id": "4c32d7e3-b976-4cee-9a83-71dee3ca95eb",
   "metadata": {},
   "source": [
    "## **Course Description**\n",
    "\n",
    "In this class you will learn a varity of differnt topics such as Understanding internet protocols; network cabling, hubs, and switches; configuring network routers; configuring Unix and Windows workstations; measuring and analyzing network performance; and troubleshooting. If you would like to gain some experiance in the hands on side of computers, like connecting cables and learning about computer networks and routers this would be the class for you."
   ]
  },
  {
   "cell_type": "markdown",
   "id": "c6f52434-9378-49de-bd75-da4767283330",
   "metadata": {},
   "source": [
    "## **Learning Outcomes**\n",
    "- you will learn to use various hardware and software debugging and analysis tools.\n",
    "- you will gain a thorough understanding of the ethics of network monitoring, email filtering, and packet analysis.\n",
    "- you will become fluent in configuring operating systems (Windows, Linux, OSX), bridges, and routers.\n",
    "- you will become fluent with the limitations and consequences of network firewalls.\n",
    "- you will develop expertise in carefully handling and physicaly connecting delicate networking equipment.\n",
    "- you will develop the ability to quickly, efficiently, and correctly set up a very complicated network of computers, switch gear, and wiring.\n",
    "- you will gain a thorough understanding of the relationship between network speed and congestion, and data throughput.\n",
    "- you will develop expertise in tracking down and solving networking problems."
   ]
  },
  {
   "cell_type": "markdown",
   "id": "525feddf-4f3d-4a93-ad29-3d09428ccce5",
   "metadata": {
    "tags": []
   },
   "source": [
    "## **What You'll Learn**\n",
    "In this notebook you will first learn about analysis of a packet caputure. This will help you understand what infromation you can get from a packet caputre and how that can help you understand the network."
   ]
  },
  {
   "cell_type": "markdown",
   "id": "a367da09-8e70-456e-b05c-723ef693e93e",
   "metadata": {},
   "source": [
    "### **Packet Capture**\n",
    "What is a packet capture? A Packet Capture is a capturing Internet Protocol packets for analysis. Capturing packets is a common troubleshooting technique for network administrators, and is also used to examine network traffic for security threats. If there happened to be a data breach packets can provide very important information in finding out what happened and how it happened.\n",
    "\n",
    "This next example is taken from https://null-byte.wonderhowto.com/how-to/analyze-wi-fi-data-captures-with-jupyter-notebook-0201490/ where they used Wireshark to gather the data. Wireshark is a common packet capture tool used by many network administrators. In the example they used they studied a packet capture where client Wi-Fi devices had their real MAC addresses unmasked by fake networks. Fake networks are networks that are meant to imitate real public networks such as a Starbucks Wi-Fi. They are set up by hackers to steal your personal information. Generally, most devices will not reveal their true MAC address unless they find a trusted network. In the example below they were able to get into this trusted network category by using fake networks to fingerprint client devices to find out which networks they have connected to before. This can be thought of brute-forcing the \"Preferred network list\" stored inside people’s phones when looking for a network to connect to.\n",
    "\n",
    "In this example they were able to use real data that was taken from a Red Line Metro train riding from Wilshire & Vermont to Hollywood & Highland during rush hour. The tools used were ESP8266 with the \"Beacon Spammer\", Arduino sketch and a list of common Wi-Fi network names, and lastly Wireshark.\n",
    "\n",
    "Down below you can see how we can gather all differnt kinds of information from this data."
   ]
  },
  {
   "cell_type": "code",
   "execution_count": null,
   "id": "bba78b14-274c-4069-8c89-5709156b2d07",
   "metadata": {},
   "outputs": [],
   "source": [
    "## Here we imported some of the data from Wireshark converted to a CSV to gain some insight on the data.\n",
    "import pandas as pd\n",
    "from matplotlib import pyplot as plt\n",
    "wd = pd.read_csv('./src/MetroWilshireVermonttoHollywoodHighland.csv', delimiter = ',', encoding='latin-1', header=0) \n",
    "wd.sample(5)"
   ]
  },
  {
   "cell_type": "code",
   "execution_count": null,
   "id": "6456ac5c-3f55-4754-ae8f-7ea1d05ea289",
   "metadata": {},
   "outputs": [],
   "source": [
    "## This will disply the contents of a single probe request from a client to a fake network\n",
    "wd.iloc[61]"
   ]
  },
  {
   "cell_type": "code",
   "execution_count": null,
   "id": "1e18280a-d1a2-42aa-a494-44548a57faf6",
   "metadata": {},
   "outputs": [],
   "source": [
    "## Plotting directed packets (unmasked clients) connecting to fake networks over time\n",
    "## Here, we analyze when a clients is connecting to a fake network over time in the first figure.\n",
    "## In the second, we analyze which fake networks are recieving directed packets from unmasked clients over time.\n",
    "plt.rcParams[\"figure.figsize\"] = (20,10)\n",
    "plt.plot(wd['Time'], wd['Transmitter address'], 'o', color='DarkGreen')\n",
    "plt.title('Clients Connecting to Fake Networks Over Time')\n",
    "plt.xlabel('Time')\n",
    "plt.ylabel('Real Clients Sending Directed Packets To Fake Networks')\n",
    "plt.show()\n",
    "plt.plot(wd['Time'], wd['Destination address'], 'o', color='DarkBlue')\n",
    "plt.title('Fake Networks Broadcasted by the Beacon Spammer Recieving Directed Packets')\n",
    "plt.xlabel('Time')\n",
    "plt.ylabel('Beacon Spammer MAC of Fake Networks Recieving Hit')\n",
    "plt.show()"
   ]
  },
  {
   "cell_type": "code",
   "execution_count": null,
   "id": "b04a610a-150b-4fbe-ab94-321e824c2c51",
   "metadata": {},
   "outputs": [],
   "source": [
    "## Plotting which client MAC addresses responds to which fake network MAC addresses\n",
    "## Here, we see a fingerprint for every client device on the left. \n",
    "## We can scan the row a device is in to determine which unique fake networks it will respond to.\n",
    "## We can scan a column to find which fake networks cause the most client devices to respond. \n",
    "plt.rcParams[\"figure.figsize\"] = (25,10)\n",
    "plt.plot(wd['Destination address'].str[-5:], wd['Transmitter address'].str[-5:], 'o',)\n",
    "plt.title('Clients Connecting to Fake Networks')\n",
    "plt.xlabel('Beacon Spammer Fake Networks')\n",
    "plt.ylabel('Real Clients Connecting')\n",
    "plt.show()"
   ]
  },
  {
   "cell_type": "code",
   "execution_count": null,
   "id": "da7f8528-2ca3-4ab4-9b88-66aa53ac5ef2",
   "metadata": {},
   "outputs": [],
   "source": [
    "# Frequencey of manufacturer types - Packets matched to manufacturers by Wireshark\n",
    "# The graph shows how many packets were recieved by a device from a particular manufacturer.\n",
    "\n",
    "plt.figure();\n",
    "src_dst['Source'].str[:6].value_counts().plot.bar()\n",
    "plt.axhline(0, color='k');"
   ]
  },
  {
   "cell_type": "markdown",
   "id": "54ff7a0f-592e-46b1-8fcd-864fea97fef8",
   "metadata": {},
   "source": [
    "### **Subtopic 2**"
   ]
  },
  {
   "cell_type": "markdown",
   "id": "5203a085-15ac-4af1-9f1f-0ea6982060c7",
   "metadata": {},
   "source": [
    "## **Conclusion**"
   ]
  }
 ],
 "metadata": {
  "kernelspec": {
   "display_name": "Python 3 (ipykernel)",
   "language": "python",
   "name": "python3"
  },
  "language_info": {
   "codemirror_mode": {
    "name": "ipython",
    "version": 3
   },
   "file_extension": ".py",
   "mimetype": "text/x-python",
   "name": "python",
   "nbconvert_exporter": "python",
   "pygments_lexer": "ipython3",
   "version": "3.8.12"
  }
 },
 "nbformat": 4,
 "nbformat_minor": 5
}
