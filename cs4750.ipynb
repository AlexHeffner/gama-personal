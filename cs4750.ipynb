{
 "cells": [
  {
   "cell_type": "markdown",
   "id": "bf62a058-778e-4ffa-9565-ff8ed2e86d84",
   "metadata": {
    "deletable": false,
    "editable": false,
    "tags": []
   },
   "source": [
    "![Russ College Logo](images/logo.png)"
   ]
  },
  {
   "cell_type": "markdown",
   "id": "64e5ffbd-2870-47db-a149-05d21e8f5056",
   "metadata": {
    "deletable": false,
    "editable": false,
    "tags": []
   },
   "source": [
    "![CS 4750](images/cs4750-title.png)"
   ]
  },
  {
   "cell_type": "markdown",
   "id": "4c32d7e3-b976-4cee-9a83-71dee3ca95eb",
   "metadata": {
    "deletable": false,
    "editable": false,
    "tags": []
   },
   "source": [
    "## **Course Description**\n",
    "\n",
    "In this class you will learn a variety of different topics such as Understanding internet protocols; network cabling, hubs, and switches; configuring network routers; configuring Unix and Windows workstations; measuring and analyzing network performance; and troubleshooting. If you would like to gain some experience in the hands on side of computers, like connecting cables and learning about computer networks and routers this would be the class for you."
   ]
  },
  {
   "cell_type": "markdown",
   "id": "c6f52434-9378-49de-bd75-da4767283330",
   "metadata": {
    "deletable": false,
    "editable": false,
    "tags": []
   },
   "source": [
    "## **Learning Outcomes**\n",
    "- you will learn to use various hardware and software debugging and analysis tools.\n",
    "- you will gain a thorough understanding of the ethics of network monitoring, email filtering, and packet analysis.\n",
    "- you will become fluent in configuring operating systems (Windows, Linux, OSX), bridges, and routers.\n",
    "- you will become fluent with the limitations and consequences of network firewalls.\n",
    "- you will develop expertise in carefully handling and physically connecting delicate networking equipment.\n",
    "- you will develop the ability to quickly, efficiently, and correctly set up a very complicated network of computers, switch gear, and wiring.\n",
    "- you will gain a thorough understanding of the relationship between network speed and congestion, and data throughput.\n",
    "- you will develop expertise in tracking down and solving networking problems."
   ]
  },
  {
   "cell_type": "markdown",
   "id": "525feddf-4f3d-4a93-ad29-3d09428ccce5",
   "metadata": {
    "deletable": false,
    "editable": false,
    "tags": []
   },
   "source": [
    "## **What You'll Learn**\n",
    "In this notebook you will first learn about analysis of a packet capture. This will help you understand what information you can get from a packet capture and how that can help you understand the network. The second topic we introduce you to is network protocols. These are the rules on which devices communicate with each other over networks. you will learn the difference between them and which ones you might want to use in different situations."
   ]
  },
  {
   "cell_type": "markdown",
   "id": "9da93529-c5ec-485c-ab37-8460a4bac86e",
   "metadata": {
    "deletable": false,
    "editable": false,
    "tags": []
   },
   "source": [
    "![CS 4750-wireshark](images/cs4750-wireshark.png)"
   ]
  },
  {
   "cell_type": "markdown",
   "id": "2f4eda9b-090f-41f8-a54e-6b67d7f6bad1",
   "metadata": {
    "deletable": false,
    "editable": false,
    "tags": []
   },
   "source": [
    "The image above shows a screen capture of the Wireshark application that analyzes captured packets. In line 111 we can see the source being the IP address of a network that a computer is connected to with the destination being 8.8.8.8 which is Google's DNS address. In the info we can see that it was a ping request. In the next line we can see that there is a packet from Google (8.8.8.8) with the destination being the same as the network that sent the request. \n",
    "\n",
    "Underneath the packet list you can see multiple drop arrows that can provided more information on each packet. In this class you will learn more about the information on these packets. This information can help you understand how IP addresses are used, as well as what protocols are used when interacting with different websites, and why."
   ]
  },
  {
   "cell_type": "markdown",
   "id": "54ff7a0f-592e-46b1-8fcd-864fea97fef8",
   "metadata": {
    "deletable": false,
    "editable": false,
    "tags": []
   },
   "source": [
    "### **Network Protocols**\n",
    "What is a network protocol? A network protocol is a set of rules telling devices how to transmit data to each other. There are thousands of different protocols for different devices or different reasons. We can generally categorize these protocols into 3 different kinds, Communication protocols, Network Management protocols, and Security protocols.\n",
    "\n",
    "#### **Communication Protocols** \n",
    "Communication Protocols allow different network devices to communicate with each other. This can be transmitting files, messaging, and connection to the internet. They also handle error detection, authentication, synchronization, and semantics that apply to both analog and digital communications. A few examples of Communication Protocols are listed below.\n",
    "\n",
    "- (IP) Internet Protocol: Delivers packets from the host to the destination host solely based on the IP addresses in the packet headers. Often used with TCP and sometimes referred to as TCP/IP.\n",
    "- (TCP) Transmission Control Protocol: Separates data into packets that can be shared over a network. These packets can then be sent by devices like switches and routers to the designated targets.\n",
    "- (UDP) User Datagram Protocol: works in a similar way to TCP, sending packets of data over the network. The main difference between the two is that TCP ensures that packets are received where UDP does not. This can be useful in Videos, Audio, and games, due to the fact that a person may want to give up some of data for a quicker load time.\n",
    "- (HTTP) Hyper Text Transfer Protocol: Is an application layer protocol that allows the web browser to communicate with the server.\n",
    "\n",
    "To get an idea of how these different protocols can work, and how the meta data might be different take a look at some diagrams below shows TCP and UDP packets differ.\n",
    "\n",
    "TCP Diagram:\n",
    "![CS 4750-tcp](images/cs4750-tcp.svg)\n",
    "\n",
    "UDP Diagram:\n",
    "![CS 4750-udp](images/cs4750-udp.svg)\n",
    "\n",
    "These diagrams were found from Khan Academy, and more information can be found from theses links:\n",
    "- https://www.khanacademy.org/computing/computers-and-internet/xcae6f4a7ff015e7d:the-internet/xcae6f4a7ff015e7d:transporting-packets/a/transmission-control-protocol--tcp\n",
    "\n",
    "- https://www.khanacademy.org/computing/computers-and-internet/xcae6f4a7ff015e7d:the-internet/xcae6f4a7ff015e7d:transporting-packets/a/user-datagram-protocol-udp\n",
    "\n",
    "#### **Network Management Protocols** \n",
    "Network Management Protocols determine the rules used to monitor, manage, and maintain your computer network. They also communicate these needs across the network to ensure stable communication and optimal performance across the board.\n",
    "\n",
    "Network managers use network management protocols to test connections between the host and the client. These protocols can provide information such as connection's status, availability, packets, data loss, and much more. The rules of the network management protocols can be applied to all devices on the network, such as computers, switches, routers, and servers. There are two main network management protocols SNMP and ICMP.\n",
    "\n",
    "- (SNMP) Simple Network Management Protocol: Is mainly used to monitor and manage network devices. This protocol allows network managers to view and modify endpoint information to alter behavior of devices across the network. \n",
    "- (ICMP) Internet Control Message Protocol: is primarily used for diagnostic/troubleshooting purposes. Managed devices on the network can use this protocol to send error messages, which will provide information about network connectivity issues between different devices connected to the network.\n",
    "\n",
    "#### **Security Protocols** \n",
    "Security Protocols are protocols that are used to keep the data traveling across the network secure. This means that this protocol will dictate the rules in which a computer attempts to review or extract data. This helps ensure that no unauthorized users, services, or devices access your network data, and this works across all data types and network mediums being used. Generally, security protocols use encryption and cryptography to secure data so that only special algorithms, formulas, and keys can make this data accessible. This will make sure that when a computer attempts to read certain data, they must have the correct key to view the data. A few examples of Security Protocols are listed below.\n",
    "\n",
    "- (SSL) Secure Sockets Layer: This protocol uses encryption to secure data as it transferers over the internet. SSL uses a process called a handshake to authenticate weather a computer is who it claims to be. SSL also implements data integrity to make sure that the data has not changed during the transfer.\n",
    "- (TLS) Transport Layer Security: Is the current version of SSL, SSL has not been updated since 1996 and TSL is the more updated version. Sometimes SSL and TSL are used interchangeably.\n",
    "- (HTTPS) Hyper Text Transfer Protocol Secure: This protocol uses TLS to encrypt data from the HTTP protocol.\n"
   ]
  },
  {
   "cell_type": "markdown",
   "id": "5203a085-15ac-4af1-9f1f-0ea6982060c7",
   "metadata": {
    "deletable": false,
    "editable": false,
    "tags": []
   },
   "source": [
    "## **Conclusion**\n",
    "You learn so much about how to set up computers, configure operating systems, networking analysis and so many more topics that we as computer science students don’t think about when doing our work. This class will help you really understand how the internet works and what all goes into connecting devices to each other and how to make the connections secure. Once you complete this course you will confidently be able to set up computers, analyze network connection, and solve networking problems, and will be a networking expert!"
   ]
  },
  {
   "cell_type": "markdown",
   "id": "c4d1eeb8-93cb-4c57-8202-1ef21276e294",
   "metadata": {
    "deletable": false,
    "editable": false,
    "tags": []
   },
   "source": [
    "<b>\n",
    "    <p style=\"text-align:center;color:#00694E;font-family:copperplate;font-size:13px\">\n",
    "        Made in 2022 by Gavin Dassatti, Alex Heffner, Matthew Lang, and Aaron Begy\n",
    "    </p>\n",
    "</b>"
   ]
  }
 ],
 "metadata": {
  "kernelspec": {
   "display_name": "Python 3 (ipykernel)",
   "language": "python",
   "name": "python3"
  },
  "language_info": {
   "codemirror_mode": {
    "name": "ipython",
    "version": 3
   },
   "file_extension": ".py",
   "mimetype": "text/x-python",
   "name": "python",
   "nbconvert_exporter": "python",
   "pygments_lexer": "ipython3",
   "version": "3.9.10"
  }
 },
 "nbformat": 4,
 "nbformat_minor": 5
}
