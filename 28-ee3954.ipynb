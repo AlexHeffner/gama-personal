{
 "cells": [
  {
   "cell_type": "markdown",
   "id": "fdf3ef00-c331-4c3c-a6d9-75fd849ffaa0",
   "metadata": {},
   "source": [
    "![EE 3954 Logo](images/ee3954-title.png)"
   ]
  },
  {
   "cell_type": "markdown",
   "id": "b57bac7f-0114-4296-9916-96bb1f1d914a",
   "metadata": {},
   "source": [
    "## **Course Description**\n",
    "EE 3954 ......\n"
   ]
  },
  {
   "cell_type": "markdown",
   "id": "a62ca83c-1ac7-4c16-b39e-bbf7f52e7317",
   "metadata": {},
   "source": [
    "## **What You'll Learn**\n",
    "\n",
    "These examples......"
   ]
  },
  {
   "cell_type": "markdown",
   "id": "f62e4ee4-c058-4b02-8f10-b0598f2246ab",
   "metadata": {},
   "source": [
    "## **Conclusion**\n",
    "EE 3954 ....."
   ]
  }
 ],
 "metadata": {
  "kernelspec": {
   "display_name": "Python 3 (ipykernel)",
   "language": "python",
   "name": "python3"
  },
  "language_info": {
   "codemirror_mode": {
    "name": "ipython",
    "version": 3
   },
   "file_extension": ".py",
   "mimetype": "text/x-python",
   "name": "python",
   "nbconvert_exporter": "python",
   "pygments_lexer": "ipython3",
   "version": "3.9.9"
  }
 },
 "nbformat": 4,
 "nbformat_minor": 5
}
