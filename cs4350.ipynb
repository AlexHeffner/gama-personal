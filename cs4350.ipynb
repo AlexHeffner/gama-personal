{
 "cells": [
  {
   "cell_type": "markdown",
   "id": "5a0aa981-5b9c-4c9d-99f0-a3de305e37fe",
   "metadata": {},
   "source": [
    "![CS 4350](images/cs4350-title.png)"
   ]
  },
  {
   "cell_type": "markdown",
   "id": "b7aee7d1-3b40-49be-8327-acb95ac37f13",
   "metadata": {},
   "source": [
    "## **Course Description**\n",
    "This course provides an introduction to various aspects of game engine design. Topics include: audio, physics, networking, importing multimedia, terrain formats, GUIs, voice communications, virtual reality, and optimization techniques, with an emphasis on build systems and integration of third party libraries. Students will be able to describe the necessary sub-systems for a game engine and will be able to explain how to integrate multiple software libraries into a single project. Also, after completing this class, you will learn how to identify various common formats for multimedia in software projects and will learn how to design an interface usable by a third party to drive an application. You will be able to collect digital elevation models and orthoimagery from various public sources to incorporate into software projects. Finally, you will articulate how to implement a software project containing features such as audio, physics, or multiplayer collaboration."
   ]
  },
  {
   "cell_type": "markdown",
   "id": "e82a9970-3212-49c1-9cd7-41d33e286e33",
   "metadata": {},
   "source": [
    "## **What You'll Learn**\n",
    "One programming concept that is critical to a way that a game engine functions, is inheritence. Inheritance allows programmers to create classes that are built upon existing classes, to specify a new implementation while maintaining some of the same behaviors. In create a game engine, you want some parts to have some of the same functionalities as others, and inheritence is an efficient way to do that. In this class, you will write code using inheritence.\n",
    "### **Inheritence in C++**\n",
    "In this first example, inheritence is explained in an easy-to-understand way. A class is created for a vehicle, and a class is created for a four wheeler. Then, a car class is created, which inherits all of the functions of the vehicle AND four wheeler classes. Run the following code snipits to view the result.\n",
    "#### **Example 1:**\n",
    "**CODING CHALLENGE!!! Create another class, called bus, that ONLY inherits from the vehicle class**"
   ]
  },
  {
   "cell_type": "code",
   "execution_count": null,
   "id": "d484aed3-605c-4cde-b787-b8f224657db3",
   "metadata": {},
   "outputs": [],
   "source": [
    "// C++ program to explain multiple inheritance\n",
    "#include<iostream>\n",
    "using namespace std;\n",
    "\n",
    "// first base class\n",
    "class Vehicle {\n",
    "public:\n",
    "\tVehicle()\n",
    "\t{\n",
    "\tcout << \"This is a Vehicle\\n\";\n",
    "\t}\n",
    "    // CAN HAVE MORE FUNCTIONS HERE\n",
    "};"
   ]
  },
  {
   "cell_type": "code",
   "execution_count": null,
   "id": "101db6f8-fe55-4eae-99e4-76a48acf6ee7",
   "metadata": {},
   "outputs": [],
   "source": [
    "// second base class\n",
    "class FourWheeler {\n",
    "public:\n",
    "\tFourWheeler()\n",
    "\t{\n",
    "\tcout << \"This is a 4 wheeler Vehicle\\n\";\n",
    "\t}\n",
    "    // CAN HAVE MORE FUNCTIONS HERE\n",
    "};"
   ]
  },
  {
   "cell_type": "code",
   "execution_count": null,
   "id": "2624c957-6a5e-47c8-a670-867833cbc063",
   "metadata": {},
   "outputs": [],
   "source": [
    "// Create another class called bus here!!!"
   ]
  },
  {
   "cell_type": "code",
   "execution_count": null,
   "id": "58be9aad-b738-4c90-834d-b111521de4f8",
   "metadata": {},
   "outputs": [],
   "source": [
    "// sub class derived from two base classes\n",
    "class Car : public Vehicle, public FourWheeler \n",
    "{\n",
    "    // CAN HAVE MORE FUNCTIONS HERE\n",
    "};"
   ]
  },
  {
   "cell_type": "code",
   "execution_count": null,
   "id": "07dd8806-8bc7-4015-bd9b-cc04d24a125d",
   "metadata": {},
   "outputs": [],
   "source": [
    "// Creating object of sub class will\n",
    "// invoke the constructor of base classes.\n",
    "Car obj;\n",
    "return 0;"
   ]
  },
  {
   "cell_type": "markdown",
   "id": "635deb29-2475-4927-89a8-591c104a32a1",
   "metadata": {},
   "source": [
    "#### **Example 2:**\n",
    "This example should complete your understanding of inheritence. A class is created for \"shape\", containing functions of setWidth and setHeight. Another class is created for \"PaintCost\", which has a function that calculates the cost for a given paint job based on the area. Finally, a \"Rectangle\" class is created, inheriting from the shape and PaintCost classes, since a rectangle is both a shape and has a corresponding cost of painting. Therefore, a rectangle inherits all of the functionalities of both the Shape and PaintCost classes. Run the code to see the result!"
   ]
  },
  {
   "cell_type": "code",
   "execution_count": null,
   "id": "8c054358-ed9e-4b0f-8c99-15d41794ede4",
   "metadata": {},
   "outputs": [],
   "source": [
    "#include <iostream>\n",
    " \n",
    "using namespace std;\n",
    "\n",
    "// Base class Shape\n",
    "class Shape {\n",
    "   public:\n",
    "      void setWidth(int w) {\n",
    "         width = w;\n",
    "      }\n",
    "      void setHeight(int h) {\n",
    "         height = h;\n",
    "      }\n",
    "      \n",
    "   protected:\n",
    "      int width;\n",
    "      int height;\n",
    "};"
   ]
  },
  {
   "cell_type": "code",
   "execution_count": null,
   "id": "8b601ea5-dc63-4d50-bc32-219a5f5c4ca8",
   "metadata": {},
   "outputs": [],
   "source": [
    "// Base class PaintCost\n",
    "class PaintCost {\n",
    "   public:\n",
    "      int getCost(int area) {\n",
    "         return area * 70;\n",
    "      }\n",
    "};"
   ]
  },
  {
   "cell_type": "code",
   "execution_count": null,
   "id": "7165c90a-857f-464e-949d-098663431670",
   "metadata": {},
   "outputs": [],
   "source": [
    "// Derived class\n",
    "class Rectangle: public Shape, public PaintCost {\n",
    "   public:\n",
    "      int getArea() {\n",
    "         return (width * height); \n",
    "      }\n",
    "};"
   ]
  },
  {
   "cell_type": "code",
   "execution_count": null,
   "id": "b9d836d1-a19d-42ec-bef3-ba1ff9352058",
   "metadata": {},
   "outputs": [],
   "source": [
    "Rectangle Rect;\n",
    "int area;\n",
    "Rect.setWidth(5);\n",
    "Rect.setHeight(7);\n",
    "area = Rect.getArea();\n",
    "// Print the area of the object.\n",
    "cout << \"Total area: \" << Rect.getArea() << endl;\n",
    "// Print the total cost of painting\n",
    "cout << \"Total paint cost: $\" << Rect.getCost(area) << endl;\n",
    "return 0;"
   ]
  },
  {
   "cell_type": "markdown",
   "id": "06ce2d6a-8237-4bbd-8638-d311b3bc228d",
   "metadata": {},
   "source": [
    "### **Compiling / Running a Game Engine**\n",
    "In this class, you will the game engine, AftrBurner. AftrBurner is an OpenGL game engine, and renders 3D objects.\n",
    "#### **Installing and using third party libraries**\n",
    "In this class, you will learn how to use many third party libraries when building / coding a game engine. A big part of this class is learning how to install libraries at the correct location, and linking those libraries so they are configured properly when built. This process of installing / linking libraries will differ based on your operating system (Mac, Windows, or Linux). Listed below are the main libraries that the game engine, AftrBurner, uses: \n",
    "- boost       - Many libraries that support backend of the engine \n",
    "- irrklang    - Library that supports sound\n",
    "- PhysX       - Library that supports gravity and other real world functionalities\n",
    "- Dear ImGUI  - Library that supports a graphical user interface"
   ]
  },
  {
   "cell_type": "markdown",
   "id": "b4cd633f-dc25-4565-9e89-8271cc6d1d03",
   "metadata": {},
   "source": [
    "#### **Using CMake for building**\n",
    "To initiate the build process for the game engine AftrBurner, you will use CMake. CMake packages together and builds software. The first step in using CMake is identifying where the source code is (where CMakeLists.txt lives), and where you want the finished build product's binaries to be placed. In the picture below, the full paths of the source code and binaries are entered in."
   ]
  },
  {
   "cell_type": "markdown",
   "id": "f8e35ef7-7564-4925-a047-08fda95dbd27",
   "metadata": {},
   "source": [
    "![CS 4350](images/cs4350-locations.png)"
   ]
  },
  {
   "cell_type": "markdown",
   "id": "509d893d-cc9f-4dbd-aee6-98896f6aef44",
   "metadata": {},
   "source": [
    "Next, you need to verify that all of your variables are properly set in CMake. Some of these variables correspond to the libraries that you built, such as the boost variables below. If a variable that you need is not properly set, your project will not build correctly."
   ]
  },
  {
   "cell_type": "markdown",
   "id": "30f470e0-3da4-438f-a32e-a530af75b348",
   "metadata": {},
   "source": [
    "![CS 4350](images/cs4350-variables.png)"
   ]
  },
  {
   "cell_type": "markdown",
   "id": "499780f5-9b2d-4e7a-8853-9b6a207c7243",
   "metadata": {},
   "source": [
    "Finally, the last step in the CMake build process is actually building the binaries. On Windows, this creates a .sln visual studio project that you can run. On MacOS or linux, this creates a Makefile to build the executable. As illustrated in the picture below, the next step is hitting the \"configure\" and \"generate\" buttons."
   ]
  },
  {
   "cell_type": "markdown",
   "id": "3c43df87-18f6-42b2-8969-c6212f395f00",
   "metadata": {},
   "source": [
    "![CS 4350](images/cs4350-generate.png)"
   ]
  },
  {
   "cell_type": "markdown",
   "id": "4a90c833-b369-42a2-8439-c99e19402226",
   "metadata": {},
   "source": [
    "#### **Using make / visual studio for compiling**\n",
    "Once your binaries are properly built, you will finally be able to run the game engine!\n",
    "On MacOS / Linux, run the generated Makefile and the executable produced\n",
    "On Windows, open the generated .sln and run through the IDE, Visual Studio.\n",
    "The end result is pictured below!!"
   ]
  },
  {
   "cell_type": "markdown",
   "id": "554a4e9d-27bb-4f63-a9f3-ea2fb5e2d40e",
   "metadata": {},
   "source": [
    "![CS 4350](images/cs4350-result.png)"
   ]
  },
  {
   "cell_type": "markdown",
   "id": "f7930cc5-43ec-4c18-b56e-15a3712cc3c4",
   "metadata": {
    "jp-MarkdownHeadingCollapsed": true,
    "tags": []
   },
   "source": [
    "## **Conclusion**\n",
    "..."
   ]
  }
 ],
 "metadata": {
  "kernelspec": {
   "display_name": "Python 3 (ipykernel)",
   "language": "python",
   "name": "python3"
  },
  "language_info": {
   "codemirror_mode": {
    "name": "ipython",
    "version": 3
   },
   "file_extension": ".py",
   "mimetype": "text/x-python",
   "name": "python",
   "nbconvert_exporter": "python",
   "pygments_lexer": "ipython3",
   "version": "3.9.10"
  }
 },
 "nbformat": 4,
 "nbformat_minor": 5
}
