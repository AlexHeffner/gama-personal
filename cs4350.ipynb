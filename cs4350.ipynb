{
 "cells": [
  {
   "cell_type": "markdown",
   "id": "5a0aa981-5b9c-4c9d-99f0-a3de305e37fe",
   "metadata": {},
   "source": [
    "![CS 4350](images/cs4350-title.png)"
   ]
  },
  {
   "cell_type": "markdown",
   "id": "b7aee7d1-3b40-49be-8327-acb95ac37f13",
   "metadata": {},
   "source": [
    "## **Course Description**\n",
    "..."
   ]
  },
  {
   "cell_type": "markdown",
   "id": "e82a9970-3212-49c1-9cd7-41d33e286e33",
   "metadata": {},
   "source": [
    "## **What You'll Learn**\n",
    "...\n",
    "### **Topic 1**\n",
    "...\n",
    "### **Topic 2**\n",
    "...\n",
    "### **Topic 3**\n",
    "..."
   ]
  },
  {
   "cell_type": "markdown",
   "id": "f7930cc5-43ec-4c18-b56e-15a3712cc3c4",
   "metadata": {},
   "source": [
    "## **Conclusion**\n",
    "..."
   ]
  }
 ],
 "metadata": {
  "kernelspec": {
   "display_name": "Python 3 (ipykernel)",
   "language": "python",
   "name": "python3"
  },
  "language_info": {
   "codemirror_mode": {
    "name": "ipython",
    "version": 3
   },
   "file_extension": ".py",
   "mimetype": "text/x-python",
   "name": "python",
   "nbconvert_exporter": "python",
   "pygments_lexer": "ipython3",
   "version": "3.9.10"
  }
 },
 "nbformat": 4,
 "nbformat_minor": 5
}
