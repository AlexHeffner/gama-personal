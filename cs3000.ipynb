{
 "cells": [
  {
   "cell_type": "markdown",
   "id": "8703779d-d9a8-45b6-a873-541439141a0d",
   "metadata": {
    "deletable": false,
    "editable": false,
    "tags": []
   },
   "source": [
    "![Russ College Logo](images/logo.png)"
   ]
  },
  {
   "cell_type": "markdown",
   "id": "e27008cd-9ddc-4d27-bc0d-0681fdebe0b3",
   "metadata": {
    "deletable": false,
    "editable": false,
    "tags": []
   },
   "source": [
    "<b>\n",
    "    <p style=\"text-align:center;color:#00694E;font-family:copperplate;font-size:40px\">\n",
    "        CS 3000 - Introduction to Discrete Structures\n",
    "    </p>\n",
    "</b>"
   ]
  },
  {
   "cell_type": "markdown",
   "id": "0d3dba36-ffee-443a-8da1-c5f237c7f8b5",
   "metadata": {
    "deletable": false,
    "editable": false,
    "tags": []
   },
   "source": [
    "## **Course Description**\n",
    "\n",
    "In this course you will learn about Discrete Mathematics and its application to computer science. This will include propositional logic, number theory and proofs, sequences, and mathematical induction, set theory, counting and combinatorics, discrete probability, functions, recursion, simple analysis of algorithms, and orderings and relations. We will cover a couple of these topics in this notebook. We will be looking at set theory and inductive proofs."
   ]
  },
  {
   "cell_type": "markdown",
   "id": "4fd458c8-c484-4da9-a29c-6588cbe2b167",
   "metadata": {
    "deletable": false,
    "editable": false,
    "tags": []
   },
   "source": [
    "## **What You'll Learn**\n",
    "\n",
    "In the next few coding examples, set theory is covered, which is an important concept in CS 3000. Also, you will get an introduction to what an inductive proof is. Writing correct and thorough mathematical proofs is a major component in this class.\n",
    "\n",
    "### **Set Theory** \n",
    "Set theory is a branch of mathematical logic that studies set which can be described as collections of objects. Although objects of any kind can be collected into a set, set theory, as a branch of mathematics, is mostly concerned with those that are relevant to mathematics. In computer science we can look at these techniques to help us see what’s similar and what’s different between sets. Below are some python code snippets that describe some of the set theory attributes. Feel free to change around the list to see what output will be produced after changing them."
   ]
  },
  {
   "cell_type": "code",
   "execution_count": null,
   "id": "49372ba3-632a-4384-91ee-cfc0ddf7b60d",
   "metadata": {
    "deletable": false,
    "tags": []
   },
   "outputs": [],
   "source": [
    "#Python code used to describe Union\n",
    "def Union(list1, list2):\n",
    "    final_list = list(set(list1) | set(list2))\n",
    "    return final_list\n",
    "  \n",
    "# Defnining list\n",
    "list1 = [6, 20, 9, 13, 5]\n",
    "list2 = [5, 25, 6, 15, 12]\n",
    "\n",
    "#Printing Union\n",
    "print(Union(list1, list2))"
   ]
  },
  {
   "cell_type": "code",
   "execution_count": null,
   "id": "28930af0-b3cc-4aee-859d-78530c499033",
   "metadata": {
    "deletable": false,
    "tags": []
   },
   "outputs": [],
   "source": [
    "# Python program to describe Intersection\n",
    "def intersection(list1, list2):\n",
    "    list3 = [value for value in list1 if value in list2]\n",
    "    return list3\n",
    " \n",
    "# Defnining list\n",
    "list1 = [6, 20, 9, 13, 5]\n",
    "list2 = [5, 25, 6, 15, 12]\n",
    "\n",
    "#Printing Intersection\n",
    "print(intersection(list1, list2))"
   ]
  },
  {
   "cell_type": "code",
   "execution_count": null,
   "id": "3860ea9c-468b-408c-b26a-2bf187112510",
   "metadata": {
    "deletable": false,
    "tags": []
   },
   "outputs": [],
   "source": [
    "def isSubSet(list1,list2):\n",
    "    flag = 0\n",
    "    if(all(x in list2 for x in list1)):\n",
    "        flag = 1\n",
    "    return flag\n",
    "\n",
    "# Defnining list\n",
    "list1 = [6, 5]\n",
    "list2 = [5, 25, 6, 15, 12]\n",
    "\n",
    "# printing result\n",
    "if (isSubSet(list1,list2)):\n",
    "    print (\"Yes, list1 is subset of list2.\")\n",
    "else :\n",
    "    print (\"No, list1 is not subset of list2.\")"
   ]
  },
  {
   "cell_type": "markdown",
   "id": "7c478fdb-72ac-4758-86d9-043f6b7ad5d6",
   "metadata": {
    "deletable": false,
    "editable": false,
    "tags": []
   },
   "source": [
    "### A diagram to help visualize some of the Set theory operations\n",
    "![CS3000 setTheoy](images/cs3000SetTheroyExamples.png)"
   ]
  },
  {
   "cell_type": "markdown",
   "id": "48359194-c21a-4328-a643-50b82dd1a2ba",
   "metadata": {
    "deletable": false,
    "editable": false,
    "tags": []
   },
   "source": [
    "### **Inductive Proofs**"
   ]
  },
  {
   "cell_type": "markdown",
   "id": "b6c3d961-fe6f-4ae9-a548-75c8f5754423",
   "metadata": {
    "deletable": false,
    "editable": false,
    "tags": []
   },
   "source": [
    "One useful thing that you will learn in this class is how do a proof by induction. An inductive proof is a proof where you are able to prove one statement with a number n with a starting value (a base case) and from that statement you assume that the statement is true for all numbers n (inductive step) and prove it with your inductive proof. \n",
    "\n",
    "Proof by induction is very useful in computer science where it is used in the areas of recursion, solving for time complexity of algorithms, as well as can help us frame problems in a way that a computer can solve."
   ]
  },
  {
   "cell_type": "markdown",
   "id": "40585554-1222-497d-baf6-097d561a32dd",
   "metadata": {
    "deletable": false,
    "editable": false,
    "tags": []
   },
   "source": [
    "#### **Inductive Proof Example**"
   ]
  },
  {
   "cell_type": "markdown",
   "id": "7b574903-691f-47c1-954c-0bf4e2e32e72",
   "metadata": {
    "deletable": false,
    "editable": false,
    "tags": []
   },
   "source": [
    "![CS3000 general](images/CS3000InductiveProofGeneral.PNG)"
   ]
  },
  {
   "cell_type": "markdown",
   "id": "d0bf8946-2b7a-45a7-b213-632267065526",
   "metadata": {
    "deletable": false,
    "editable": false,
    "tags": []
   },
   "source": [
    "![CS3000 example1](images/CS3000IPExample1.PNG)"
   ]
  },
  {
   "cell_type": "markdown",
   "id": "a52e1e5e-e6b3-4715-a6d4-f6753797df91",
   "metadata": {
    "deletable": false,
    "editable": false,
    "tags": []
   },
   "source": [
    "![CS3000 example2](images/CS3000IPExample2.PNG)"
   ]
  },
  {
   "cell_type": "markdown",
   "id": "358c93ba-c71e-46f0-8a37-8bf392fd6b6a",
   "metadata": {
    "deletable": false,
    "editable": false,
    "tags": []
   },
   "source": [
    "![CS3000 example3](images/CS3000IPExample3.PNG)"
   ]
  },
  {
   "cell_type": "markdown",
   "id": "d5d27d44-84f3-43f1-9505-0ecd7ebc4363",
   "metadata": {
    "deletable": false,
    "editable": false,
    "tags": []
   },
   "source": [
    "![CS3000 example4](images/CS3000IPExample4.PNG)"
   ]
  },
  {
   "cell_type": "markdown",
   "id": "9ab4a5ff-dda4-4e6e-85e3-7e1e5858ecad",
   "metadata": {
    "deletable": false,
    "editable": false,
    "tags": []
   },
   "source": [
    "## **Conclusion**\n",
    "These are just two examples of what you can expect to learn in this class. You will learn many useful applications of logic to computer science. This content can be very useful in places where you may not expect it in places like probability, recursion, and analysis of algorithms."
   ]
  },
  {
   "cell_type": "markdown",
   "id": "18027d3e-900b-4c97-bc4a-ffa28223723d",
   "metadata": {
    "deletable": false,
    "editable": false,
    "tags": []
   },
   "source": [
    "<b>\n",
    "    <p style=\"text-align:center;color:#00694E;font-family:copperplate;font-size:13px\">\n",
    "        Made in 2022 by Gavin Dassatti, Alex Heffner, Matthew Lang, and Aaron Begy\n",
    "    </p>\n",
    "</b>"
   ]
  }
 ],
 "metadata": {
  "kernelspec": {
   "display_name": "Python 3 (ipykernel)",
   "language": "python",
   "name": "python3"
  },
  "language_info": {
   "codemirror_mode": {
    "name": "ipython",
    "version": 3
   },
   "file_extension": ".py",
   "mimetype": "text/x-python",
   "name": "python",
   "nbconvert_exporter": "python",
   "pygments_lexer": "ipython3",
   "version": "3.9.10"
  },
  "toc-autonumbering": false,
  "toc-showcode": true,
  "toc-showmarkdowntxt": false,
  "toc-showtags": true
 },
 "nbformat": 4,
 "nbformat_minor": 5
}
