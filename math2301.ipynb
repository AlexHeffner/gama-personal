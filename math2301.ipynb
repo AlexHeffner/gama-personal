{
 "cells": [
  {
   "cell_type": "markdown",
   "id": "dca81bd3-bb4c-492b-8157-eeffc6f04966",
   "metadata": {},
   "source": [
    "![Russ College Logo](images/logo.png)"
   ]
  },
  {
   "attachments": {
    "5a25deb7-699e-40a9-a068-7f0f590dd46f.png": {
     "image/png": "[encoded data removed]"
    }
   },
   "cell_type": "markdown",
   "id": "38059f74-ba3a-4765-b766-1f83302f51be",
   "metadata": {},
   "source": [
    "![image.png](attachment:5a25deb7-699e-40a9-a068-7f0f590dd46f.png)"
   ]
  },
  {
   "cell_type": "markdown",
   "id": "73701f14-1ee1-4d90-a42d-fac5d8d35e21",
   "metadata": {},
   "source": [
    "## **Course Description**\n",
    "First course in calculus and analytic geometry with applications in the sciences and engineering. Includes basic techniques of differentiation and integration with applications including rates of change, optimization problems, and curve sketching; includes exponential, logarithmic and trigonometric functions. Using hand-held calculators is optional and not necessary to do the writing assignments, but you may use them to do calculations and to check your work. Calculators are not required and may not be used on examinations. Each lesson contains one or more reading assignments and a writing assignment, which you are to submit for my evaluation. Each writing assignment will ask you to solve 20 problems from the textbook. "
   ]
  },
  {
   "cell_type": "markdown",
   "id": "ef9a1e3a-5307-4673-ad78-1b77ef6db25d",
   "metadata": {},
   "source": [
    "## **What You'll Learn**\n",
    "- Students will learn Limits, Continuity, and Limits Involving Infinity \n",
    "- Students will learn Derivatives: Definition, Rates of Exchange, Tangent Lines, and Derivatives of Basic Function \n",
    "- Students will learn The Product, Quotient, and Chain Rules \n",
    "- Students will learn Implicit Differentiations and Related Rates; Linear Approximations and Differentials \n",
    "- Students will learn Inverse Functions, Exponential and Logarithmic Functions, and Their Derivatives \n",
    "- Students will learn Midcourse Examination Information \n",
    "- Students will learn Inverse Trigonometric Functions and Their Differentiations: L’Hôspital’s Rule  "
   ]
  },
  {
   "cell_type": "markdown",
   "id": "4fd9c131-4801-4f2b-81e9-2bf509c7743c",
   "metadata": {},
   "source": [
    "### **Example 1**\n",
    "..."
   ]
  },
  {
   "cell_type": "markdown",
   "id": "297cba45-864b-48d9-a716-233a28ac8abc",
   "metadata": {},
   "source": [
    "### **Example 2**\n",
    "..."
   ]
  },
  {
   "cell_type": "markdown",
   "id": "0e197011-0963-4ea3-a8e9-be9414f4f496",
   "metadata": {},
   "source": [
    "### **Example 3**\n",
    "..."
   ]
  },
  {
   "cell_type": "markdown",
   "id": "19700088-e130-406f-8ef9-fc5b9e2d0b09",
   "metadata": {},
   "source": [
    "## **Conclusion**\n",
    "..."
   ]
  },
  {
   "cell_type": "markdown",
   "id": "e261aa9d-c389-4145-99a7-65c5f5ba3f2e",
   "metadata": {},
   "source": [
    "<b>\n",
    "    <p style=\"text-align:center;color:#00694E;font-family:copperplate;font-size:13px\">\n",
    "        Made in 2022 by Gavin Dassatti, Alex Heffner, Matthew Lang, and Aaron Begy\n",
    "    </p>\n",
    "</b>"
   ]
  }
 ],
 "metadata": {
  "kernelspec": {
   "display_name": "Python 3 (ipykernel)",
   "language": "python",
   "name": "python3"
  },
  "language_info": {
   "codemirror_mode": {
    "name": "ipython",
    "version": 3
   },
   "file_extension": ".py",
   "mimetype": "text/x-python",
   "name": "python",
   "nbconvert_exporter": "python",
   "pygments_lexer": "ipython3",
   "version": "3.10.0"
  }
 },
 "nbformat": 4,
 "nbformat_minor": 5
}
