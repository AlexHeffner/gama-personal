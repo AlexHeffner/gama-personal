{
 "cells": [
  {
   "cell_type": "markdown",
   "id": "286ea073-f47c-40f6-83dd-94ff4f52f3a6",
   "metadata": {},
   "source": [
    "![cs4000 logo](images/cs4000.PNG)"
   ]
  },
  {
   "cell_type": "markdown",
   "id": "088f332b-43c6-481e-af62-d292ef3a11e0",
   "metadata": {},
   "source": [
    "## **Course Description:**\n",
    "Description"
   ]
  },
  {
   "cell_type": "markdown",
   "id": "9e5200a5-b7ef-4c15-b3c5-7aaea2421f86",
   "metadata": {},
   "source": [
    "## **What You'll Learn:**\n",
    "### Example 1: \n",
    "\n",
    "### Example 2:"
   ]
  },
  {
   "cell_type": "markdown",
   "id": "f37f1dc3-5d8c-4418-9c63-98a14da3e7a1",
   "metadata": {},
   "source": [
    "## **Conclusion:**\n",
    "Conclusion"
   ]
  }
 ],
 "metadata": {
  "kernelspec": {
   "display_name": "Python 3 (ipykernel)",
   "language": "python",
   "name": "python3"
  },
  "language_info": {
   "codemirror_mode": {
    "name": "ipython",
    "version": 3
   },
   "file_extension": ".py",
   "mimetype": "text/x-python",
   "name": "python",
   "nbconvert_exporter": "python",
   "pygments_lexer": "ipython3",
   "version": "3.9.9"
  }
 },
 "nbformat": 4,
 "nbformat_minor": 5
}
