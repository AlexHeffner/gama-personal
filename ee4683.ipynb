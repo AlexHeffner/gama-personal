{
 "cells": [
  {
   "cell_type": "markdown",
   "id": "81e52bdc-bc41-4409-92c9-9bdcd165370a",
   "metadata": {},
   "source": [
    "![EE 4683](images/ee4683-title.png)"
   ]
  },
  {
   "cell_type": "markdown",
   "id": "3c1dce24-6396-4060-8e1a-63af747a1e4d",
   "metadata": {},
   "source": [
    "## **Course Description**\n",
    "EE 4683 is intended to provide undergraduate and graduate students with an in-depth study of microprocessor based digital systems. It provides a basic knowledge and ability required for understanding and designing computer systems. The important topics covered in this class include cache and main memory concepts, virtual memory, multi-level caches, I/O devices, multiprocessor networks, snoopy and direct cache coherence. This course is usually provided online and the material is covered asynchronously, however EE 3613 is a prerequisite course for this class."
   ]
  },
  {
   "cell_type": "code",
   "execution_count": null,
   "id": "192f63ba-3be6-4246-b22a-adaec4f6e7e4",
   "metadata": {},
   "outputs": [],
   "source": []
  }
 ],
 "metadata": {
  "kernelspec": {
   "display_name": "Python 3 (ipykernel)",
   "language": "python",
   "name": "python3"
  },
  "language_info": {
   "codemirror_mode": {
    "name": "ipython",
    "version": 3
   },
   "file_extension": ".py",
   "mimetype": "text/x-python",
   "name": "python",
   "nbconvert_exporter": "python",
   "pygments_lexer": "ipython3",
   "version": "3.9.9"
  }
 },
 "nbformat": 4,
 "nbformat_minor": 5
}
