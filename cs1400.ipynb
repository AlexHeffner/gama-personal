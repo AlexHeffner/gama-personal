{
 "cells": [
  {
   "cell_type": "markdown",
   "id": "4cea7638-765c-4c6c-b141-4d565211aaad",
   "metadata": {},
   "source": [
    "![CS 1400](images/cs1400-title.png)"
   ]
  },
  {
   "cell_type": "markdown",
   "id": "b3b72ffa-2b08-4979-9d29-742b7f9954bd",
   "metadata": {},
   "source": [
    "## **Course Description**\n",
    "CS 1400 - Fundamentals of Computing is the most basic computer science course offered here at Ohio University. Many first or second year students want to learn about computer science, but may not have any prior programming or computing experience ... which is totally fine! This course is here to help students who want to dive in to CS at the beginner level and really figure out what the field of computer science is all about. As a student in this course you will cover all of the fundamentals of computing that are essential to becoming a successful student in the computer science cirriculum here at OU. Some of the most important topics students will learn about in this course include computational thinking & problem solving, introduction to algorithms, data analysis, and computer programming. Upon completion of CS 1400, students should be more than prepared to move onto CS 2400 - Intro to CS, which is the next step in the CS cirriculum."
   ]
  },
  {
   "cell_type": "markdown",
   "id": "525014d4-9fa0-478d-82fa-f555a5a96199",
   "metadata": {},
   "source": [
    "## **Learning Outcomes**\n",
    "- Students will be able to develop code modules in a high level programming language.\n",
    "- Students will be able to interpret algorithms that enable essential computing infrastructure.\n",
    "- Students will be able to apply computational thinking and problem solving skills.\n",
    "- Students will be able to recognize contemporary issues in computer science."
   ]
  },
  {
   "cell_type": "markdown",
   "id": "5df0eb1a-d53b-4e77-9094-11a1358070f1",
   "metadata": {},
   "source": [
    "## **What You'll Learn**"
   ]
  },
  {
   "cell_type": "markdown",
   "id": "5824d11b-5aa4-4b5b-a709-e59eff79d94d",
   "metadata": {},
   "source": [
    "### **Computer Programming Fundamentals**\n",
    "- One of the broadest and most intriguing parts of computing is computer programming. The possibilities are endless when you know how to program computers and thats what gets a lot of people interested in computer science in the first place. But, before you can efficiently program computers you have to learn how to **think logically, pay attention to detail, and efficiently problem-solve**. When people first get involved in computer programming they tend to spend a lot of time figuring out what programming languages to learn. Finding the right programming langauge is difficult because there are thousands, and they all do certain things better than others. One of the most popular programming languages among beginners is **Python**. This is because Python is one of the most easy-to-learn programming languages because it prioritizes readibilty, making it one of the most simple to understand and use. You will learn all about Python as a student in this course, but we will use it to demonstrate some of the most important fundamentals of programming that you can use to write program in almost any language."
   ]
  },
  {
   "cell_type": "markdown",
   "id": "78c7e9d3-5acc-477d-9ddd-553804e684d9",
   "metadata": {},
   "source": [
    "- #### **Input & Output**\n",
    "> - Input for programs can come from just about anywhere whether it's user input from the keyboard, a touch screen, or data from a test file. Input is one of two elements that are used by almost every computer program because every process needs atleast some data to work with.\n",
    "> - Output is the result that the program computes based on the input given by the user. Output can take on many different forms whether it be text, graphics, etc. and just about any form of output a program produces can be understood by human beings. Another big thing output is that it is almost always dependent on the input ... so output can change as the input changes."
   ]
  },
  {
   "cell_type": "code",
   "execution_count": null,
   "id": "fc3e93f6-e353-4ecb-8794-9372413816e8",
   "metadata": {},
   "outputs": [],
   "source": [
    "# This is a simple program to demonstrate the fundamentals behind input & output\n",
    "# Run this cell block and enter your in when the program prompts you to\n",
    "# This program will take the two numbers you enter and perform several mathematical computations on them\n",
    "\n",
    "print(\"Welcome to the CS calculator program!\")\n",
    "\n",
    "# The two lines below read in your input and store them in variables\n",
    "input1 = input(\"Enter the first number here: \")\n",
    "input2 = input(\"Enter the second number here: \")\n",
    "\n",
    "# We then need to convert them to numbers because they are read in as strings or words\n",
    "one = int(input1)\n",
    "two = int(input2)\n",
    "\n",
    "# Next we perform all of the mathematical computations on the numbers entered\n",
    "add = one + two\n",
    "sub = one - two\n",
    "mul = one * two\n",
    "div = one / two\n",
    "\n",
    "# And then we output the results of all the computations\n",
    "print('\\n')\n",
    "print(\"Addition: \", add)\n",
    "print(\"Subtraction: \", sub)\n",
    "print(\"Multiplication: \", mul)\n",
    "print(\"Division: \", div)"
   ]
  },
  {
   "cell_type": "markdown",
   "id": "5408eb44-7489-4d0c-bd07-759c59b8b664",
   "metadata": {},
   "source": [
    "- #### **Looping & Conditionals**\n",
    "> - Loops are one of the most if not the most important fundamental of computer programming. With loops we can basically automate our programs to do specific computations over sets of data, all we have to do is design them. In a loop, the program executes a specific set of instructions until the condition of the loop is met. This allows the program to do a large amount of computations while we, the programmers, do minimal work.\n",
    "> - Now that we have created our imaginary loop in our heads that we plan on designing, we need conditionals to tell our programs to do certain things rather than others if some reasonable condtion is met during execution of the program. So for example **if** one of our imaginary variables is true the program will execute a certain set of instructions or **if** our variable is false then we do a totally different set of instructions. Condtionals mostly follow the format of 'if this then x else y'"
   ]
  },
  {
   "cell_type": "code",
   "execution_count": null,
   "id": "c4b8b359-53a5-47d4-809b-90a2e3ddee02",
   "metadata": {},
   "outputs": [],
   "source": [
    "# This simple program demonstrates how we can use a built in condtional 'if' statement\n",
    "# to check the input from the user and perform certain operations if the conditions are met\n",
    "\n",
    "x = input('Enter a number: ')\n",
    "num = int(x)\n",
    "\n",
    "# If the number you entered is divisible by 2 (even)\n",
    "if num % 2 == 0:\n",
    "    # The program will print the following if the numbered enetered is even\n",
    "    print('\\nYou entered an even number!')\n",
    "# Because numbers are either even or odd ... if its not even then its odd\n",
    "else:\n",
    "    # The program will print the following if the numbered entered is odd\n",
    "    print('\\nYou entered an odd number!')\n",
    "    "
   ]
  },
  {
   "cell_type": "code",
   "execution_count": null,
   "id": "07ee0513-d633-4547-aa76-978a7e2ca8af",
   "metadata": {},
   "outputs": [],
   "source": [
    "# change the numbers in the array to make the output of the program change!\n",
    "array = [0, 1, 2, 3, 4, 5, 6, 7, 8, 9]\n",
    "\n",
    "# change these boolean variables to either True or False\n",
    "# to change the output of the program\n",
    "increment = True\n",
    "evens = False\n",
    "odds = False\n",
    "\n",
    "# this simple 'for' loop will loop through array number by number\n",
    "# and perform a certain set of tasks based on the values of the \n",
    "# boolean variables\n",
    "for number in array:\n",
    "    if increment == True:\n",
    "        number = number + 1\n",
    "        print(number)\n",
    "    elif evens == True:\n",
    "        if number % 2 == 0:\n",
    "            print(number)\n",
    "    elif odds == True:\n",
    "        if number % 2 != 0:\n",
    "            print(number)"
   ]
  },
  {
   "cell_type": "code",
   "execution_count": null,
   "id": "e99d3e55-edd5-48f0-ba87-0135ad505856",
   "metadata": {},
   "outputs": [],
   "source": []
  }
 ],
 "metadata": {
  "kernelspec": {
   "display_name": "Python 3 (ipykernel)",
   "language": "python",
   "name": "python3"
  },
  "language_info": {
   "codemirror_mode": {
    "name": "ipython",
    "version": 3
   },
   "file_extension": ".py",
   "mimetype": "text/x-python",
   "name": "python",
   "nbconvert_exporter": "python",
   "pygments_lexer": "ipython3",
   "version": "3.9.10"
  }
 },
 "nbformat": 4,
 "nbformat_minor": 5
}
