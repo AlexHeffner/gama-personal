{
 "cells": [
  {
   "cell_type": "code",
   "execution_count": null,
   "id": "d3f96aeb-f7fb-414c-acb3-e12b9bacae35",
   "metadata": {},
   "outputs": [],
   "source": []
  },
  {
   "cell_type": "markdown",
   "id": "44b03d00-6f5a-411c-b037-efbd1461e6de",
   "metadata": {},
   "source": [
    "## **Course Introduction**"
   ]
  },
  {
   "cell_type": "markdown",
   "id": "5ac6bf03-0e92-43a6-a59a-9c7d429bb9bf",
   "metadata": {},
   "source": [
    "EE 1024 will be every student in computer science's first introduction into the basics of computer enginneering. This course will build your knowledge on exactly how computers operate at their lowest level possible. You will learn how computers process data and how they convert numbers to various bases including (decimal, binary, and hexadecimal). Another important topic you will cover in this class is logic and how computers make decisions. As a students in this course you will learn all about Boolean Algebra, Binary Arithmetic, and the charactersistics of Logic Gates which are the building blocks of Computers and Computer Engineering. All students are also required to participate in lab for this course where you can real hands-on experience working with the topics that are taught in lecture."
   ]
  },
  {
   "cell_type": "code",
   "execution_count": null,
   "id": "bea278c7-4201-4e67-baf1-388d6a0eb420",
   "metadata": {},
   "outputs": [],
   "source": []
  }
 ],
 "metadata": {
  "kernelspec": {
   "display_name": "Python 3",
   "language": "python",
   "name": "python3"
  },
  "language_info": {
   "codemirror_mode": {
    "name": "ipython",
    "version": 3
   },
   "file_extension": ".py",
   "mimetype": "text/x-python",
   "name": "python",
   "nbconvert_exporter": "python",
   "pygments_lexer": "ipython3",
   "version": "3.8.2"
  }
 },
 "nbformat": 4,
 "nbformat_minor": 5
}
