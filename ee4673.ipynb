{
 "cells": [
  {
   "cell_type": "markdown",
   "id": "80434ebc-2ded-49b7-b789-e24c208f4717",
   "metadata": {},
   "source": [
    "![EE 4673](images/ee4673-title.png)"
   ]
  },
  {
   "cell_type": "markdown",
   "id": "52910b5a-745d-4a3e-8dca-0c9e9eb06527",
   "metadata": {},
   "source": [
    "## **Course Description**\n",
    "Introduction and history of embedded systems; defining embedded system using requirements; embedded system processors including microcontrollers, low-power microprocessors, digital signal processors and Field Programmable Gate Arrays (FPGA); distributed embedded systems; timing aspects of embedded systems; real-time operation and real-time operating systems as applied to embedded systems; the economy of embedded systems; fault tolerance; communication protocols overview and more detailed description of the Controller Area Network (CAN) and Time-Triggered Protocol (TTP) as well as some wireless networks used in wireless sensor networks; defining interfaces and the use of mixed-signal systems (digital and analog); design methodologies and tools."
   ]
  },
  {
   "cell_type": "markdown",
   "id": "851e3714-fc36-465e-9f65-a8115f45b664",
   "metadata": {
    "tags": []
   },
   "source": [
    "## **What You'll Learn**\n",
    "- Students will be able to apply some of the above knowledge in the design of a distributed embedded system in a laboratory environment.\n",
    "- Students will be able to define embedded systems using requirements.\n",
    "- Students will have an understanding of communications protocols widely used in networked embedded systems.\n",
    "- Students will have an understanding of defining interfaces and the use of mixed-signal systems.\n",
    "- Students will have an understanding of design methodology and tools.\n",
    "- Students will have an understanding of distributed embedded systems."
   ]
  },
  {
   "cell_type": "markdown",
   "id": "f5279cd9-6e3e-4bb0-a7d0-5bf1200fdcf8",
   "metadata": {},
   "source": [
    "### **Topic 1**\n",
    "..."
   ]
  },
  {
   "cell_type": "code",
   "execution_count": null,
   "id": "970d7818-aabb-4f2b-8747-3bd556cbc3d4",
   "metadata": {},
   "outputs": [],
   "source": []
  },
  {
   "cell_type": "markdown",
   "id": "6158b932-eb96-448e-86ae-e48553a33617",
   "metadata": {},
   "source": [
    "### **Topic 2**\n",
    "..."
   ]
  },
  {
   "cell_type": "code",
   "execution_count": null,
   "id": "3caa8e63-3280-4c92-8c9c-490c501ba3a0",
   "metadata": {},
   "outputs": [],
   "source": []
  },
  {
   "cell_type": "markdown",
   "id": "b29de49e-28c1-4ae3-95a0-d8c0cf2eecf4",
   "metadata": {},
   "source": [
    "### **Topic 3**\n",
    "..."
   ]
  },
  {
   "cell_type": "code",
   "execution_count": null,
   "id": "e816274a-f5c1-4907-aa3b-79346c109f8a",
   "metadata": {},
   "outputs": [],
   "source": []
  },
  {
   "cell_type": "markdown",
   "id": "799720db-723a-4baf-a848-1a29d74f0729",
   "metadata": {},
   "source": [
    "## **Conclusion**\n",
    "..."
   ]
  }
 ],
 "metadata": {
  "kernelspec": {
   "display_name": "Python 3 (ipykernel)",
   "language": "python",
   "name": "python3"
  },
  "language_info": {
   "codemirror_mode": {
    "name": "ipython",
    "version": 3
   },
   "file_extension": ".py",
   "mimetype": "text/x-python",
   "name": "python",
   "nbconvert_exporter": "python",
   "pygments_lexer": "ipython3",
   "version": "3.10.0"
  }
 },
 "nbformat": 4,
 "nbformat_minor": 5
}
