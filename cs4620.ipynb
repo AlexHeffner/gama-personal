{
 "cells": [
  {
   "cell_type": "code",
   "execution_count": null,
   "id": "74856033-43d8-481c-bcb5-a3a2e80d9d90",
   "metadata": {},
   "outputs": [],
   "source": []
  },
  {
   "cell_type": "markdown",
   "id": "a388ea7c-9009-4c31-be9c-302229283b98",
   "metadata": {},
   "source": [
    "## **Course Description**\n",
    "\n",
    "CS 4620, or Database Systems, is an elective course in the CS cirriculum here at Ohio University. Students typically take this course their junior or senior to satisfy their elective requirements for graduation. This course covers just about everything there is to know about databases. One of the major components of this course is designing databses, and learning how to determine the necessary features that need to be implemented for them to function properly and efficiently. There are many things to think about when it comes to designing a database, and you will learn about all of them in this course. Another important topic that is covered is this course is working with SQL to query data in a database. As a student in this course you will become proficient wiht SQL and relational algebra, which are the fundamentals of efficently querying data. This course is a lot of fun and is a fan-favorite among students. Towards the end of the course, students are tasked with a final project that involves designing and implementing their own database to solve real-world problems."
   ]
  },
  {
   "cell_type": "markdown",
   "id": "83ec7428-eaa6-48c3-a213-5267f3649df7",
   "metadata": {},
   "source": [
    "## **Learning Outcomes**\n",
    "\n",
    "- Students will develop the ability to design and implement a database based on models.\n",
    "- Students will develop the ability to draw an entity-relationship diagram to model an enterprise.\n",
    "- Students will develop the ability to embed SQL in a host programming language to implement transactions against a database.\n",
    "- Students will develop the ability to express a database query as a relational algebra expression.\n",
    "- Students will gain an understanding of database system components and how they fit together.\n",
    "- And many more!"
   ]
  },
  {
   "cell_type": "code",
   "execution_count": null,
   "id": "d34b2ace-f99c-4d2e-a7ef-a3ff59f48bce",
   "metadata": {},
   "outputs": [],
   "source": []
  }
 ],
 "metadata": {
  "kernelspec": {
   "display_name": "Python 3",
   "language": "python",
   "name": "python3"
  },
  "language_info": {
   "codemirror_mode": {
    "name": "ipython",
    "version": 3
   },
   "file_extension": ".py",
   "mimetype": "text/x-python",
   "name": "python",
   "nbconvert_exporter": "python",
   "pygments_lexer": "ipython3",
   "version": "3.8.2"
  }
 },
 "nbformat": 4,
 "nbformat_minor": 5
}
