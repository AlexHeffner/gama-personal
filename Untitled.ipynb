{
 "cells": [
  {
   "cell_type": "code",
   "execution_count": 2,
   "id": "aeb91944-6dfc-40ba-a6f1-f216fbacba94",
   "metadata": {},
   "outputs": [
    {
     "name": "stderr",
     "output_type": "stream",
     "text": [
      "IncrementalExecutor::executeFunction: symbol '__emutls_v._ZSt11__once_call' unresolved while linking function '_GLOBAL__sub_I_cling_module_7'!\n",
      "IncrementalExecutor::executeFunction: symbol '__emutls_v._ZSt15__once_callable' unresolved while linking function '_GLOBAL__sub_I_cling_module_7'!\n"
     ]
    },
    {
     "ename": "Standard Exception",
     "evalue": "std::future_error: No associated state",
     "output_type": "error",
     "traceback": [
      "Standard Exception: std::future_error: No associated state"
     ]
    }
   ],
   "source": [
    "#include <iostream>\n",
    "#include <future>\n",
    "#include <thread>\n",
    "#include <cstdlib>\n",
    "#include <unistd.h>\n",
    "\n",
    "int sum(int i, int j) {\n",
    "\n",
    "    sleep(5);\n",
    "    std::cout << \"Computing sum from \" << i;\n",
    "    std::cout << \" to \" << j << \"\\n\";\n",
    "    int lsum=0;\n",
    "\n",
    "    for (int k=i; k<j;k++) {\n",
    "        lsum+=k;\n",
    "    }\n",
    "\n",
    "    return lsum;\n",
    "\n",
    "}\n",
    "\n",
    "\n",
    "using namespace std;\n",
    "\n",
    " future<int> ans1 = std::async(launch::async,sum,0,10);\n",
    "  future<int> ans2 = std::async(launch::async,sum,10,20);\n",
    "  future<int> ans3 = std::async(launch::async,sum,20,30);\n",
    "  future<int> ans4 = std::async(launch::async,sum,30,40);\n",
    "int sum1;\n",
    "sum1 = 0;\n",
    "sum1 += ans1.get();\n",
    "sum1 += ans2.get();\n",
    "sum1 += ans3.get();\n",
    "sum1 += ans4.get();\n",
    "std::cout << \"Sum from 0 to 39 = \" << sum1 << \"\\n\";"
   ]
  },
  {
   "cell_type": "code",
   "execution_count": null,
   "id": "29915805-fbcb-4c1f-b7c2-35732657acd6",
   "metadata": {},
   "outputs": [],
   "source": []
  }
 ],
 "metadata": {
  "kernelspec": {
   "display_name": "C++11",
   "language": "C++11",
   "name": "xcpp11"
  },
  "language_info": {
   "codemirror_mode": "text/x-c++src",
   "file_extension": ".cpp",
   "mimetype": "text/x-c++src",
   "name": "c++",
   "version": "11"
  }
 },
 "nbformat": 4,
 "nbformat_minor": 5
}
