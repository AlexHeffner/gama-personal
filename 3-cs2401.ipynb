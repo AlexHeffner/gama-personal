{
 "cells": [
  {
   "cell_type": "markdown",
   "id": "f9b114ef-c3ff-49f7-a6d5-effbc874e45a",
   "metadata": {},
   "source": [
    "![CS 2401 Logo](images/cs2401.png)"
   ]
  },
  {
   "cell_type": "code",
   "execution_count": null,
   "id": "a41cc2f1-3150-4452-b399-95b0624a1642",
   "metadata": {},
   "outputs": [],
   "source": []
  }
 ],
 "metadata": {
  "kernelspec": {
   "display_name": "Python 3 (ipykernel)",
   "language": "python",
   "name": "python3"
  },
  "language_info": {
   "codemirror_mode": {
    "name": "ipython",
    "version": 3
   },
   "file_extension": ".py",
   "mimetype": "text/x-python",
   "name": "python",
   "nbconvert_exporter": "python",
   "pygments_lexer": "ipython3",
   "version": "3.9.5"
  }
 },
 "nbformat": 4,
 "nbformat_minor": 5
}
