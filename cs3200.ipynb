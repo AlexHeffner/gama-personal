{
 "cells": [
  {
   "cell_type": "markdown",
   "id": "84c7935e-0d56-4209-b6c2-d7c12908bf75",
   "metadata": {},
   "source": [
    "![Russ College Logo](images/logo.png)"
   ]
  },
  {
   "cell_type": "markdown",
   "id": "55c72f0e-5801-4bd0-b69a-f7fee77cac62",
   "metadata": {},
   "source": [
    "![CS 3200](images/cs3200-title.png)"
   ]
  },
  {
   "cell_type": "markdown",
   "id": "4ab6cedd-ba9f-448a-bc51-5f525f0b6b2b",
   "metadata": {},
   "source": [
    "## **Course Description**\n",
    "\n",
    "CS 3200, Organization of Programming Languages, is a hands-on introduction to the science of programming and programming languages. This class includes many topics such as: structured data and pattern-matching, recursive and polymorphic data, recursion and higher-order functions, lazy evaluation and streams, automated and equational reasoning about programs, concrete and abstract syntax, grammars, interpreters, desugaring, types and type-checking, type safety, mutable state, references, and objects. Over the course of the semester, you will build interpreters and type checkers for a series of increasingly complex languages. We will cover just a few of these topics in this notebook."
   ]
  },
  {
   "cell_type": "markdown",
   "id": "0c407f3d-6dfd-4c36-a41d-ad25c1fa4027",
   "metadata": {},
   "source": [
    "## **What You'll Learn**\n",
    "- Students will be able to design, implement, and analyze structured data types to solve computational problems.\n",
    "- Students will be able to analyze and reason equationally about the correctness of small functional programs.\n",
    "- Students will be able to apply understanding of grammars and syntax trees to implement a parser for an extended arithmetic expression language.\n",
    "- Students will be able to apply understanding of structured data types, pattern-matching, recursion, and programming language semantics to implement an interpreter for an extended arithmetic expression language.\n",
    "- Students will be able to apply understanding of type systems, type judgments, and inductively defined typing rules to implement a type checker for an extended arithmetic expression language."
   ]
  },
  {
   "cell_type": "markdown",
   "id": "8ab5c940-4b35-4de9-9464-d9b44f5c261a",
   "metadata": {},
   "source": [
    "## **Learning Outcomes**\n",
    "In this class, you will learn a new programming language -- Pyret!! Pyret is a scripting / functional langauge created by a team at Brown University. Pyret was built to introduce students to concepts about functional programming. Visit https://www.pyret.org to learn more, and click the links below for more information / practice using Pyret.\n",
    "\n",
    "Link to online Pyret textbook: https://dcic-world.org/2022-01-25/index.html <br>\n",
    "Link to online Pyret editor / compiler: https://code.pyret.org/editor\n",
    "\n",
    "A similar language to Pyret is Scheme. Scheme is a functional programming language, and is a dialect of Lisp, which is another functional programming language. Please change your kernel to \"Calysto Scheme 3\" to run all of the below programming examples in the scheme language."
   ]
  },
  {
   "cell_type": "markdown",
   "id": "34fe5dac-4c9d-4488-a709-b90dfc782304",
   "metadata": {},
   "source": [
    "### **Writing basic functions using Scheme**"
   ]
  },
  {
   "cell_type": "markdown",
   "id": "44a127d1-a1b9-4612-8893-0a35a06cd0f5",
   "metadata": {},
   "source": [
    "#### **Function using basic operations**\n",
    "In functional programming, think of a \"function\" as only doing one thing / task at a time. For example, lets say we want to complete the operation, x + yz^2. Scheme is a language written such that the operands are written first. Run the code to see the result."
   ]
  },
  {
   "cell_type": "code",
   "execution_count": null,
   "id": "5bae6494-d551-4463-bd8d-a71119832af3",
   "metadata": {},
   "outputs": [],
   "source": [
    "(define (my_first_function x y z) \n",
    "    (+ x (* y (* z z))))\n",
    "(my_first_function 2 5 4)"
   ]
  },
  {
   "cell_type": "markdown",
   "id": "9c51a07e-300c-45a5-ab92-9d9fe1a93abd",
   "metadata": {},
   "source": [
    "**CODING CHALLENGE! Modifiy the above code so that the function calculates a^3 + b^2 - c + d**"
   ]
  },
  {
   "cell_type": "markdown",
   "id": "1843edd4-7429-4bd5-b244-009c6695f7d7",
   "metadata": {},
   "source": [
    "#### **Conditional function**\n",
    "This function uses conditional statements to convert a number to a boolean value. If a number is a decimal between 5 and 6, this function returns true. If a number is greater or equal to 10, it also returns true. Any other number that is inputted will return false. Run the code and each example to see the result!"
   ]
  },
  {
   "cell_type": "code",
   "execution_count": null,
   "id": "0811ae7e-de0a-42e5-b5cf-9bca094405c1",
   "metadata": {},
   "outputs": [],
   "source": [
    ";; is-between-5-6-or-over-10 : number --> boolean\n",
    ";; to determine whether n is between 5 and 6 ;;(exclusive) or greather than or equal to 10\n",
    "(define (is-between-5-6-or-over-10 n)\n",
    "\t(or (and ( < 5 n) (< n 6))\n",
    "\t(>= n 10))) "
   ]
  },
  {
   "cell_type": "code",
   "execution_count": null,
   "id": "cc57626c-6238-462d-93b9-8d53d291cde8",
   "metadata": {},
   "outputs": [],
   "source": [
    "(is-between-5-6-or-over-10 1)"
   ]
  },
  {
   "cell_type": "code",
   "execution_count": null,
   "id": "9da0e591-782d-4562-831c-a9ebb036f532",
   "metadata": {},
   "outputs": [],
   "source": [
    "(is-between-5-6-or-over-10 5)"
   ]
  },
  {
   "cell_type": "code",
   "execution_count": null,
   "id": "bbce0c1b-2ca1-487b-80c9-cd2b8e2aa3e7",
   "metadata": {},
   "outputs": [],
   "source": [
    "(is-between-5-6-or-over-10 5.6)"
   ]
  },
  {
   "cell_type": "code",
   "execution_count": null,
   "id": "af1e621a-1d04-4c83-b73d-b7c9a1ec8dd5",
   "metadata": {},
   "outputs": [],
   "source": [
    "(is-between-5-6-or-over-10 8)"
   ]
  },
  {
   "cell_type": "code",
   "execution_count": null,
   "id": "ffddbe67-ddbc-494b-9b40-be882695d14f",
   "metadata": {},
   "outputs": [],
   "source": [
    "(is-between-5-6-or-over-10 111)"
   ]
  },
  {
   "cell_type": "markdown",
   "id": "15577a9e-4c9b-403b-9554-2f3a985ee3f6",
   "metadata": {},
   "source": [
    "#### **A function with a lambda**\n",
    "In the language Schema, the \"lamda\" keyword simply creates a function. operateTwice is a function that takes two operands, and two operators. The lambda keyword allows you to return multiple anonymous functions from procedures. Run the following example to see the result!"
   ]
  },
  {
   "cell_type": "code",
   "execution_count": null,
   "id": "f15c8ccf-f998-4a34-b82b-f015aff3dcb5",
   "metadata": {},
   "outputs": [],
   "source": [
    "(define operateTwice\n",
    "  (lambda (op1 op2)\n",
    "    (lambda (x y)\n",
    "      (op2 (op1 x y) y))))\n",
    "\n",
    "((operateTwice * +) 2 3)"
   ]
  },
  {
   "cell_type": "markdown",
   "id": "510d9449-0440-4a06-b26f-1cce2fcdb91f",
   "metadata": {},
   "source": [
    "### **Writing Recursive Functions Using Scheme**\n",
    "\n",
    "#### **Using recursion to compute factorials**\n",
    "The following animation shows what happens when a recursive function is called:"
   ]
  },
  {
   "cell_type": "markdown",
   "id": "b4cae3b4-1438-47f6-b853-8d4ecb5410c1",
   "metadata": {},
   "source": [
    "![CS 3200 recursion](images/cs3200-recursion.gif)"
   ]
  },
  {
   "cell_type": "markdown",
   "id": "c4dd78da-932c-47f1-9c8b-7710c89733bd",
   "metadata": {},
   "source": [
    "The code below is an example of how to compute the factorial of a number in Scheme. Run the code to see the result!"
   ]
  },
  {
   "cell_type": "code",
   "execution_count": null,
   "id": "af2a2966-3728-4a84-a600-1766f1009720",
   "metadata": {},
   "outputs": [],
   "source": [
    "(define (factorial x)\n",
    "  (if (= x 0)\n",
    "      1\n",
    "      (* x (factorial (- x 1)))))\n",
    "(factorial 5)"
   ]
  },
  {
   "cell_type": "markdown",
   "id": "382ab446-9f89-42bb-9bba-b48535f68583",
   "metadata": {},
   "source": [
    "#### **Using recursion for a simple loop**\n",
    "In functional programming languages, there are no while loops or for loops. Most functional langugaes use recursion for looping! If you need to use a loop, think recursively!! Run the following example to see the result."
   ]
  },
  {
   "cell_type": "code",
   "execution_count": null,
   "id": "9a0a9073-0924-4277-b9b9-5fb46bc3d8ac",
   "metadata": {},
   "outputs": [],
   "source": [
    "(let loop ((n 1))\n",
    "  (if (> n 10)\n",
    "      '()\n",
    "      (cons n\n",
    "        (loop (+ n 1)))))"
   ]
  },
  {
   "cell_type": "markdown",
   "id": "524d6871-5c0f-4d19-bd88-36cace02cbc7",
   "metadata": {},
   "source": [
    "**CODING CHALLENGE! Modify the above code to print out all mutiples of 5, from 0 to 100!**"
   ]
  },
  {
   "cell_type": "markdown",
   "id": "142ca295-e48d-45a9-985d-7701e1d3c25b",
   "metadata": {},
   "source": [
    "#### **Tail Recursion**\n",
    "Tail recursion is when a function calls itself towards the tail (end). In the following example, list-of-squares is a function that builds a list of squares by using tail recursion. Run the code to see the result!"
   ]
  },
  {
   "cell_type": "code",
   "execution_count": null,
   "id": "de9f718a-5c68-47ee-a6ff-5926a613caa9",
   "metadata": {},
   "outputs": [],
   "source": [
    ";; Building a list of squares from 0 to 9:\n",
    ";; Note: loop is simply an arbitrary symbol used as a label. Any symbol will do.\n",
    "\n",
    "(define (list-of-squares n)\n",
    "  (let loop ((i n) (res '()))\n",
    "    (if (< i 0)\n",
    "        res\n",
    "        (loop (- i 1) (cons (* i i) res)))))\n",
    "\n",
    "(list-of-squares 9)"
   ]
  },
  {
   "cell_type": "markdown",
   "id": "5194c28c-4c02-4460-9a9c-5a6ce35c9014",
   "metadata": {},
   "source": [
    "## **Conclusion**"
   ]
  },
  {
   "cell_type": "markdown",
   "id": "cdb25ee5-25e1-49ae-a1e1-49c7987eb2b9",
   "metadata": {},
   "source": [
    "Programming Languages covers many topics, these are just a few to get a good taste of what you will see in this class. In this class you will also build your own programming language, which will encompass a parser, interpreter, and a type checker. Overall, the goal of this class is to help you understand the many aspects that all programming language share, and how these languages are created."
   ]
  },
  {
   "cell_type": "markdown",
   "id": "d1aab262-927a-4b27-bd0f-fee18369b8a8",
   "metadata": {},
   "source": [
    "<b>\n",
    "    <p style=\"text-align:center;color:#00694E;font-family:copperplate;font-size:13px\">\n",
    "        Made in 2022 by Gavin Dassatti, Alex Heffner, Matthew Lang, and Aaron Begy\n",
    "    </p>\n",
    "</b>"
   ]
  }
 ],
 "metadata": {
  "kernelspec": {
   "display_name": "Python 3 (ipykernel)",
   "language": "python",
   "name": "python3"
  },
  "language_info": {
   "codemirror_mode": {
    "name": "ipython",
    "version": 3
   },
   "file_extension": ".py",
   "mimetype": "text/x-python",
   "name": "python",
   "nbconvert_exporter": "python",
   "pygments_lexer": "ipython3",
   "version": "3.9.10"
  }
 },
 "nbformat": 4,
 "nbformat_minor": 5
}
