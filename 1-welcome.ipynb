{
 "cells": [
  {
   "cell_type": "markdown",
   "id": "bedafdc2-f8e6-4a5c-b1ee-14947b8ee48c",
   "metadata": {
    "deletable": false,
    "editable": false,
    "tags": []
   },
   "source": [
    "![Russ College Logo](images/logo.png)"
   ]
  },
  {
   "cell_type": "markdown",
   "id": "0ef3902d-8d16-4f6d-a560-d21edef15421",
   "metadata": {
    "deletable": false,
    "editable": false,
    "tags": []
   },
   "source": [
    "# **Welcome Future Ohio University Computer Science Students!**\n",
    "Wanting to learn more about Ohio University's computer science program? You've come to the right place. This website covers an overview of the coursework within each individual class in our computer science curriculum. Inside each class's web page, expect to learn about the course description, learning outcomes, topics covered, and more! Also, there are interactive online coding examples covering a few of the key concepts in each course using a built-in editor/compiler. Carefully examine each code block and run it to view the output, and even expect to solve some coding challenges!"
   ]
  },
  {
   "cell_type": "markdown",
   "id": "543a89dc-02ef-4c3c-a128-2acf9d5c00ea",
   "metadata": {
    "deletable": false,
    "editable": false,
    "tags": []
   },
   "source": [
    "## **Website Features**\n",
    "- On the far left side of your screen is a side bar menu with four options. The first three are applicable to this website."
   ]
  },
  {
   "cell_type": "markdown",
   "id": "5a2e39ec-b549-4b93-ac44-7cf5555f632c",
   "metadata": {
    "deletable": false,
    "editable": false,
    "tags": []
   },
   "source": [
    "![Russ College Logo](images/side-icons.png)"
   ]
  },
  {
   "cell_type": "markdown",
   "id": "8637ad2a-86dc-4c9a-a8b3-982c6be03ad8",
   "metadata": {
    "deletable": false,
    "editable": false,
    "tags": []
   },
   "source": [
    "- Each course contains a few interactive coding examples that are both modifiable and runnable online on your browser. First, verify that the proper kernel is selected. To change a kernel, click on the specific language / \"No Kernel\" button on the top right of your screen. To run a coding example and view its output, click on the code cell. Next, make any desired edits to the code. Lastly, click the triangle play button on the top ribbon to compile / run the code. Also, if you double click on a text cell to make it unformatted, just hit the play button while that cell is selected to make it appear correctly again."
   ]
  },
  {
   "cell_type": "markdown",
   "id": "3c31b5ff-c156-47f4-80d8-c06add86b141",
   "metadata": {
    "deletable": false,
    "editable": false,
    "tags": []
   },
   "source": [
    "![Russ College Logo](images/play-button.png)"
   ]
  },
  {
   "cell_type": "markdown",
   "id": "76de1445-72ca-40a7-8503-883280d4b629",
   "metadata": {
    "deletable": false,
    "editable": false,
    "tags": []
   },
   "source": [
    "- With our website, you can start from scratch and write your own code in your favorite languages! On the top left of your screen is a blue \"+\" button. Click on this button to open the launcher to create a new blank JupyterLab page."
   ]
  },
  {
   "cell_type": "markdown",
   "id": "724f9e90-88e2-43dd-b49d-7e833abc5ec9",
   "metadata": {
    "deletable": false,
    "editable": false,
    "tags": []
   },
   "source": [
    "![Russ College Logo](images/plus.png)"
   ]
  },
  {
   "cell_type": "markdown",
   "id": "b713d4c9-2212-4595-be86-40b6a1ccb22e",
   "metadata": {
    "deletable": false,
    "editable": false,
    "tags": []
   },
   "source": [
    "To create a new Notebook, select the language that you wish to code in under the Notebook section. This will open a blank JupyterLab page. To add cells, click on the \"+\" button on the top ribben. Each cell can either be an informational cell (Markdown) or a code cell (Code). You can change a cell's type by using the top ribben. To learn more about the JupyterLab interface, refer to the following website: https://jupyterlab.readthedocs.io/en/stable/getting_started/overview.html"
   ]
  },
  {
   "cell_type": "markdown",
   "id": "be97db30-f103-49f6-b0d2-10bf69d90d00",
   "metadata": {
    "deletable": false,
    "editable": false,
    "tags": []
   },
   "source": [
    "## **Computer Science Bubble Chart**\n",
    "This bubble chart lists the current required classes and electives in the Computer Science major at Ohio University. To view what you'll learn in each class, navigate to the corresponding class web page on our website!"
   ]
  },
  {
   "cell_type": "markdown",
   "id": "8c5b3863-1c8a-450f-8872-87abb7436268",
   "metadata": {
    "deletable": false,
    "editable": false,
    "tags": []
   },
   "source": [
    "![Russ College Logo](images/bubble_chart.pdf)"
   ]
  },
  {
   "cell_type": "markdown",
   "id": "437359ee-e1d4-4c76-a14b-6d6a7007e43b",
   "metadata": {
    "deletable": false,
    "editable": false,
    "tags": []
   },
   "source": [
    "## **First Practice Example**\n",
    "Listed below is a Python print statement. Modify this statement so it outputs \"Hello (your first name)\". Run your solution to see if it is correct."
   ]
  },
  {
   "cell_type": "code",
   "execution_count": null,
   "id": "17103ae3-5cd8-4914-ba28-6049d75a1159",
   "metadata": {
    "deletable": false,
    "tags": []
   },
   "outputs": [],
   "source": [
    "print(\"Hello World\")"
   ]
  },
  {
   "cell_type": "markdown",
   "id": "433cb7c6-09ba-45ad-bd30-fa30e4fcd4da",
   "metadata": {
    "deletable": false,
    "editable": false,
    "tags": []
   },
   "source": [
    "__Solution:__ Click on the print(\"Hello world\") cell. Next, delete the 'World' text, and type in your first name. Finally, click on the play button on the top ribbon to run the example and to see the output. Underneath the cell, you should now see the output, which should say, \"Hello (your first name)\".\n",
    "\n"
   ]
  },
  {
   "cell_type": "markdown",
   "id": "50f48608-b8ed-4e17-a251-9313e50f68df",
   "metadata": {
    "deletable": false,
    "editable": false,
    "tags": []
   },
   "source": [
    "<b>\n",
    "    <p style=\"text-align:center;color:#00694E;font-family:copperplate;font-size:13px\">\n",
    "        Made in 2022 by Gavin Dassatti, Alex Heffner, Matthew Lang, and Aaron Begy\n",
    "    </p>\n",
    "</b>"
   ]
  }
 ],
 "metadata": {
  "kernelspec": {
   "display_name": "Python 3 (ipykernel)",
   "language": "python",
   "name": "python3"
  },
  "language_info": {
   "codemirror_mode": {
    "name": "ipython",
    "version": 3
   },
   "file_extension": ".py",
   "mimetype": "text/x-python",
   "name": "python",
   "nbconvert_exporter": "python",
   "pygments_lexer": "ipython3",
   "version": "3.10.0"
  },
  "toc-showcode": false,
  "toc-showmarkdowntxt": false
 },
 "nbformat": 4,
 "nbformat_minor": 5
}
