{
 "cells": [
  {
   "cell_type": "markdown",
   "id": "bedafdc2-f8e6-4a5c-b1ee-14947b8ee48c",
   "metadata": {},
   "source": [
    "![Russ College Logo](images/logo.png)"
   ]
  },
  {
   "cell_type": "markdown",
   "id": "0ef3902d-8d16-4f6d-a560-d21edef15421",
   "metadata": {
    "tags": []
   },
   "source": [
    "# **Welcome Future Ohio University Computer Science Students!**\n",
    "\n",
    "### Wanting to learn more about Ohio University's computer science program? You've come to the right place. This website \n",
    "### covers an overview of the coursework in each of the required courses within our computer science curriculum. Within \n",
    "### each class, expect to learn more about the course description and learning outcomes. Also, expect to modify and run \n",
    "### online examples of a few of the course's key concepts in a built-in editor/compiler!\n",
    "\n",
    "## **Website Features**\n",
    "\n",
    "### . On the left side of your screen is a list of all of Ohio University's computer science courses. Double click on each \n",
    "### course to open that course in a new tab. To close a tab / course, hover over its corresponding tab, navigate to the \n",
    "### circle icon, and select the 'x'.\n",
    "\n",
    "### . Each course contains a few self-contained examples that are modifiable and runnable online. To run an example and \n",
    "### view its output, first, select the example cell. Next, make any desired edits to to the cell. Lastly, click the \n",
    "### triangle play button on the top ribbon to see the output.\n",
    "\n",
    "## **First Example**\n",
    "\n",
    "### Listed below is a Python print statement. Change the \"world\" text to your first name and run it to see what happens. "
   ]
  },
  {
   "cell_type": "code",
   "execution_count": 9,
   "id": "17103ae3-5cd8-4914-ba28-6049d75a1159",
   "metadata": {
    "tags": []
   },
   "outputs": [
    {
     "name": "stdout",
     "output_type": "stream",
     "text": [
      "Hello World\n"
     ]
    }
   ],
   "source": [
    "print(\"Hello World\")"
   ]
  },
  {
   "cell_type": "markdown",
   "id": "433cb7c6-09ba-45ad-bd30-fa30e4fcd4da",
   "metadata": {},
   "source": [
    "### Solution: Click on the print(\"Hello world\") cell. Next, delete the 'world' text, and type in your first name. Finally, click on \n",
    "### the play button on the top ribbon to run the example and to see the output. Underneath the cell, you should now see the \n",
    "### output, which should say, \"Hello (your first name)\"\n",
    "\n"
   ]
  }
 ],
 "metadata": {
  "kernelspec": {
   "display_name": "Python 3 (ipykernel)",
   "language": "python",
   "name": "python3"
  },
  "language_info": {
   "codemirror_mode": {
    "name": "ipython",
    "version": 3
   },
   "file_extension": ".py",
   "mimetype": "text/x-python",
   "name": "python",
   "nbconvert_exporter": "python",
   "pygments_lexer": "ipython3",
   "version": "3.9.5"
  }
 },
 "nbformat": 4,
 "nbformat_minor": 5
}
