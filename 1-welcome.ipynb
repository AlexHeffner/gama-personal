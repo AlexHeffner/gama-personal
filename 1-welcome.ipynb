{
 "cells": [
  {
   "cell_type": "markdown",
   "id": "bedafdc2-f8e6-4a5c-b1ee-14947b8ee48c",
   "metadata": {},
   "source": [
    "![Russ College Logo](images/logo.png)"
   ]
  },
  {
   "cell_type": "markdown",
   "id": "0ef3902d-8d16-4f6d-a560-d21edef15421",
   "metadata": {
    "tags": []
   },
   "source": [
    "# **Welcome Future Ohio University Computer Science Students!**\n",
    "Wanting to learn more about Ohio University's computer science program? You've come to the right place. This website covers an overview of the coursework within each individual class in our computer science curriculum. Inside each class's file, expect to learn about the course description, learning outcomes, and more! Also, expect to modify and run online examples of a few of the course's key concepts in a built-in editor/compiler!\n",
    "\n",
    "## **Website Features**\n",
    "- On the far left side of your screen is a side bar menu with four options. \n",
    "    - The first option, (the folder icon), contains a list of all of Ohio University's computer science courses. Double click on each course to open it in a new tab which appears at the top. To close a tab / course, hover over its corresponding tab, navigate to the circle icon, and select the 'x'.\n",
    "    - The second option, (a square inside a circle), is where you can manage your open tabs, kernals, and terminals.\n",
    "    - The third icon contains clickable headings that are on the current page viewed.\n",
    "- Each course contains a few self-contained examples that are both modifiable and runnable online. To run an example and view its output, first, select the example code cell. Next, make any desired edits to the cell. Lastly, click the triangle play button on the top ribbon to see the output.\n",
    "\n",
    "## **Class List**\n",
    "This JupyterLab page covers each of the following classes at Ohio University. In the folder icon on the left side of your screen, click on each class page to learn more!\n",
    "### **Computer Science Courses:**\n",
    "\n",
    "#### CS 1400 - Fundamentals of Computing \n",
    "#### CS 2300 - Computer Programming in Java \n",
    "#### CS 2400 - Introduction to Computer Science I\n",
    "#### CS 2401 - Introduction to Computer Science II\n",
    "#### CS 2653 - Professional and Ethical Aspects of Computing\n",
    "#### CS 3000 - Introduction to Discrete Structures \n",
    "#### CS 3200 - Organization of Programming Languages  \n",
    "#### CS 3560 - Software Engineering Tools and Practices\n",
    "#### CS 3610 - Data Structures \n",
    "#### CS 4000 - Introduction to Distributed, Parallel, and Web-Centric Computing\n",
    "#### CS 4040 - Design and Analysis Of Algorithms \n",
    "#### CS 4060 - Computation Theory \n",
    "#### CS 4100 - Introduction to Formal Languages and Compilers \n",
    "#### CS 4150 - Data Science: Models, Processes, and Applications \n",
    "#### CS 4170 - Data Mining with Applications in the Life Sciences\n",
    "#### CS 4250 - Interactive Computer Graphics \n",
    "#### CS 4350 - Fundamentals of Game Engine Design\n",
    "#### CS 4420 - Operating Systems \n",
    "#### CS 4560 & CS 4561 - Software Design and Development I & II\n",
    "#### CS 4620 - Database Systems\n",
    "#### CS 4750 - Internet Engineering \n",
    "#### CS 4800 - Artificial Intelligence \n",
    "\n",
    "### **Electrical Engineering Courses:**\n",
    "\n",
    "#### EE 1024 - Introduction to Computer Engineering \n",
    "#### EE 3613 - Computer Organization \n",
    "#### EE 3713 - Applied Probability And Statistics \n",
    "#### EE 3954 - Microprocessors and Microcontrollers\n",
    "#### EE 4673 - Embedded Systems \n",
    "#### EE 4683 - Computer Architecture \n",
    "\n",
    "\n",
    "## **First Practice Example**\n",
    "\n",
    "Listed below is a Python print statement. Modify this statement so it outputs \"Hello (your first name)\". Run your solution to see if it is correct."
   ]
  },
  {
   "cell_type": "code",
   "execution_count": null,
   "id": "17103ae3-5cd8-4914-ba28-6049d75a1159",
   "metadata": {
    "tags": []
   },
   "outputs": [],
   "source": [
    "print(\"Hello World\")"
   ]
  },
  {
   "cell_type": "markdown",
   "id": "433cb7c6-09ba-45ad-bd30-fa30e4fcd4da",
   "metadata": {},
   "source": [
    "__Solution:__ Click on the print(\"Hello world\") cell. Next, delete the 'World' text, and type in your first name. Finally, click on the play button on the top ribbon to run the example and to see the output. Underneath the cell, you should now see the output, which should say, \"Hello (your first name)\".\n",
    "\n"
   ]
  },
  {
   "cell_type": "markdown",
   "id": "50f48608-b8ed-4e17-a251-9313e50f68df",
   "metadata": {},
   "source": [
    "<b>\n",
    "    <p style=\"text-align:center;color:#00694E;font-family:copperplate;font-size:13px\">\n",
    "        Made in 2022 by Gavin Dassatti, Alex Heffner, Matthew Lang, and Aaron Begy\n",
    "    </p>\n",
    "</b>"
   ]
  }
 ],
 "metadata": {
  "kernelspec": {
   "display_name": "Python 3 (ipykernel)",
   "language": "python",
   "name": "python3"
  },
  "language_info": {
   "codemirror_mode": {
    "name": "ipython",
    "version": 3
   },
   "file_extension": ".py",
   "mimetype": "text/x-python",
   "name": "python",
   "nbconvert_exporter": "python",
   "pygments_lexer": "ipython3",
   "version": "3.10.0"
  }
 },
 "nbformat": 4,
 "nbformat_minor": 5
}
