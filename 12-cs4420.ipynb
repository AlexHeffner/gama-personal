{
 "cells": [
  {
   "cell_type": "markdown",
   "id": "d9506328-9989-439b-a837-f58f5a935798",
   "metadata": {},
   "source": [
    "![cs4420 logo](images/cs4420Intro.png)"
   ]
  },
  {
   "cell_type": "markdown",
   "id": "6ae8a04b-b075-426f-81aa-8d11cff62aa2",
   "metadata": {},
   "source": [
    "## **Course Description**\n",
    "In this class we cover in-depth coverage of computer operating systems and related computer architecture issues. Coverage of physical devices, interrupts, and communication between the computer and external hardware. Interfaces between user programs and the operating system, system calls, software interrupts, and protection issues. Context switching, process address spaces, and process scheduling. Process synchronization, interprocess communications, critical sections, and deadlock detection and recovery. Memory mapping, swapping, paging, and virtual memory."
   ]
  },
  {
   "cell_type": "markdown",
   "id": "184bc898-2a98-4a72-821e-93e1c09e9f28",
   "metadata": {},
   "source": [
    "## **Learning Outcomes**\n",
    "- Students will develop the ability to design and implement a simplified UNIX command interpreter.\n",
    "- Students will develop the ability to represent Boolean expressions in SOP and POS formats.\n",
    "- Students will gain a detailed understanding of demand paging.\n",
    "- Students will gain a detailed understanding of how processes are created, managed, and destroyed under UNIX.\n",
    "- Students will gain a detailed understanding of how to interact with generic memory, disk drives, and serial devices.\n",
    "- Students will gain a detailed understanding of the Unix command interpreter.\n",
    "- Students will gain a detailed understanding of the components of a process: CPU registers, memory, etc.\n",
    "- Students will gain a detailed understanding of the mechanisms for switching between modes on various kinds of hardware.\n",
    "- Students will gain a detailed understanding of the relationship between virtual memory and memory management."
   ]
  },
  {
   "cell_type": "markdown",
   "id": "5df1fdc6-f146-49ce-a146-4cb321053922",
   "metadata": {},
   "source": [
    "## **What You'll Learn**"
   ]
  },
  {
   "cell_type": "markdown",
   "id": "14863f62-4d85-4584-99af-38911de0c2fe",
   "metadata": {},
   "source": [
    "In these next few examples we have some C system calls which are calls to the operating system and will perform the following function. The following two examples will first create a folder named foo, then delete the folder and everything inside it. Take a look on the left of your screen to see the folder appear and then disapear."
   ]
  },
  {
   "cell_type": "code",
   "execution_count": 1,
   "id": "b5ad8f2f-47b0-4df4-b296-c072fa539426",
   "metadata": {},
   "outputs": [],
   "source": [
    "#include <sys/types.h>\n",
    "#include <unistd.h>\n",
    "#include <iostream>\n",
    "system(\"mkdir foo\");\n"
   ]
  },
  {
   "cell_type": "code",
   "execution_count": 2,
   "id": "4ae6cc32-d83f-4777-a7ca-fc1efbf3f0f3",
   "metadata": {
    "tags": []
   },
   "outputs": [],
   "source": [
    "#include <sys/types.h>\n",
    "#include <unistd.h>\n",
    "system(\"rm -rf foo\");"
   ]
  },
  {
   "cell_type": "markdown",
   "id": "e246cd63-f741-4092-b824-b0d3af865164",
   "metadata": {},
   "source": [
    "Here we have a few system calls to get information about your computers memory and cpu information. They will output both of this information to two text files, memory.txt and cpu.txt. Run the code and take a look at the files to see the information."
   ]
  },
  {
   "cell_type": "code",
   "execution_count": 3,
   "id": "39dd3e75-2d10-446d-837b-06a80c98a830",
   "metadata": {},
   "outputs": [],
   "source": [
    "#include <sys/types.h>\n",
    "#include <unistd.h>\n",
    "#include <iostream>\n",
    "system(\"free -m > memory.txt\");\n",
    "system(\"cat /proc/cpuinfo > cpu.txt\");"
   ]
  },
  {
   "cell_type": "markdown",
   "id": "8c01b22a-9894-4cfa-ac53-a2bbc2449dba",
   "metadata": {},
   "source": [
    "Next we have some systemcall that will show what CPU the current program is running on as well as show the NUMA node which are the CPU memory couples"
   ]
  },
  {
   "cell_type": "code",
   "execution_count": null,
   "id": "61924095-0346-48bd-b721-6eb8daee124d",
   "metadata": {},
   "outputs": [
    {
     "name": "stdout",
     "output_type": "stream",
     "text": [
      "0\n",
      "This program is running on CPU core 0 and NUMA node 0.\n",
      "\n"
     ]
    }
   ],
   "source": [
    "// #define _GNU_SOURCE\n",
    "#include <assert.h>\n",
    "#include <errno.h>\n",
    "#include <pthread.h>\n",
    "#include <stdio.h>\n",
    "#include <stdlib.h>\n",
    "#include <unistd.h>\n",
    "#include <sys/syscall.h>\n",
    "\n",
    "int err, ret;\n",
    "unsigned cpu, node;\n",
    "\n",
    "/* Correct operation. */\n",
    "assert(syscall(SYS_getcpu, &cpu, &node, NULL) == 0);\n",
    "printf(\"%u\\n\", cpu);\n",
    "printf(\"This program is running on CPU core %u and NUMA node %u.\\n\\n\", cpu, node);\n",
    "\n",
    "return EXIT_SUCCESS;"
   ]
  },
  {
   "cell_type": "markdown",
   "id": "677e112b-c5d3-4462-aea1-de2f43859a43",
   "metadata": {},
   "source": [
    "#### **Critical Section Problem**"
   ]
  },
  {
   "cell_type": "markdown",
   "id": "75384c43-c18e-4e01-9c34-f919f5fbf7d6",
   "metadata": {},
   "source": [
    "The critical section is a code segment where the shared variables can be accessed. An atomic action (only one process can execute at a time) is required in a critical section. As demonstrated in the diagram below. "
   ]
  },
  {
   "cell_type": "markdown",
   "id": "dc4912cf-9103-4671-a5ea-34be6121392f",
   "metadata": {},
   "source": [
    "do {\n",
    "    -Entry section <br>\n",
    "        -Critical section <br>\n",
    "    -Exit section    \n",
    "} while (TRUE);"
   ]
  },
  {
   "cell_type": "markdown",
   "id": "6cce346b-98f9-43a9-ad24-b876927a42b5",
   "metadata": {},
   "source": [
    "Entry section handles what enters the critical section and acquires the resources needed to execute. The exit section releases resources and informs other processes that the critical section is free."
   ]
  },
  {
   "cell_type": "markdown",
   "id": "99829c1b-a50e-4c5f-81f8-4410371a235d",
   "metadata": {},
   "source": [
    "The critical section problem needs a solution to synchronize the different processes and the solution to that must satisfy the following three conditions\n",
    "\n",
    "- Mutually Exclusion\n",
    "    - This implies that only one process can be inside the critical section at a time, any other process must wait until it is free\n",
    "- Progress\n",
    "    - If a process is not using the critical section, then it should not stop any other process form accessing it\n",
    "- Bounded Waiting\n",
    "    - Each process must have a limited waiting time, and should not wait endlessly to access the critical section"
   ]
  },
  {
   "cell_type": "markdown",
   "id": "6d5f9c3c-a9f8-4a2c-9280-443756040d58",
   "metadata": {},
   "source": [
    "You want the critical section to follow atomic actions in order to prevent race conditions\n",
    "    - A race condition happens when the result of multiple thread executions in a critical section differ according to the order in which they execute. "
   ]
  },
  {
   "cell_type": "markdown",
   "id": "a75e8713-776f-44af-80d8-f3e2405224d6",
   "metadata": {},
   "source": [
    "## **Conclusion**"
   ]
  },
  {
   "cell_type": "markdown",
   "id": "cc5e4321-db44-4985-88d6-5384816bce35",
   "metadata": {},
   "source": [
    "An operating system is the most important software that runs on a computer. It manages the computer's memory and processes, as well as all of its software and hardware. While also communicating with the computer without having to speak the computer's language. Above we reviewed how to use the OS to make and remove directories, how to return CPU memory modules, and how to output your computers CPU and memory information. Also we approached the critical section problem which is essential in ensuring that the code is interpreted by the OS correctly. These are fundamental topics that together give a good representation of what can be expected in the course. "
   ]
  }
 ],
 "metadata": {
  "kernelspec": {
   "display_name": "Python 3 (ipykernel)",
   "language": "python",
   "name": "python3"
  },
  "language_info": {
   "codemirror_mode": {
    "name": "ipython",
    "version": 3
   },
   "file_extension": ".py",
   "mimetype": "text/x-python",
   "name": "python",
   "nbconvert_exporter": "python",
   "pygments_lexer": "ipython3",
   "version": "3.9.9"
  }
 },
 "nbformat": 4,
 "nbformat_minor": 5
}
