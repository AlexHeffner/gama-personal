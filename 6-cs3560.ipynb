{
 "cells": [
  {
   "cell_type": "markdown",
   "id": "2267c815-ffff-4d3c-85f6-d4c4a58c6aba",
   "metadata": {},
   "source": []
  },
  {
   "cell_type": "markdown",
   "id": "d88fc8e8-8d3c-43f4-9763-6247a408d942",
   "metadata": {},
   "source": [
    "# **Course Description** #"
   ]
  },
  {
   "cell_type": "markdown",
   "id": "dc6c1798-8e0b-4670-a138-ac252fc9dfed",
   "metadata": {},
   "source": [
    "CS 3650 is a very interesting and hands-on class that dives into detail on the skills needed to become a great software engineer. In this course you will learn about the application of a variety of different tools related to software engineering and development, and current practices that software engineers follow in the industry today. Some of the topics covered in this course include: software architecture, integrated development environments, build and make systems, debugging, and design and analysis tools. One of the best parts about this course is that you don't just learn about these topics, you learn how to apply these topics to your own software. Which will in turn make your life as a computer science student a lot easier."
   ]
  },
  {
   "cell_type": "code",
   "execution_count": null,
   "id": "677843b9-e8c4-44ad-bde6-6c3797ba528c",
   "metadata": {},
   "outputs": [],
   "source": []
  }
 ],
 "metadata": {
  "kernelspec": {
   "display_name": "Python 3",
   "language": "python",
   "name": "python3"
  },
  "language_info": {
   "codemirror_mode": {
    "name": "ipython",
    "version": 3
   },
   "file_extension": ".py",
   "mimetype": "text/x-python",
   "name": "python",
   "nbconvert_exporter": "python",
   "pygments_lexer": "ipython3",
   "version": "3.8.2"
  }
 },
 "nbformat": 4,
 "nbformat_minor": 5
}
