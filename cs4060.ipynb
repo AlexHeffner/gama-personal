{
 "cells": [
  {
   "cell_type": "markdown",
   "id": "656c305c-6a76-4320-a8c7-269e86bfcc19",
   "metadata": {
    "deletable": false,
    "editable": false,
    "tags": []
   },
   "source": [
    "![Russ College Logo](images/logo.png)"
   ]
  },
  {
   "cell_type": "markdown",
   "id": "db104f34-8cbb-4d71-9a58-0e2bb7fe56cf",
   "metadata": {
    "deletable": false,
    "editable": false,
    "tags": []
   },
   "source": [
    "<b>\n",
    "    <p style=\"text-align:center;color:#00694E;font-family:copperplate;font-size:40px\">\n",
    "        CS 4060 - Computation Theory\n",
    "    </p>\n",
    "</b>"
   ]
  },
  {
   "cell_type": "markdown",
   "id": "828ac097-9735-463b-b711-b4552e452fb1",
   "metadata": {
    "deletable": false,
    "editable": false,
    "tags": []
   },
   "source": [
    "## **Course Description**\n",
    "\n",
    "In Computation Theory you will learn the fundamentals of formal language theory and the theory of computation. In formal language theory you will learn to understand different ways to recognize words and well-formed sentence according to a specific set of rules/syntax. You will also learn how to build this internal structure of the syntax. In the theory of computation, you will learn about Automata theory, Computability theory, and Computational complexity theory. In addition to this you will learn about various topics such as basic models of computation, the Church-Turing thesis, Turing machines, decidability and undecidability, computational complexity, NP-completeness, and diagonalization. In this class you can feel confident in learning the fundamentals of how computers function, how to understand the interworks of computer language syntax."
   ]
  },
  {
   "cell_type": "markdown",
   "id": "2e83c210-ff40-40c5-bb36-8e6f70d947b6",
   "metadata": {
    "deletable": false,
    "editable": false,
    "tags": []
   },
   "source": [
    "## **What You'll Learn**\n",
    "Throughout this page you will learn about how to convert a DFA into a regular expression. This example can really help you see how you can see the theory of formal language theory and turn it into something applicable, regualr expression. You will also learn about automata theory and decidability / undecidability through interactive coding examples."
   ]
  },
  {
   "cell_type": "markdown",
   "id": "6ea8dd4b-c6e6-43c5-a85b-dfe63072baa1",
   "metadata": {
    "deletable": false,
    "editable": false,
    "tags": []
   },
   "source": [
    "### **Converting a DFA to a regular expression**\n",
    "DFA stands for Deterministic finite automaton. A DFA is a finite-state machine that accepts or rejects a given string of symbols, by running through a state sequence uniquely determined by the string. This state is often shown as diagrams which we will refer to as the DFA. In a DFA the arrows will tell how a DFA can get from one state to another, and it will have to \"eat\" the character above the arrow to get to the next state. A state with 2 circles around it can mean that it is allowed to be an end state. If a string is presented to the DFA and is not able to perfectly match and get to an end state, then it does not match the language set up by the DFA and is rejected.\n",
    "\n",
    "A Regular Expression is a common way of searching for a pattern in text and are used widely in computer science today. If you wanted to have a text pattern for an email, password, or username, you can specify what exactly kind of string you would like to accept, for instance, would you want to accept and email without an @ symbol?\n",
    "\n",
    "In this next example we will walk through how to convert a given DFA into a regular expression. Here is our initial DFA.\n",
    "<div>\n",
    "<img src=\"images/cs4060-dfa1.png\" width=\"400\"/>\n",
    "</div>\n",
    "First, we will want to add a new starting / initial state for our regex (qi). The epsilon can represent \"eating\" a null character or taking in nothing at all. This will leave us looking at our DFA as...\n",
    "<div>\n",
    "<img src=\"images/cs4060-dfa2.png\" width=\"400\"/>\n",
    "</div>\n",
    "Next, we will want an explicit end state like our initial fist so we will call it (qf), and it will come out of B, and it will take an epsilon because we do not want to change what the actual DFA recognizes as a string. Our next DFA will look like...\n",
    "<div>\n",
    "<img src=\"images/cs4060-dfa3.png\" width=\"400\"/>\n",
    "</div>\n",
    "Next, we can eliminate state A.  There is a path going from state qi to state B via state A.\n",
    "So, we can eliminate state A, and put a direct path from state qi to state B having cost ∈ plus the 0 that was used to get to B. Then we can implement the loop that was from state A and make B loop on itself making the character to be ate \"10\". This will result in our DFA looking like...\n",
    "<div>\n",
    "<img src=\"images/cs4060-dfa4.png\" width=\"400\"/>\n",
    "</div>\n",
    "Finally we can get rid of state be and get to our final DFA going from qi to qf\n",
    "We can eliminate state B by putting a direct path from state qi to state qf having cost 0 for the initial to b, and (10)* for having zero or however many times \"10\" show up in a row.\n",
    "<div>\n",
    "<img src=\"images/cs4060-dfa5.png\" width=\"400\"/>\n",
    "</div>\n",
    "This results in a final regex of 0(10)*\n",
    "\n",
    "Down below is a code example of the regex we made. Try out some of the examples that are made and see if you can guess which ones will match, and where in the string, and which ones won’t match at all."
   ]
  },
  {
   "cell_type": "code",
   "execution_count": null,
   "id": "a3ca4928-8140-4e71-aa72-e628b685f667",
   "metadata": {
    "deletable": false,
    "tags": []
   },
   "outputs": [],
   "source": [
    "import re\n",
    "\n",
    "txt = \"0101010\"\n",
    "x = re.search(\"0(10)*\", txt)\n",
    "if(x is not None):\n",
    "    print(\"1: \", x.group())\n",
    "\n",
    "txt = \"\"\n",
    "x = re.search(\"0(10)*\", txt)\n",
    "if(x is not None):\n",
    "    print(\"2: \", x.group())\n",
    "\n",
    "txt = \"10\"\n",
    "x = re.search(\"0(10)*\", txt)\n",
    "if(x is not None):\n",
    "    print(\"3: \", x.group())\n",
    "\n",
    "txt = \"010cds1000\"\n",
    "x = re.search(\"0(10)*\", txt)\n",
    "if(x is not None):\n",
    "    print(\"4: \", x.group())\n",
    "\n",
    "txt = \"abcd010sad\"\n",
    "x = re.search(\"0(10)*\", txt)\n",
    "if(x is not None):\n",
    "    print(\"5: \", x.group())\n",
    "\n"
   ]
  },
  {
   "cell_type": "markdown",
   "id": "79945e7d-c9cf-4ce0-8899-ab80154eb5b7",
   "metadata": {
    "deletable": false,
    "editable": false,
    "tags": []
   },
   "source": [
    "Down below is a small example, see if you can figure out how to make a regex that will match your name and favorite number, maybe your name and a few of your favorite numbers..."
   ]
  },
  {
   "cell_type": "code",
   "execution_count": null,
   "id": "5cea5e1d-ffeb-467f-81f1-d9ac9de1fa39",
   "metadata": {
    "deletable": false,
    "tags": []
   },
   "outputs": [],
   "source": [
    "import re\n",
    "txt = \"Your Name Here 23 or 82\"\n",
    "x = re.search(\"Name(23)*\", txt)\n",
    "if(x is not None):\n",
    "    print(\"Name match: \", x.group())"
   ]
  },
  {
   "cell_type": "markdown",
   "id": "a17cbebe-49e0-412d-bf3f-a2a404095af8",
   "metadata": {
    "deletable": false,
    "editable": false,
    "tags": []
   },
   "source": [
    "### **Automata Theory**\n",
    "Read more about what **Automata Theory** is on the following website! https://www.educative.io/edpresso/what-is-automata-theory"
   ]
  },
  {
   "cell_type": "markdown",
   "id": "fa363a5c-5dce-4e40-8f6b-b0eebacf3fe4",
   "metadata": {
    "deletable": false,
    "editable": false,
    "tags": []
   },
   "source": [
    "This is an example of a DFA written in Python. Carefully determine how the states are made, and view the sample inputs. Run the code to see if an input is accepted or rejected. Credit to https://www.codespeedy.com/a-program-in-python-to-demonstrate-finite-automata/ for the following example."
   ]
  },
  {
   "cell_type": "code",
   "execution_count": null,
   "id": "0b50d172-79bb-43c8-a0c5-1f9bf32965bf",
   "metadata": {
    "deletable": false,
    "tags": []
   },
   "outputs": [],
   "source": [
    "def FA(s):\n",
    "#if the length is less than 3 then it can't be accepted, Therefore end the process.\n",
    "    if len(s)<3:\n",
    "        return \"Rejected\"\n",
    "#first three characters are fixed. Therefore checking them using index\n",
    "    if s[0]=='1':\n",
    "        if s[1]=='0':\n",
    "            if s[2]=='1':\n",
    "                # After index 2 only \"1\" can appear. Therefore break the process if any other character is detected\n",
    "                for i in range(3,len(s)):\n",
    "                    if s[i]!='1':\n",
    "                        return \"Refected\"\n",
    "                return \"Accepted\"\n",
    "            return \"Rejected\"\n",
    "        return \"Rejected\"\n",
    "    return \"Rejected\"\n",
    "\n",
    "inputs=['1','10101','101','10111','01010',\"\"]\n",
    "for i in inputs:\n",
    "    print(FA(i))"
   ]
  },
  {
   "cell_type": "markdown",
   "id": "056a13f8-e5d9-45e7-ab3f-e8c767a33126",
   "metadata": {},
   "source": [
    "**Coding Challenge!!** Write another input case that the automata accepts. Also, write an input case that the automata rejects."
   ]
  },
  {
   "cell_type": "markdown",
   "id": "07b8e7c2-1bcc-471d-a935-8241a56d8ca4",
   "metadata": {
    "deletable": false,
    "editable": false,
    "tags": []
   },
   "source": [
    "### **Decidability and Undecidability**\n",
    "Credit to https://www.geeksforgeeks.org/decidability-and-undecidability-in-toc/ for the following information."
   ]
  },
  {
   "cell_type": "markdown",
   "id": "904025a3-35db-4dd5-8001-0d81b79c9482",
   "metadata": {
    "deletable": false,
    "editable": false,
    "tags": []
   },
   "source": [
    "#### **Definitions**\n",
    "**Decidable language** - A decision problem P is said to be decidable (i.e., have an algorithm)\n",
    "if the language L of all yes instances to P is decidable. Example- (I) (Acceptance problem for DFA) Given a DFA does it accept a given\n",
    "word? (II) (Emptiness problem for DFA) Given a DFA does it accept any word? (III) (Equivalence problem for DFA) Given two DFAs, do they accept the\n",
    "same language?\n",
    "\n",
    "**Undecidable language** -– A decision problem P is said to be undecidable if the language L of all\n",
    "yes instances to P is not decidable or a language is undecidable if it is not decidable. An undecidable language maybe a partially decidable language or something else but not decidable. If a language is not even partially decidable , then there exists no Turing machine for that language.\n",
    "\n",
    "**Partially decidable or Semi-Decidable Language** -– A decision problem P is said to be semi-decidable (i.e., have a semi-algorithm) if the language L of all yes instances to P is RE. A language ‘L’ is partially decidable if ‘L’ is a RE but not REC language.\n",
    "\n",
    "**Recursive language(REC)** – A language ‘L’ is said to be recursive if there exists a Turing machine which will accept all the strings in ‘L’ and reject all the strings not in ‘L’. The Turing machine will halt every time and give an answer(accepted or rejected) for each and every string input. A language ‘L’ is decidable if it is a recursive language. All decidable languages are recursive languages and vice-versa.\n",
    "\n",
    "**Recursively enumerable language(RE)** – A language ‘L’ is said to be a recursively enumerable language if there exists a Turing machine which will accept (and therefore halt) for all the input strings which are in ‘L’ but may or may not halt for all input strings which are not in ‘L’. By definition , all REC languages are also RE languages but not all RE languages are REC languages.\n",
    "\n",
    "#### **Example 1**\n",
    "Given a Turing machine ‘M’, we need to find out whether a state ‘Q’ is ever reached when a string ‘w’ is entered in ‘M’. This problem is also known as the ‘State Entry problem’.\n",
    "\n",
    "Now lets try to reduce the Halting problem to the State Entry problem. A Turing machine only halts when a transition function ? (qi , a) is not defined. Change every undefined function ?(qi,a) to ?(qi,a) = (Q, a, L or R). Note that the state Q can only be reached when the Turing machine halts.\n",
    "\n",
    "Suppose we have have an algorithm for solving the State Entry problem which will halt every time and tell us whether state Q can be reached or not. By telling us that we can or cannot reach state Q every time, it is telling us that the Turing machine will or will not halt, every time. But we know that is not possible because the halting problem is undecidable. That means that our assumption that there exists an algorithm which solves the State Entry problem and halts and gives us an answer every time, is false. Hence, the state entry problem is undecidable.\n",
    "\n",
    "#### **Example 2**\n",
    "Given two regular languages L1 and L2, is the problem of finding whether a string ‘w’ exists in both L1 and L2, a decidable problem or not.\n",
    "\n",
    "First we make two Turing machines TM1 and TM2 which simulate the DFAs of languages L1 and L2 respectively. We know that a DFA always halts, so a Turing machine simulating a DFA will also always halt. We enter the string ‘w’ in TM1 and TM2. Both Turing machines will halt and give us an answer. We can connect the outputs of the Turing machines to a modified ‘AND’ gate which will output ‘yes’ only when both the Turing machines answer ‘yes’. Otherwise it will output ‘no’.\n",
    "\n",
    "Since this system of two Turing machines and a modified AND gate will always stop, this problem is a decidable problem."
   ]
  },
  {
   "cell_type": "markdown",
   "id": "8ec4b81d-7d89-4ba1-b5b0-0ff0fde71f73",
   "metadata": {
    "deletable": false,
    "editable": false,
    "tags": []
   },
   "source": [
    "## **Conclusion**\n",
    "Computation Theory is an important elective in Ohio University's computer science program. In this class, you will be introduced to many theoretical based concepts, including Automata theory, Computability theory, and Computational complexity theory. You will also learn about basic models of computation, the Church-Turing thesis, Turing machines, decidability and undecidability, computational complexity, NP-completeness, and diagonalization. These concepts are very important to understand - especially if you plan on pursuing a computer science research career or graduate school."
   ]
  },
  {
   "cell_type": "markdown",
   "id": "1d0f9ae2-25f4-494d-af79-d2dbc867f575",
   "metadata": {
    "deletable": false,
    "editable": false,
    "tags": []
   },
   "source": [
    "<b>\n",
    "    <p style=\"text-align:center;color:#00694E;font-family:copperplate;font-size:13px\">\n",
    "        Made in 2022 by Gavin Dassatti, Alex Heffner, Matthew Lang, and Aaron Begy\n",
    "    </p>\n",
    "</b>"
   ]
  }
 ],
 "metadata": {
  "kernelspec": {
   "display_name": "Python 3 (ipykernel)",
   "language": "python",
   "name": "python3"
  },
  "language_info": {
   "codemirror_mode": {
    "name": "ipython",
    "version": 3
   },
   "file_extension": ".py",
   "mimetype": "text/x-python",
   "name": "python",
   "nbconvert_exporter": "python",
   "pygments_lexer": "ipython3",
   "version": "3.9.10"
  }
 },
 "nbformat": 4,
 "nbformat_minor": 5
}
