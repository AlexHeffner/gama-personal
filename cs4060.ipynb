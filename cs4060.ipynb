{
 "cells": [
  {
   "cell_type": "markdown",
   "id": "656c305c-6a76-4320-a8c7-269e86bfcc19",
   "metadata": {},
   "source": [
    "![Russ College Logo](images/logo.png)"
   ]
  },
  {
   "cell_type": "markdown",
   "id": "db104f34-8cbb-4d71-9a58-0e2bb7fe56cf",
   "metadata": {},
   "source": [
    "<b>\n",
    "    <p style=\"text-align:center;color:#00694E;font-family:copperplate;font-size:40px\">\n",
    "        CS 4060 - Computation Theory\n",
    "    </p>\n",
    "</b>"
   ]
  },
  {
   "cell_type": "markdown",
   "id": "828ac097-9735-463b-b711-b4552e452fb1",
   "metadata": {},
   "source": [
    "## **Course Description**\n",
    ".."
   ]
  },
  {
   "cell_type": "markdown",
   "id": "2e83c210-ff40-40c5-bb36-8e6f70d947b6",
   "metadata": {},
   "source": [
    "## **What You'll Learn**\n",
    "..."
   ]
  },
  {
   "cell_type": "markdown",
   "id": "6ea8dd4b-c6e6-43c5-a85b-dfe63072baa1",
   "metadata": {},
   "source": [
    "### **Example 1**\n",
    "..."
   ]
  },
  {
   "cell_type": "markdown",
   "id": "a17cbebe-49e0-412d-bf3f-a2a404095af8",
   "metadata": {},
   "source": [
    "### **Example 2**\n",
    "..."
   ]
  },
  {
   "cell_type": "markdown",
   "id": "07b8e7c2-1bcc-471d-a935-8241a56d8ca4",
   "metadata": {},
   "source": [
    "### **Example 3**\n",
    "..."
   ]
  },
  {
   "cell_type": "markdown",
   "id": "8ec4b81d-7d89-4ba1-b5b0-0ff0fde71f73",
   "metadata": {},
   "source": [
    "## **Conclusion**\n",
    "..."
   ]
  },
  {
   "cell_type": "markdown",
   "id": "1d0f9ae2-25f4-494d-af79-d2dbc867f575",
   "metadata": {},
   "source": [
    "<b>\n",
    "    <p style=\"text-align:center;color:#00694E;font-family:copperplate;font-size:13px\">\n",
    "        Made in 2022 by Gavin Dassatti, Alex Heffner, Matthew Lang, and Aaron Begy\n",
    "    </p>\n",
    "</b>"
   ]
  }
 ],
 "metadata": {
  "kernelspec": {
   "display_name": "Python 3 (ipykernel)",
   "language": "python",
   "name": "python3"
  },
  "language_info": {
   "codemirror_mode": {
    "name": "ipython",
    "version": 3
   },
   "file_extension": ".py",
   "mimetype": "text/x-python",
   "name": "python",
   "nbconvert_exporter": "python",
   "pygments_lexer": "ipython3",
   "version": "3.8.12"
  }
 },
 "nbformat": 4,
 "nbformat_minor": 5
}
