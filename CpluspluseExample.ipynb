{
 "cells": [
  {
   "cell_type": "code",
   "execution_count": 2,
   "id": "d8591c75-34e2-48bc-9b97-9fc521c89c02",
   "metadata": {},
   "outputs": [
    {
     "name": "stdout",
     "output_type": "stream",
     "text": [
      "Hello World!"
     ]
    }
   ],
   "source": [
    "// Your First C++ Program\n",
    "\n",
    "#include <iostream>\n",
    "\n",
    "std::cout << \"Hello World!\";"
   ]
  },
  {
   "cell_type": "code",
   "execution_count": null,
   "id": "94aa59ed-45d9-4e1e-a767-ae3e2632abec",
   "metadata": {},
   "outputs": [],
   "source": []
  }
 ],
 "metadata": {
  "kernelspec": {
   "display_name": "Python 3 (ipykernel)",
   "language": "python",
   "name": "python3"
  },
  "language_info": {
   "codemirror_mode": {
    "name": "ipython",
    "version": 3
   },
   "file_extension": ".py",
   "mimetype": "text/x-python",
   "name": "python",
   "nbconvert_exporter": "python",
   "pygments_lexer": "ipython3",
   "version": "3.8.10"
  }
 },
 "nbformat": 4,
 "nbformat_minor": 5
}
