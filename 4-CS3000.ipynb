{
 "cells": [
  {
   "cell_type": "markdown",
   "id": "8c093a97-d9e7-4de6-9886-ed076f5358ca",
   "metadata": {},
   "source": [
    "![cs2400 logo](images/CS3000Title.PNG)"
   ]
  },
  {
   "cell_type": "markdown",
   "id": "0d3dba36-ffee-443a-8da1-c5f237c7f8b5",
   "metadata": {},
   "source": [
    "## **Course Description**\n",
    "\n",
    "#### Discrete mathematics and its application to computer science explored. Foundational mathematical\n",
    "#### techniques used in computer science are explored in depth: propositional logic, number theory\n",
    "#### and proofs, sequences and mathematical induction, set theory, counting and combinatorics, \n",
    "#### discrete probability, functions, recursion, simple analysis of algorithms, and orderings and \n",
    "#### relations. Applications of these structures to various areas of computer science also covered."
   ]
  },
  {
   "cell_type": "code",
   "execution_count": null,
   "id": "d7552897-6d2f-4aff-a01c-0ea6618a7fc4",
   "metadata": {},
   "outputs": [],
   "source": []
  }
 ],
 "metadata": {
  "kernelspec": {
   "display_name": "Python 3 (ipykernel)",
   "language": "python",
   "name": "python3"
  },
  "language_info": {
   "codemirror_mode": {
    "name": "ipython",
    "version": 3
   },
   "file_extension": ".py",
   "mimetype": "text/x-python",
   "name": "python",
   "nbconvert_exporter": "python",
   "pygments_lexer": "ipython3",
   "version": "3.8.10"
  }
 },
 "nbformat": 4,
 "nbformat_minor": 5
}
