{
 "cells": [
  {
   "cell_type": "markdown",
   "id": "8c093a97-d9e7-4de6-9886-ed076f5358ca",
   "metadata": {},
   "source": [
    "![cs2400 logo](images/CS3000Title.PNG)"
   ]
  },
  {
   "cell_type": "markdown",
   "id": "0d3dba36-ffee-443a-8da1-c5f237c7f8b5",
   "metadata": {},
   "source": [
    "## **Course Description**\n",
    "\n",
    "#### Discrete mathematics and its application to computer science explored. Foundational mathematical\n",
    "#### techniques used in computer science are explored in depth: propositional logic, number theory\n",
    "#### and proofs, sequences and mathematical induction, set theory, counting and combinatorics, \n",
    "#### discrete probability, functions, recursion, simple analysis of algorithms, and orderings and \n",
    "#### relations. Applications of these structures to various areas of computer science also covered."
   ]
  },
  {
   "cell_type": "markdown",
   "id": "48359194-c21a-4328-a643-50b82dd1a2ba",
   "metadata": {},
   "source": [
    "## Inductive Proof Example"
   ]
  },
  {
   "cell_type": "markdown",
   "id": "b6c3d961-fe6f-4ae9-a548-75c8f5754423",
   "metadata": {},
   "source": [
    "#### One useful thing that you will learn in this class is how do a proof by induction. An inductive proof is a proof where you are able to prove one statement with a number n with a starting value (a base case) and from that statement you assume that the statement is true for all numbers n (inductive step) and prove it with your inductive proof. \n",
    "\n",
    "#### Proof by induction is very useful in computer science where it is used in the areas of recusion, solving for time complexity of algorithms, as well as can help us frame problems in a way that a computer can solve."
   ]
  },
  {
   "cell_type": "markdown",
   "id": "7b574903-691f-47c1-954c-0bf4e2e32e72",
   "metadata": {},
   "source": [
    "![CS3000 general](images/CS3000InductiveProofGeneral.png)"
   ]
  },
  {
   "cell_type": "markdown",
   "id": "d0bf8946-2b7a-45a7-b213-632267065526",
   "metadata": {},
   "source": [
    "![CS3000 example1](images/CS3000IPExample1.png)"
   ]
  },
  {
   "cell_type": "markdown",
   "id": "a52e1e5e-e6b3-4715-a6d4-f6753797df91",
   "metadata": {},
   "source": [
    "![CS3000 example2](images/CS3000IPExample2.png)"
   ]
  },
  {
   "cell_type": "markdown",
   "id": "358c93ba-c71e-46f0-8a37-8bf392fd6b6a",
   "metadata": {},
   "source": [
    "![CS3000 example3](images/CS3000IPExample3.png)"
   ]
  },
  {
   "cell_type": "markdown",
   "id": "d5d27d44-84f3-43f1-9505-0ecd7ebc4363",
   "metadata": {},
   "source": [
    "![CS3000 example4](images/CS3000IPExample4.png)"
   ]
  }
 ],
 "metadata": {
  "kernelspec": {
   "display_name": "Python 3 (ipykernel)",
   "language": "python",
   "name": "python3"
  },
  "language_info": {
   "codemirror_mode": {
    "name": "ipython",
    "version": 3
   },
   "file_extension": ".py",
   "mimetype": "text/x-python",
   "name": "python",
   "nbconvert_exporter": "python",
   "pygments_lexer": "ipython3",
   "version": "3.8.10"
  }
 },
 "nbformat": 4,
 "nbformat_minor": 5
}
