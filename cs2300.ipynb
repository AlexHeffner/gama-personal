{
 "cells": [
  {
   "cell_type": "markdown",
   "id": "f5c890e6-61a1-4088-9445-1600e6c12220",
   "metadata": {
    "deletable": false,
    "editable": false,
    "tags": []
   },
   "source": [
    "![Russ College Logo](images/logo.png)"
   ]
  },
  {
   "cell_type": "markdown",
   "id": "0859985c-7c68-4c93-9946-d36636fdb5df",
   "metadata": {
    "deletable": false,
    "editable": false,
    "tags": []
   },
   "source": [
    "<b>\n",
    "    <p style=\"text-align:center;color:#00694E;font-family:copperplate;font-size:40px\">\n",
    "        CS 2300 - Computer Programming in Java\n",
    "    </p>\n",
    "</b>"
   ]
  },
  {
   "cell_type": "markdown",
   "id": "c48395fa-64e4-43de-a87d-90f45a209e19",
   "metadata": {},
   "source": [
    "## **Course Description**\n",
    "CS 2300 - Computer Programming in Java is a stand-alone course in the computer science cirriculum here at Ohio University intended for students who want to learn more about computer programming for their use in unrelated fields. Meaning CS 2300 is not a required course for computer science majors, but rather for students in other majors who want to further their skills in computer programming. As a student in this course you will learn the basics of programming in Java, representing data, debugging and verifying programs, and also dive into the organization and charactersitics of computers. If you're not sure if you want to declare computer science as your major right away, this would be the perfect first class to take to learn more about the basics of computer programming and much more computing related topics."
   ]
  },
  {
   "cell_type": "markdown",
   "id": "7ad9f4bc-3113-464a-b40e-9c7607c0ae60",
   "metadata": {},
   "source": [
    "## **What You'll Learn**\n",
    "- Students will be able to create a graphical interface using standard controls\n",
    "- Students will be able to use Java library classes and methods\n",
    "- Students will be able to employ basic flow of control structures, including basic iterative and branching structures\n",
    "- Students will be able to create applications to solve problems\n",
    "- Students will be able to create a class with constructors, getters, setters, and a toString method"
   ]
  },
  {
   "cell_type": "markdown",
   "id": "90764ba4-0fff-49af-8a73-407359e5ba56",
   "metadata": {},
   "source": [
    "## **Classes, Objects, & Methods in Java**\n",
    "- The Java programming language is one of the most popular Object Oriented Programming (OOP) languages. Classes and Objects are the two most important basic concepts of Object Oriented Programming which revolve around the real life entities.\n",
    "> - **Classes**\n",
    ">> - A class in OOP is like a blueprint/outline from which objects are created. A class represents the set of properties or methods that are common to all of the objects of that type.\n",
    ">> - Constructors are used for initializing new objects of the type of the class. Fields are variables that provide the state of the class and it's objects, and methods are used to implement the behavior of the class and it's objects.\n",
    "> - **Objects**\n",
    ">> - An object is the basic unit of any Object Oriented Programming lanaguage and represents the real-life entities. A typical Java program creates many objects that interact by invoking class methods. Every object consists of:\n",
    ">>> - **State**: The state of an object is represented by the attributes of that object. It also reflects the properties of an object.\n",
    ">>> - **Behavior**: The behavior of an object is represented by the methods of that object. It also reflects the response of an object with other objects.\n",
    ">>> - **Identity**: The identity of an object is represented by the unique name given to that object upon declaration. This uniqueness enables one object to interact with other objects."
   ]
  },
  {
   "cell_type": "markdown",
   "id": "087f64a3-20f4-439e-9d70-ca6e9693989a",
   "metadata": {},
   "source": [
    "### **Student class in Java**\n",
    "- Below is a simple class in Java called Student. A student, as defined in the Student class, consists of a name, major, student ID, and their age. A constructor has been created to create an object of type student, and their are methods to retrieve the specific attributes of each student. Feel free to create a new student in the main program, run it, and see if it works!"
   ]
  },
  {
   "cell_type": "code",
   "execution_count": null,
   "id": "ce9f6cc6-8fd7-4fe3-afb9-f7b02cdd1d94",
   "metadata": {},
   "outputs": [],
   "source": [
    "public class Student {\n",
    "    // Instance Variables\n",
    "    String name;\n",
    "    String major;\n",
    "    int student_id;\n",
    "    int age;\n",
    "    \n",
    "    // Constructor Declaration of Class\n",
    "    public Student(String name, String major, int student_id, int age)\n",
    "    {\n",
    "        this.name = name;\n",
    "        this.major = major;\n",
    "        this.student_id = student_id;\n",
    "        this.age = age;\n",
    "    }\n",
    "    \n",
    "    // method 1\n",
    "    public String getName()\n",
    "    {\n",
    "        return name;\n",
    "    }\n",
    "    \n",
    "    // method 2\n",
    "    public String getMajor()\n",
    "    {\n",
    "        return major;\n",
    "    }\n",
    "    \n",
    "    // method 3\n",
    "    public int getID()\n",
    "    {\n",
    "        return student_id;\n",
    "    }\n",
    "    \n",
    "    // method 4\n",
    "    public int getAge()\n",
    "    {\n",
    "        return age;\n",
    "    }\n",
    "    \n",
    "    @Override\n",
    "    public String toString()\n",
    "    {\n",
    "        return(\"Hi my name is \" + this.getName() + \"\\nMy major is \" + this.getMajor()\n",
    "               + \"\\nI am \" + this.getAge() + \" years old\" + \"\\nMy student ID is \" + this.getID());\n",
    "    }\n",
    "    \n",
    "    public static void main(String[] args)\n",
    "    {\n",
    "        Student james = new Student(\"James\", \"Computer Science\", 201345, 18);\n",
    "        System.out.println(james.toString());\n",
    "    }\n",
    "    \n",
    "}"
   ]
  },
  {
   "cell_type": "markdown",
   "id": "572bbf5a-35b6-4398-a69e-7f091e6218c0",
   "metadata": {},
   "source": [
    "### **Example 3**\n",
    "..."
   ]
  },
  {
   "cell_type": "markdown",
   "id": "f3044ff0-bb8f-4352-8d1c-063d13f0d693",
   "metadata": {},
   "source": [
    "## **Conclusion**\n",
    "..."
   ]
  },
  {
   "cell_type": "markdown",
   "id": "0a18c663-4b8b-43aa-b681-4dfe487c47a4",
   "metadata": {},
   "source": [
    "<b>\n",
    "    <p style=\"text-align:center;color:#00694E;font-family:copperplate;font-size:13px\">\n",
    "        Made in 2022 by Gavin Dassatti, Alex Heffner, Matthew Lang, and Aaron Begy\n",
    "    </p>\n",
    "</b>"
   ]
  }
 ],
 "metadata": {
  "kernelspec": {
   "display_name": "Python 3 (ipykernel)",
   "language": "python",
   "name": "python3"
  },
  "language_info": {
   "codemirror_mode": {
    "name": "ipython",
    "version": 3
   },
   "file_extension": ".py",
   "mimetype": "text/x-python",
   "name": "python",
   "nbconvert_exporter": "python",
   "pygments_lexer": "ipython3",
   "version": "3.8.12"
  }
 },
 "nbformat": 4,
 "nbformat_minor": 5
}
