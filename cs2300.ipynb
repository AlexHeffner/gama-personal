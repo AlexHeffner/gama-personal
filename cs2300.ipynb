{
 "cells": [
  {
   "cell_type": "markdown",
   "id": "f5c890e6-61a1-4088-9445-1600e6c12220",
   "metadata": {},
   "source": [
    "![Russ College Logo](images/logo.png)"
   ]
  },
  {
   "cell_type": "markdown",
   "id": "0859985c-7c68-4c93-9946-d36636fdb5df",
   "metadata": {},
   "source": [
    "<b>\n",
    "    <p style=\"text-align:center;color:#00694E;font-family:copperplate;font-size:40px\">\n",
    "        CS 2300 - Computer Programming in Java\n",
    "    </p>\n",
    "</b>"
   ]
  },
  {
   "cell_type": "markdown",
   "id": "c48395fa-64e4-43de-a87d-90f45a209e19",
   "metadata": {},
   "source": [
    "## **Course Description**\n",
    "..."
   ]
  },
  {
   "cell_type": "markdown",
   "id": "7ad9f4bc-3113-464a-b40e-9c7607c0ae60",
   "metadata": {},
   "source": [
    "## **What You'll Learn**\n",
    "..."
   ]
  },
  {
   "cell_type": "markdown",
   "id": "90764ba4-0fff-49af-8a73-407359e5ba56",
   "metadata": {},
   "source": [
    "### **Example 1**\n",
    "..."
   ]
  },
  {
   "cell_type": "markdown",
   "id": "087f64a3-20f4-439e-9d70-ca6e9693989a",
   "metadata": {},
   "source": [
    "### **Example 2**\n",
    "..."
   ]
  },
  {
   "cell_type": "markdown",
   "id": "572bbf5a-35b6-4398-a69e-7f091e6218c0",
   "metadata": {},
   "source": [
    "### **Example 3**\n",
    "..."
   ]
  },
  {
   "cell_type": "markdown",
   "id": "f3044ff0-bb8f-4352-8d1c-063d13f0d693",
   "metadata": {},
   "source": [
    "## **Conclusion**\n",
    "..."
   ]
  },
  {
   "cell_type": "markdown",
   "id": "0a18c663-4b8b-43aa-b681-4dfe487c47a4",
   "metadata": {},
   "source": [
    "<b>\n",
    "    <p style=\"text-align:center;color:#00694E;font-family:copperplate;font-size:13px\">\n",
    "        Made in 2022 by Gavin Dassatti, Alex Heffner, Matthew Lang, and Aaron Begy\n",
    "    </p>\n",
    "</b>"
   ]
  }
 ],
 "metadata": {
  "kernelspec": {
   "display_name": "Python 3 (ipykernel)",
   "language": "python",
   "name": "python3"
  },
  "language_info": {
   "codemirror_mode": {
    "name": "ipython",
    "version": 3
   },
   "file_extension": ".py",
   "mimetype": "text/x-python",
   "name": "python",
   "nbconvert_exporter": "python",
   "pygments_lexer": "ipython3",
   "version": "3.9.10"
  }
 },
 "nbformat": 4,
 "nbformat_minor": 5
}
