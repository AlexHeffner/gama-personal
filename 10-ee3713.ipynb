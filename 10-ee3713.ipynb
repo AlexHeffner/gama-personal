{
 "cells": [
  {
   "cell_type": "markdown",
   "id": "91dfe669-f159-4a9b-a9b3-3d7b545b0590",
   "metadata": {},
   "source": [
    "## Course Description"
   ]
  },
  {
   "cell_type": "markdown",
   "id": "a7cbd566-1a92-44ff-b483-f792191c89f0",
   "metadata": {},
   "source": [
    "EE 3713, Applied Probability and Statistics for Electrical Engineers is one of the mathematics courses within our CS curriculum. This class focuses on the fundamentals of statistics and probability and applies them to problems within electrical engineering. While the course work does not have students writing code, the topics discussed give an idea on how computer algorithms can use discrete and continuous distributions for generating observations. It is expected for students to learn from this course how to compute the probability of simple and compound events, how to apply Bayes Rule and also the Law of Total Probability. If you would like to learn more about these topics, examples are provided below. "
   ]
  },
  {
   "cell_type": "code",
   "execution_count": null,
   "id": "b5a73f7b-feef-423f-9faf-b60a690c7cce",
   "metadata": {},
   "outputs": [],
   "source": []
  }
 ],
 "metadata": {
  "kernelspec": {
   "display_name": "Python 3 (ipykernel)",
   "language": "python",
   "name": "python3"
  },
  "language_info": {
   "codemirror_mode": {
    "name": "ipython",
    "version": 3
   },
   "file_extension": ".py",
   "mimetype": "text/x-python",
   "name": "python",
   "nbconvert_exporter": "python",
   "pygments_lexer": "ipython3",
   "version": "3.10.0"
  }
 },
 "nbformat": 4,
 "nbformat_minor": 5
}
