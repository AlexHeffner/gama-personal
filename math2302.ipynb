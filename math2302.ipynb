{
 "cells": [
  {
   "cell_type": "markdown",
   "id": "82ed1e85-8e1a-4170-96c3-66417619b209",
   "metadata": {
    "deletable": false,
    "editable": false,
    "tags": []
   },
   "source": [
    "![Russ College Logo](images/logo.png)"
   ]
  },
  {
   "cell_type": "markdown",
   "id": "524c9edc-9062-4610-9ce5-2f0886fcd4b4",
   "metadata": {
    "deletable": false,
    "editable": false,
    "tags": []
   },
   "source": [
    "<b>\n",
    "    <p style=\"text-align:center;color:#00694E;font-family:copperplate;font-size:40px\">\n",
    "        MATH 2302 - Calculus II\n",
    "    </p>\n",
    "</b>"
   ]
  },
  {
   "cell_type": "markdown",
   "id": "d4643ed3-efb3-4515-9b5e-f9c79f792804",
   "metadata": {
    "deletable": false,
    "editable": false,
    "tags": []
   },
   "source": [
    "## **Course Description**\n",
    "Math 2302 (Calc II) is a mathematical requirement for all undergraduate computer science students here at Ohio University. To reach this course, you must have taken and passed Math 2301 (Calc I), or have tested out of it. Math 2302 is offered both through the Russ College of Engineering as well as the Mathematics Department at Ohio University. This course is very fast-paced and can be intimidating at times, but there are plenty of resources throughout the university to help you do well. Branching off from Calculus I where you learn the basic techniques of differentiation and intergration, in Calclus II students will dive deeper into topics like advanced integration, polar coordinates, conic sections, infinite series, and several others. This course requires students to put in a great deal of time and effort, but it is quite rewarding once you are done. If you are interested in Computer Science but are intimidated by all of the mathematics requirements, you shouldn't let it get in your way. There are plenty of resources and people willing to help you succeed on campus."
   ]
  },
  {
   "cell_type": "markdown",
   "id": "532fc090-5030-40e0-b629-7d3ab53e1cce",
   "metadata": {
    "deletable": false,
    "editable": false,
    "tags": []
   },
   "source": [
    "## **What You'll Learn**\n",
    "- Student will be able to apply Calculus methods to problems in the sciences and engineering\n",
    "- Students will be able to apply Analytical Geometry methods to problems in the sciences and engineering\n",
    "- Students will learn how to apply advanced differentiation to complex mathematical problems\n",
    "- Students will lean how to apply advanced integration to complex mathematical problems\n",
    "- Students will be able to identify and compute infinite series"
   ]
  },
  {
   "cell_type": "markdown",
   "id": "9f2a7f84-db6c-40da-a849-78b64e7d341d",
   "metadata": {
    "deletable": false,
    "editable": false,
    "tags": []
   },
   "source": [
    "### **Common Derivatives & Integrals**\n",
    "- The beginning of this course is spent mostly on brushing up on the knowledge students gained upon completion of Calculus I. Most of the skills and techniques learned in Calculus I carry over to Calculus II and are vital to have in order to succeed in this course. One of the most, if not the most, important skills students need to have to do well in this course is the ability to solve derivatives and integrals quickly and efficiently. Derivatives & integrals, unfortunately, do not only stay in Calculus I. They are a part of just about every problem students will eventually solve in this course. That is why the beginning of this course is fully dedicated towards sharpening student's derivation and integration skills in order to have a solid foundation of the calculus fundamentals. \n",
    "> - There are probably around 15 functions that students should automatically know the derivatives of because at least one of them is seen in almost every mathematical problem in this course. The families of functions that students will be able to derive in less 30 seconds after the first few weeks in this course include just about every **polynomial function**, every **trigonometry function (cos(x), sin(x), tan(x), etc.)**, most of the **inverse trig functions (cos^-1, sin^-1, tan^-1, etc.)**, and a few of the **exponential/logarithmic functions (ln(x), e^x, etc.)**"
   ]
  },
  {
   "cell_type": "markdown",
   "id": "b1ca977e-19d7-4fa8-bc8d-3e355fd656e7",
   "metadata": {
    "deletable": false,
    "editable": false,
    "tags": []
   },
   "source": [
    "- Just about every student will know the derivatives of all of these common functions like the back of your hand by the end of this course. Knowing all of these common derivatives below as early as possible in the course will make your life so much easier so it is worth putting in the time and effort at the beginning."
   ]
  },
  {
   "cell_type": "markdown",
   "id": "cc8f1aff-4fa7-4164-b08a-e3111a930dbc",
   "metadata": {
    "deletable": false,
    "editable": false,
    "tags": []
   },
   "source": [
    "![common derivatives](images/common_calc.png)"
   ]
  },
  {
   "cell_type": "markdown",
   "id": "e48c8537-d2ec-496c-8d4b-8d60644c1e27",
   "metadata": {
    "deletable": false,
    "editable": false,
    "tags": []
   },
   "source": [
    "- Just like the common derivatives above, the same goes for the common integrals of functions. Just about every student in this course will be able to integrate all of these functions within 30 seconds to a minute by the end of this course. At first glance these functions may look quite intimidating, but once you get the hang of integration and integrating functions these will be a breeze."
   ]
  },
  {
   "cell_type": "markdown",
   "id": "80ca56ba-54ab-4fda-90f3-578650762860",
   "metadata": {
    "deletable": false,
    "editable": false,
    "tags": []
   },
   "source": [
    "![common integrals](images/common_integrals.png)"
   ]
  },
  {
   "cell_type": "markdown",
   "id": "ca795623-4271-4d65-871c-44224ffcf137",
   "metadata": {
    "deletable": false,
    "editable": false,
    "tags": []
   },
   "source": [
    "### **Infinite Series**\n",
    "- One of the more daunting and advanced set of topics covered in this course involves mathematical series. In calculus, a series is an infinite addition of an ordered set of terms. The infinite series often contains an infinite amount of terms and it's nth term represents the nth term of a sequence. There several different types of infinite series covered in this course and they are all unique in their own ways. In this course students will learn about several different types of series including Harmonic Series, Geometric Series, and Power Series."
   ]
  },
  {
   "cell_type": "markdown",
   "id": "d965cee4-2366-4e0a-96a4-06987fa7b947",
   "metadata": {
    "deletable": false,
    "editable": false,
    "tags": []
   },
   "source": [
    "> - **Harmonic Series** - One of the more popular types of series seen in this course. This type of series can be shown to diverge (go towards infinity) using a common method known as the integral test. This is what a harmonic series looks like:\n",
    ">> ![harmonic series](images/harmonic.png)\n",
    "> - **Geometric Series** - Another popular type of series is the geometric series. A geometric series is a series where the ratio of each two consecutive terms is a constant function of the summation index. A geometric series may converge (go towards a real number) or diverge (go towards infinity) depending on the value of the common ratio. This is what a geometric series looks like:\n",
    ">> ![geometric series](images/geometric.png)\n",
    "> - **Power Series** - One other popular type of series and also one of the more difficult series concepts to grasp is the Power Series. A power series is a specific type of series where each term in the sequence has a distinct constant. This is what a power series looks like:\n",
    ">> ![power series](images/power.png)"
   ]
  },
  {
   "cell_type": "markdown",
   "id": "cdb20083-48f6-413b-95fc-2335d6d56c31",
   "metadata": {
    "deletable": false,
    "editable": false,
    "tags": []
   },
   "source": [
    "## **Conclusion**\n",
    "Math 2302 - Calculus II is one of the more challenging courses in the computer science requirements here at Ohio University, but the problem-solving and analytical skills students will develop after taking this course will undoubtedly help them to succeed in the rest of the courses they need to take. This course is fast-paced and a direct successor of Math 2301 - Calculus I. So if students do well in Calculus I, they should have no trouble completing this course. The course of objective for students in this course is to gain a vast amount of knowledge in calculus and analytical geometry and be able to apply that knowledge to problems in the sciences and engineering. "
   ]
  },
  {
   "cell_type": "markdown",
   "id": "8de75aae-bb45-41d0-a3c0-58fe8161901c",
   "metadata": {
    "deletable": false,
    "editable": false,
    "tags": []
   },
   "source": [
    "<b>\n",
    "    <p style=\"text-align:center;color:#00694E;font-family:copperplate;font-size:13px\">\n",
    "        Made in 2022 by Gavin Dassatti, Alex Heffner, Matthew Lang, and Aaron Begy\n",
    "    </p>\n",
    "</b>"
   ]
  }
 ],
 "metadata": {
  "kernelspec": {
   "display_name": "Python 3 (ipykernel)",
   "language": "python",
   "name": "python3"
  },
  "language_info": {
   "codemirror_mode": {
    "name": "ipython",
    "version": 3
   },
   "file_extension": ".py",
   "mimetype": "text/x-python",
   "name": "python",
   "nbconvert_exporter": "python",
   "pygments_lexer": "ipython3",
   "version": "3.9.10"
  }
 },
 "nbformat": 4,
 "nbformat_minor": 5
}
