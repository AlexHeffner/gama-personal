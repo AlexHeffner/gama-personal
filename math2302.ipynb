{
 "cells": [
  {
   "cell_type": "markdown",
   "id": "82ed1e85-8e1a-4170-96c3-66417619b209",
   "metadata": {},
   "source": [
    "![Russ College Logo](images/logo.png)"
   ]
  },
  {
   "cell_type": "markdown",
   "id": "524c9edc-9062-4610-9ce5-2f0886fcd4b4",
   "metadata": {},
   "source": [
    "<b>\n",
    "    <p style=\"text-align:center;color:#00694E;font-family:copperplate;font-size:40px\">\n",
    "        MATH 2302 - Calculus II\n",
    "    </p>\n",
    "</b>"
   ]
  },
  {
   "cell_type": "markdown",
   "id": "d4643ed3-efb3-4515-9b5e-f9c79f792804",
   "metadata": {},
   "source": [
    "## **Course Description**\n",
    "Math 2302 - Calculus II is a mathematical requirement for all ungerdatuate computer science students here at Ohio University. To reach this course, you must have taken and passed Math 2301 - Calculus I, or have tested out of it. Math 2302 is offered both through the Russ College of Engineering as well as the Mathematics Department at Ohio University. This course is very fast-paced and can be intimidating at times, but there are plenty of resources throughout the university to help you do well. Branching off from Calculus I where you learn the basic techniques of differentiation and intergration, in Calclus II students will dive deeper into topics like advanced integration, polar coordinates, conic sections, infinite series, and several others. This course requires students to put in a great deal of time and effort, but it is quite rewarding once you are done. If you are interested in Computer Science but are intimidated by all of the mathematics requirements, you shouldn't let it get in your way. There are plenty of resources and people willing to help you succeed on campus."
   ]
  },
  {
   "cell_type": "markdown",
   "id": "532fc090-5030-40e0-b629-7d3ab53e1cce",
   "metadata": {},
   "source": [
    "## **What You'll Learn**\n",
    "..."
   ]
  },
  {
   "cell_type": "markdown",
   "id": "9f2a7f84-db6c-40da-a849-78b64e7d341d",
   "metadata": {},
   "source": [
    "### **Example 1**\n",
    "..."
   ]
  },
  {
   "cell_type": "markdown",
   "id": "ca795623-4271-4d65-871c-44224ffcf137",
   "metadata": {},
   "source": [
    "### **Example 2**\n",
    "..."
   ]
  },
  {
   "cell_type": "markdown",
   "id": "76e441d2-4043-4267-a0e8-89c31aff3721",
   "metadata": {},
   "source": [
    "### **Example 3**\n",
    "..."
   ]
  },
  {
   "cell_type": "markdown",
   "id": "cdb20083-48f6-413b-95fc-2335d6d56c31",
   "metadata": {},
   "source": [
    "## **Conclusion**\n",
    "Math 2302 - Calculus II is one of the more challenging courses in the computer science requirements here at Ohio University, but the problem-solving and analytical skills students will develop after taking this course will undoubtdedly help them to succeed in the rest of the courses they need to take. This course is fast-paced and a direct successor of Math 2301 - Calculus I. So if students do well in Calulus I, they should have no trouble completing this course. The course of objective for students in this course is to gain a vast amount of knowldege in calculus and analytical geometry and be able to apply that knowledge to problems in the sciences and engineering. "
   ]
  },
  {
   "cell_type": "markdown",
   "id": "8de75aae-bb45-41d0-a3c0-58fe8161901c",
   "metadata": {},
   "source": [
    "<b>\n",
    "    <p style=\"text-align:center;color:#00694E;font-family:copperplate;font-size:13px\">\n",
    "        Made in 2022 by Gavin Dassatti, Alex Heffner, Matthew Lang, and Aaron Begy\n",
    "    </p>\n",
    "</b>"
   ]
  }
 ],
 "metadata": {
  "kernelspec": {
   "display_name": "Python 3 (ipykernel)",
   "language": "python",
   "name": "python3"
  },
  "language_info": {
   "codemirror_mode": {
    "name": "ipython",
    "version": 3
   },
   "file_extension": ".py",
   "mimetype": "text/x-python",
   "name": "python",
   "nbconvert_exporter": "python",
   "pygments_lexer": "ipython3",
   "version": "3.9.7"
  }
 },
 "nbformat": 4,
 "nbformat_minor": 5
}
