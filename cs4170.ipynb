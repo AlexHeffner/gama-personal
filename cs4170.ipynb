{
 "cells": [
  {
   "cell_type": "markdown",
   "id": "bd814ce9-d98b-43bf-b3f3-a5397e77bf14",
   "metadata": {
    "deletable": false,
    "editable": false,
    "tags": []
   },
   "source": [
    "![Russ College Logo](images/logo.png)"
   ]
  },
  {
   "cell_type": "markdown",
   "id": "a5d74798-8391-4d68-8e87-ae4386dae497",
   "metadata": {
    "deletable": false,
    "editable": false,
    "tags": []
   },
   "source": [
    "<b>\n",
    "    <p style=\"text-align:center;color:#00694E;font-family:copperplate;font-size:40px\">\n",
    "        CS 4170 - Data Mining with Applications in the Life Sciences\n",
    "    </p>\n",
    "</b>"
   ]
  },
  {
   "cell_type": "markdown",
   "id": "bbdcbeef-b432-486c-b0b7-ca92e3fe87b0",
   "metadata": {
    "tags": []
   },
   "source": [
    "## **Course Description**\n",
    "CS 4170 - Data Mining with Applications in the Life Sciences is a computer science elective offered here at Ohio University that is often taken by undergraduate students in their third or fourth year. If you have ever had any interest in mining data or working with data to solve complex problems, CS 4170 would be the perfect course to take to learn more about it. Students in this course will design and develop their own custom software to solve real-world life science problems. Some of the topics students will cover in this course include: processing DNA sequences and protein sequences, restriction maps, data pipelines, and the Entrez programming utilities. In this class, you will learn about data classification (decision trees and random forests), association rule mining, and data cleaning. CS 4170 is an extremely interesting course where students will learn various data mining techniques to help solve modern problems in the life sciences."
   ]
  },
  {
   "cell_type": "markdown",
   "id": "359a0e1b-b08f-40af-9391-265e2537c8ba",
   "metadata": {
    "tags": []
   },
   "source": [
    "## **Learning Outcomes**\n",
    "- Students will gain the ability to develop programs that combine third party tools to form customized data analysis pipelines\n",
    "- Students will gain the ability to use the programming language to architect and construct software packages that solve computational biology problems\n",
    "- Students will gain the ability to develop programs that perform processing of biological sequence data\n",
    "- Students will learn basic concepts of database management"
   ]
  },
  {
   "cell_type": "markdown",
   "id": "de6ac90f-209b-47ec-b59a-1ca92b6e2630",
   "metadata": {
    "tags": []
   },
   "source": [
    "## **What You'll Learn**"
   ]
  },
  {
   "cell_type": "markdown",
   "id": "f8dc9e34-e1f9-4ea4-abc6-247ea93ec93e",
   "metadata": {},
   "source": [
    "### **Data Classification**\n",
    "..."
   ]
  },
  {
   "cell_type": "markdown",
   "id": "68706b9b-5b55-41fd-aa94-9d08d1532c67",
   "metadata": {},
   "source": [
    "#### **Decision Trees**\n",
    "..."
   ]
  },
  {
   "cell_type": "markdown",
   "id": "dc699fee-ce2a-4e39-a1b3-7ad97041fb1b",
   "metadata": {},
   "source": [
    "#### **Random Forests**\n",
    "..."
   ]
  },
  {
   "cell_type": "markdown",
   "id": "c2290151-f61e-4616-9063-ec2e900eb7bc",
   "metadata": {},
   "source": [
    "### **Association Rule Mining**\n",
    "..."
   ]
  },
  {
   "cell_type": "markdown",
   "id": "5ae3590b-59bb-4b5e-adf8-437c4406da20",
   "metadata": {},
   "source": [
    "### **Data Cleaning**\n",
    "..."
   ]
  },
  {
   "cell_type": "markdown",
   "id": "2bb0e32c-9fd8-409a-8df3-0c73e4692e7b",
   "metadata": {
    "tags": []
   },
   "source": [
    "## **Conclusion**\n",
    "CS 4170 is one of the most interesting computer science electives offered here at Ohio University. If you have ever had any interest working with large data sets or solving problems in the life sciences, you should seriously consider taking this course. Topics in this class include data classification, association rule mining, data cleaning, and more! Also, one of the best parts about this course in particular is that students get to learn how to contribute to the world of life sciences by using software to solve modern day problems."
   ]
  },
  {
   "cell_type": "markdown",
   "id": "7e4c27b7-5720-4d75-b739-583294d66e25",
   "metadata": {
    "deletable": false,
    "editable": false,
    "tags": []
   },
   "source": [
    "<b>\n",
    "    <p style=\"text-align:center;color:#00694E;font-family:copperplate;font-size:13px\">\n",
    "        Made in 2022 by Gavin Dassatti, Alex Heffner, Matthew Lang, and Aaron Begy\n",
    "    </p>\n",
    "</b>"
   ]
  }
 ],
 "metadata": {
  "kernelspec": {
   "display_name": "Python 3 (ipykernel)",
   "language": "python",
   "name": "python3"
  },
  "language_info": {
   "codemirror_mode": {
    "name": "ipython",
    "version": 3
   },
   "file_extension": ".py",
   "mimetype": "text/x-python",
   "name": "python",
   "nbconvert_exporter": "python",
   "pygments_lexer": "ipython3",
   "version": "3.9.10"
  }
 },
 "nbformat": 4,
 "nbformat_minor": 5
}
