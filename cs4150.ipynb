{
 "cells": [
  {
   "cell_type": "markdown",
   "id": "1b982298-1cf7-4138-99ad-2981ba8dc56e",
   "metadata": {},
   "source": [
    "![CS 4150](images/cs4150-title.png)"
   ]
  },
  {
   "cell_type": "markdown",
   "id": "d5226e2a-da3d-4a86-94c4-a7448278d90c",
   "metadata": {},
   "source": [
    "## **Course Description**\n",
    "CS 4900 - Data Science is an elective course in Ohio University's computer science program. Students who complete this course will gain a thorough understanding of algorithmic techniques and processes for data science by implementing them and by applying them to solve real world problems. Students will gain not only an understanding of data science models and methods, but they also will learn how to perform analyses to answer domain research questions and to effectively communicate insights that result from their analyses. Students will be able to clean, preprocess, and explore real world data sets. Students will be able to implement algorithms that provide computational models for graph analytics and for clustering. Students will be able to characterize the statistical significance of their computational models. Finally, students will be able to visualize and interpret the significance of the computational models in authentic domains. "
   ]
  },
  {
   "cell_type": "markdown",
   "id": "84e1e29f-1cd9-4ea7-a999-537f65f1ecf8",
   "metadata": {},
   "source": [
    "## **What You'll Learn**\n",
    "..."
   ]
  },
  {
   "cell_type": "markdown",
   "id": "7e6a2b3a-06b8-43c2-8666-772f8d57bc02",
   "metadata": {},
   "source": [
    "## **Conclusion**\n",
    "..."
   ]
  }
 ],
 "metadata": {
  "kernelspec": {
   "display_name": "Python 3 (ipykernel)",
   "language": "python",
   "name": "python3"
  },
  "language_info": {
   "codemirror_mode": {
    "name": "ipython",
    "version": 3
   },
   "file_extension": ".py",
   "mimetype": "text/x-python",
   "name": "python",
   "nbconvert_exporter": "python",
   "pygments_lexer": "ipython3",
   "version": "3.9.9"
  }
 },
 "nbformat": 4,
 "nbformat_minor": 5
}
